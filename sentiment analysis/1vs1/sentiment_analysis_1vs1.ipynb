{
 "cells": [
  {
   "cell_type": "markdown",
   "id": "optical-antenna",
   "metadata": {},
   "source": [
    "# Table of contents\n",
    "1. [Dataset Parsing](#vocab)\n",
    "2. [Quantum Circuits](#circuit)\n",
    "3. [Process Dataset](#dataset)\n",
    "4. [Optimization](#optimization)\n",
    "5. [Results](#results)"
   ]
  },
  {
   "cell_type": "markdown",
   "id": "3ab743d7",
   "metadata": {},
   "source": [
    "# Sentiment analysis\n",
    "\n",
    "Sentiment analysis is a natural language processing (NLP) technique to determine the sentiment of a sentence. In this implementation, we propose to use quantum natural language processing (QNLP) as an alternative to solve this problem. QNLP enables the resolution of NLP tasks taking advantage of the inherent quantum nature of language, allowing to take into account the grammar of sentences and to work in an exponentially large Hilbert space, easing the memory problems of its classical counterpart.\n",
    "\n",
    "In this Jupyter Notebook we show how to solve a sentiment analysis problem. More concretely, it is a multi-class classification task where the sentences of a dataset are divided into four categories: happy, sad, angry and scared. As a reference for the resolution of this problem we use the paper by Lorenz et al https://arxiv.org/abs/2102.12846, where they solve a binary classification problem. Their code and resources can be found in https://github.com/CQCL/qnlp_lorenz_etal_2021_resources."
   ]
  },
  {
   "cell_type": "markdown",
   "id": "peripheral-league",
   "metadata": {},
   "source": [
    "## 1. Parse Vocabulary and Grammar <a name=\"vocab\"></a>\n",
    "\n",
    "\n",
    "The first step is to create the dataset for our task. It is important to create a balanced dataset suitable for this problem. In order to do that, we have chosen the following words\n",
    " \n",
    "| Nouns | Verbs | Adjectives |\n",
    "| --- | --- | --- |\n",
    "| Man | cries | morose |\n",
    "| Woman | laughs | irascible |\n",
    "| Kid | shouts | frightened |\n",
    "|  | snaps | cheerful |\n",
    "|  | entertains | gloomy |\n",
    "|  | grieves | furious |\n",
    "|  | startles | terrified |\n",
    "|  | irritates |joyful|\n",
    "|  |  | downcast|\n",
    "|  |  | miserable|\n",
    "|  |  | old|\n",
    "|  |  | young|\n",
    "\n",
    "We can observe that we have three different types of words: nouns, verbs and adjectives. The information regarding the meaning of the sentence is going to be given by the verb, the adjective or the combination of both, as there are verbs that can be used to express more than one feeling, or adjectives that show no sentiment ('young', 'old')\n",
    "\n",
    "The proposed vocabulary has 23 words, with which we write 366 sentences, for example\n",
    "\n",
    "\n",
    "- Morose man cries. (morose)\n",
    "- Irascible woman shouts. (irascible)\n",
    "- Frightened woman shouts. (frightened)\n",
    "- Joyful kid laughs. (joyful, laughs)\n",
    "- Furious man snaps. (furious)\n",
    "- Kid startles man. (startles)\n",
    "- Woman grieves man. (grieves)\n",
    "...\n",
    "\n",
    "The brackets indicate the word or words that enclose the sentiment in each example.\n",
    "\n",
    "We are going to consider four classes of sentences:\n",
    "- Adj + Subject + Intransitive verb\n",
    "- Subject + Transitive verb + Object\n",
    "- Adjective + Subject + Transitive verb + Object\n",
    "- Subject + Transitive verb + Adjective + Object\n",
    "\n",
    "The steps to construct the dataset are the following ones. We first store the words in DisCoPy's Word objects, encoding their meaning (name) and their grammar (codomain). Then, we introduce the grammar of the allowed sentences and create all the possible grammatical sentences. The next step is to assign a sentiment to each sentence. However, there are sentences that although they are grammatically correct, their meaning makes no sense, so we would have to remove them. "
   ]
  },
  {
   "cell_type": "markdown",
   "id": "narrative-picking",
   "metadata": {},
   "source": [
    "### 1.1. Define the vocabulary\n",
    "\n",
    "The first step to create a dataset is to define the words, their meaning and the word type. We have four three types of words: nouns, adjectives, verbs. We also distinguish two different types of verbs: transitive and intransitive. "
   ]
  },
  {
   "cell_type": "code",
   "execution_count": 1,
   "id": "ranking-integral",
   "metadata": {},
   "outputs": [],
   "source": [
    "import numpy as np\n",
    "import pickle"
   ]
  },
  {
   "cell_type": "code",
   "execution_count": 2,
   "id": "handled-niagara",
   "metadata": {},
   "outputs": [],
   "source": [
    "from discopy import Ty, Word # Import the classes for the type of word and for the word\n",
    "\n",
    "s, n = Ty('s'), Ty('n') # Define the types s and n\n",
    "\n",
    "# Define the words\n",
    "# Nouns\n",
    "man, woman, kid = Word('man', n), Word('woman', n), Word('kid', n)\n",
    "\n",
    "# Adjectives\n",
    "morose, irascible = Word('morose', n @ n.l), Word('irascible', n @ n.l)\n",
    "frightened, cheerful = Word('frightened', n @ n.l), Word('cheerful', n @ n.l)\n",
    "gloomy, furious = Word('gloomy', n @ n.l), Word('furious', n @ n.l)\n",
    "terrified, joyful = Word('terrified', n @ n.l), Word('joyful', n @ n.l)\n",
    "downcast, miserable = Word('downcast', n @ n.l), Word('miserable', n @ n.l)\n",
    "\n",
    "old, young = Word('old', n @ n.l), Word('young', n @ n.l)\n",
    "# Intransitive verbs\n",
    "cries, shouts = Word('cries', n.r @ s), Word('shouts', n.r @ s)\n",
    "laughs, snaps = Word('laughs', n.r @ s), Word('snaps', n.r @ s)\n",
    "\n",
    "# Transitive verbs\n",
    "grieves, startles = Word('grieves', n.r @ s @ n.l), Word('startles', n.r @ s @ n.l)\n",
    "entertains, irritates = Word('entertains', n.r @ s @ n.l), Word('irritates', n.r @ s @ n.l)\n",
    "\n",
    "nouns = [man, woman, kid]\n",
    "adjectives = [morose, irascible, frightened, cheerful, gloomy, furious, terrified, joyful, downcast, miserable, old, young]\n",
    "int_verbs = [cries, shouts, laughs, snaps]\n",
    "t_verbs = [grieves, startles, entertains, irritates]\n",
    "\n",
    "vocab = nouns + int_verbs + t_verbs + adjectives"
   ]
  },
  {
   "cell_type": "markdown",
   "id": "empty-wrapping",
   "metadata": {},
   "source": [
    "### 1.2. Define the grammar\n",
    "\n",
    "Each type of sentence has an associated grammar depending on the relations among the words that compound them."
   ]
  },
  {
   "cell_type": "markdown",
   "id": "beneficial-vienna",
   "metadata": {},
   "source": [
    "- Intransitive sentence\n",
    "\n",
    "Adj + Subject + Intransitive verb"
   ]
  },
  {
   "cell_type": "code",
   "execution_count": 3,
   "id": "fitting-firewall",
   "metadata": {},
   "outputs": [
    {
     "data": {
      "image/png": "[encoded data removed]",
      "text/plain": [
       "<Figure size 432x288 with 1 Axes>"
      ]
     },
     "metadata": {
      "needs_background": "light"
     },
     "output_type": "display_data"
    }
   ],
   "source": [
    "from discopy import Cup, Id, pregroup\n",
    "\n",
    "grammar =  Id(n) @ Cup(n.l, n) @ Id(n.r @ s) >> Cup(n, n.r) @ Id(s) >> Id(s)\n",
    "sentence = joyful @ woman @ laughs >> grammar\n",
    "pregroup.draw(sentence)"
   ]
  },
  {
   "cell_type": "markdown",
   "id": "modified-appointment",
   "metadata": {},
   "source": [
    "- Transitive sentence\n",
    "\n",
    "- Subject + Transitive verb + Object"
   ]
  },
  {
   "cell_type": "code",
   "execution_count": 4,
   "id": "sunrise-running",
   "metadata": {},
   "outputs": [
    {
     "data": {
      "image/png": "[encoded data removed]",
      "text/plain": [
       "<Figure size 432x288 with 1 Axes>"
      ]
     },
     "metadata": {
      "needs_background": "light"
     },
     "output_type": "display_data"
    }
   ],
   "source": [
    "grammar =  Cup(n, n.r) @ Id(s) @ Cup(n.l, n)\n",
    "sentence = woman @ grieves @ kid >> grammar\n",
    "pregroup.draw(sentence)"
   ]
  },
  {
   "cell_type": "markdown",
   "id": "f731f154",
   "metadata": {},
   "source": [
    "Adjective + Subject + Transitive verb + Object"
   ]
  },
  {
   "cell_type": "code",
   "execution_count": 5,
   "id": "minor-mobile",
   "metadata": {
    "tags": []
   },
   "outputs": [
    {
     "data": {
      "image/png": "[encoded data removed]",
      "text/plain": [
       "<Figure size 432x288 with 1 Axes>"
      ]
     },
     "metadata": {
      "needs_background": "light"
     },
     "output_type": "display_data"
    }
   ],
   "source": [
    "grammar =  Id(n) @ Cup(n.l, n) @ Id(n.r @ s) @ Cup(n.l, n) >> Cup(n, n.r) @ Id(s) >> Id(s)\n",
    "sentence = morose @ woman @ grieves @ kid >> grammar\n",
    "pregroup.draw(sentence)"
   ]
  },
  {
   "cell_type": "markdown",
   "id": "d0f45586",
   "metadata": {},
   "source": [
    "Subject + Transitive verb + Adjective + Object"
   ]
  },
  {
   "cell_type": "code",
   "execution_count": 6,
   "id": "russian-remains",
   "metadata": {},
   "outputs": [
    {
     "data": {
      "image/png": "[encoded data removed]",
      "text/plain": [
       "<Figure size 432x288 with 1 Axes>"
      ]
     },
     "metadata": {
      "needs_background": "light"
     },
     "output_type": "display_data"
    }
   ],
   "source": [
    "grammar =  Cup(n, n.r) @ Id(s) @ Cup(n.l, n) @ Cup(n.l, n) >> Id(s)\n",
    "sentence =  man @ grieves @ morose @ man >> grammar\n",
    "pregroup.draw(sentence)"
   ]
  },
  {
   "cell_type": "markdown",
   "id": "disciplinary-defendant",
   "metadata": {},
   "source": [
    "Now we have seen how the grammatical structure of each type of sentence is, so we are ready to obtain all the grammatical sentences that we can construct with them with the vocabulary that we are using. "
   ]
  },
  {
   "cell_type": "code",
   "execution_count": 7,
   "id": "automotive-ready",
   "metadata": {},
   "outputs": [],
   "source": [
    "# Store the grammatical structures in a dictionary \n",
    "\n",
    "grammar_dict = {\n",
    "    'ADJ_N_IV' : Id(n) @ Cup(n.l, n) @ Id(n.r @ s) >> Cup(n, n.r) @ Id(s) >> Id(s),\n",
    "    'N_TV_N': Cup(n, n.r) @ Id(s) @ Cup(n.l, n),\n",
    "    'ADJ_N_TV_N': Id(n) @ Cup(n.l, n) @ Id(n.r @ s) @ Cup(n.l, n) >> Cup(n, n.r) @ Id(s) >> Id(s),\n",
    "    'N_TV_ADJ_N': Cup(n, n.r) @ Id(s) @ Cup(n.l, n) @ Cup(n.l, n) >> Id(s)}\n",
    "                                                                          \n",
    "\n",
    "# Create parsing (grammatical analysis) dictionary where the grammatical sentences\n",
    "# are the keys and the associated values are the diagrams (words + grammar)\n",
    "\n",
    "data_psr = {}\n",
    "\n",
    "# Intransitive sentences\n",
    "parsing_int = {\"{} {} {}.\".format(adj, noun, int_verb): adj @ noun @ int_verb >> grammar_dict['ADJ_N_IV']\n",
    "            for adj in adjectives for noun in nouns for int_verb in int_verbs}\n",
    "sentences_int = list(parsing_int.keys())\n",
    "for sentence in sentences_int:\n",
    "    diagram = parsing_int[sentence]\n",
    "    data_psr[sentence] = parsing_int[sentence]\n",
    "\n",
    "# Transitive sentences (without adjective)\n",
    "parsing_tra = {\"{} {} {}.\".format(subj, t_verb, obj):  subj @ t_verb @ obj >> grammar_dict['N_TV_N']\n",
    "            for subj in nouns for t_verb in t_verbs for obj in nouns}\n",
    "\n",
    "\n",
    "# Transitive sentences (with adjective)\n",
    "parsing_tra_ladj = {\"{} {} {} {}.\".format(adj, subj, t_verb, obj):  adj @ subj @ t_verb @ obj >> grammar_dict['ADJ_N_TV_N']\n",
    "            for adj in adjectives for subj in nouns for t_verb in t_verbs for obj in nouns}\n",
    "parsing_tra_radj = {\"{} {} {} {}.\".format(subj, t_verb, adj, obj):  subj @ t_verb @ adj @ obj >> grammar_dict['N_TV_ADJ_N']\n",
    "            for subj in nouns for t_verb in t_verbs for adj in adjectives for obj in nouns}\n",
    "\n",
    "parsing_tra.update(parsing_tra_ladj) #merges transitive adjectives into original dict\n",
    "parsing_tra.update(parsing_tra_radj)\n",
    "\n",
    "sentences_tra = list(parsing_tra.keys())\n",
    "for sentence in sentences_tra:\n",
    "    diagram = parsing_tra[sentence]\n",
    "    data_psr[sentence] = parsing_tra[sentence]"
   ]
  },
  {
   "cell_type": "markdown",
   "id": "hired-collective",
   "metadata": {},
   "source": [
    "Now, we have the dataset with the sentences and their corresponding meaning and grammar. We are aiming to distinguish between four different emotions: happy (0), sad (1), angry (2), scared (3). However, some sentences of the dataset cannot be clearly classified according to this criteria (for example, 'Old man shouts'). Therefore, the next step is to manually modify the dataset so all the sentences can be classified according to this criteria. In order to do that we will create a .txt file and assign the corresponding class to the viable sentences. The result is the sentiment_analysis_dataset.txt. "
   ]
  },
  {
   "cell_type": "markdown",
   "id": "perceived-amplifier",
   "metadata": {},
   "source": [
    "### 1.3. Process the data\n",
    "\n",
    "The next step is to upload the dataset and process the data so it is written in the more efficient way."
   ]
  },
  {
   "cell_type": "code",
   "execution_count": 8,
   "id": "operational-porcelain",
   "metadata": {},
   "outputs": [],
   "source": [
    "with open('../sentiment_analysis_dataset.txt') as f:\n",
    "    data = f.readlines()"
   ]
  },
  {
   "cell_type": "code",
   "execution_count": 9,
   "id": "negative-bandwidth",
   "metadata": {},
   "outputs": [],
   "source": [
    "labels_dict = {} # Dictionary with the labels for each sentence\n",
    "data_psr_dict = {} # Dictionary with the parsing for each sentence\n",
    "sent_type = {} # Dictionary with the sentence type for each sentence\n",
    "\n",
    "\n",
    "adjective_words = [a.name for a in adjectives]\n",
    "for sentence in data:\n",
    "    sentstr = sentence[:-7] #seperates the sentence string from the data at the end\n",
    "    if sentence[-6:-3] == 'int':\n",
    "        diagram = parsing_int[sentstr]\n",
    "        data_psr_dict[sentstr] = diagram\n",
    "        labels_dict[sentstr] = sentence[-2]\n",
    "        sent_type[sentstr] = 'int'\n",
    "    elif sentence[-6:-3] == 'tra':\n",
    "        diagram = parsing_tra[sentstr]\n",
    "        data_psr_dict[sentstr] = diagram\n",
    "        labels_dict[sentstr] = sentence[-2]\n",
    "\n",
    "        if len(sentstr.split()) == 4:\n",
    "            if sentstr.split()[0] in adjective_words:\n",
    "                sent_type[sentstr] = 'tra_' + 'l' #adjective on the left\n",
    "            else:\n",
    "                sent_type[sentstr] = 'tra_' + 'r' #adjective on the right\n",
    "        else:\n",
    "            sent_type[sentstr] = 'tra' #the simple transitive verb sentence type\n",
    "            "
   ]
  },
  {
   "cell_type": "code",
   "execution_count": 10,
   "id": "bronze-modern",
   "metadata": {},
   "outputs": [
    {
     "name": "stdout",
     "output_type": "stream",
     "text": [
      "Number of elements for each sentiment\n",
      "Happy:  90\n",
      "Sad:  96\n",
      "Angry:  93\n",
      "Scared:  87\n",
      "Total:  366\n"
     ]
    }
   ],
   "source": [
    "c0 = 0\n",
    "c1 = 0\n",
    "c2 = 0\n",
    "c3 = 0\n",
    "for value in labels_dict.values():\n",
    "    if value == '0':\n",
    "        c0 +=1\n",
    "    elif value == '1':\n",
    "        c1 += 1\n",
    "    elif value == '2':\n",
    "        c2 += 1\n",
    "    elif value == '3':\n",
    "        c3 += 1\n",
    "print('Number of elements for each sentiment')\n",
    "print('Happy: ', c0)\n",
    "print('Sad: ', c1)\n",
    "print('Angry: ', c2)\n",
    "print('Scared: ', c3)\n",
    "print('Total: ', len(data_psr_dict))"
   ]
  },
  {
   "cell_type": "markdown",
   "id": "incoming-paradise",
   "metadata": {},
   "source": [
    "Now we have our dataset! The only problem left is the fact that the cups used in the diagrams are too resource consumming. Luckily, it is possible to remove them by transforming the states into effects (we are just doing this with the nouns as in https://github.com/CQCL/qnlp_lorenz_etal_2021_resources). Let us see some examples"
   ]
  },
  {
   "cell_type": "code",
   "execution_count": 11,
   "id": "current-cement",
   "metadata": {},
   "outputs": [],
   "source": [
    "from discopy import Cap, Box"
   ]
  },
  {
   "cell_type": "markdown",
   "id": "determined-matthew",
   "metadata": {},
   "source": [
    "Let us apply this to our entire dataset."
   ]
  },
  {
   "cell_type": "code",
   "execution_count": 12,
   "id": "elegant-domain",
   "metadata": {},
   "outputs": [],
   "source": [
    "# Code of this cell addapted from https://github.com/CQCL/qnlp_lorenz_etal_2021_resources\n",
    "\n",
    "data_new_psr_dict = {}\n",
    "for sentstr in data_psr_dict.keys():\n",
    "    num_words = len(sentstr.split(' '))\n",
    "    words = data_psr_dict[sentstr].boxes[:num_words]\n",
    "    if sent_type[sentstr] == 'int':\n",
    "        noun = Box(words[1].name, n.l, Ty()) \n",
    "        words_new = (Cap(n, n.l)) >> (words[0] @ Id(n) @ noun @ words[2]) # Rearranged words\n",
    "        sentence = words_new >> grammar_dict['ADJ_N_IV'] # Apply grammar on rearranged words\n",
    "        data_new_psr_dict[sentstr] = sentence.normal_form() # Store sentece with optimum diagram\n",
    "    elif 'tra' in sent_type[sentstr]:\n",
    "        if sent_type[sentstr] == 'tra':\n",
    "            noun1 = Box(words[0].name, n.r, Ty())\n",
    "            noun2 = Box(words[2].name, n.l, Ty())\n",
    "            words_new = (Cap(n.r, n) @ Cap(n, n.l)) >> (noun1 @ Id(n) @ words[1] @ Id(n) @ noun2)\n",
    "            sentence = words_new >> grammar_dict['N_TV_N']\n",
    "            data_new_psr_dict[sentstr] = sentence.normal_form()\n",
    "        elif sent_type[sentstr] == 'tra_l': #adjective at beginning\n",
    "            noun1 = Box(words[1].name, n.l, Ty())\n",
    "            noun2 = Box(words[3].name, n.l, Ty())\n",
    "            words_new = (Cap(n, n.l) @ Cap(n, n.l)) >> (words[0] @ Id(n) @ noun1 @ words[2] @ Id(n) @ noun2)\n",
    "            sentence = words_new >> grammar_dict['ADJ_N_TV_N']\n",
    "            data_new_psr_dict[sentstr] = sentence.normal_form()\n",
    "        elif sent_type[sentstr] == 'tra_r': #adjective on second noun\n",
    "            noun1 = Box(words[0].name, n.r, Ty())\n",
    "            noun2 = Box(words[3].name, n.l, Ty())\n",
    "            words_new = (Cap(n.r, n) @ Cap(n, n.l)) >> (noun1 @ Id(n) @ words[1] @ words[2] @ Id(n) @ noun2)\n",
    "            sentence = words_new >> grammar_dict['N_TV_ADJ_N']\n",
    "            data_new_psr_dict[sentstr] = sentence.normal_form() "
   ]
  },
  {
   "cell_type": "markdown",
   "id": "considered-request",
   "metadata": {},
   "source": [
    "The final step before the implementation of the quantum circuit is to redefine the vocabulary according to the new domain and codamain for the nouns as effects."
   ]
  },
  {
   "cell_type": "code",
   "execution_count": 13,
   "id": "decent-value",
   "metadata": {},
   "outputs": [],
   "source": [
    "# Code of this cell from https://github.com/CQCL/qnlp_lorenz_etal_2021_resources\n",
    "\n",
    "vocab_psr = []\n",
    "for word in vocab:\n",
    "    if word.cod == Ty('n'):\n",
    "        vocab_psr.append(Box(word.name, n.r, Ty()))   # n.l case is dealt with in definition of quantum functor\n",
    "    else:\n",
    "        vocab_psr.append(word)"
   ]
  },
  {
   "attachments": {
    "6975af63-3ff6-4f13-ae8a-14eca0e1db8b.png": {
     "image/png": "[encoded data removed]"
    },
    "image.png": {
     "image/png": "[encoded data removed]"
    }
   },
   "cell_type": "markdown",
   "id": "inclusive-manhattan",
   "metadata": {},
   "source": [
    "## 2. Create quantum circuits <a name=\"circuit\"></a>\n",
    "\n",
    "Once the dataset and its corresponding diagrams are created, the next step is to construct the variational quantum circuits associated with the words in it. In order to do that, we will use different ansätze depending on the type of the word that we want to represent. In this case we have three types of words: nouns, adjectives and verbs. Before deciding which kind of circuit is associated to each of them, it is necessary to discuss the multi-class classification approach that we will use. In this notebook, we apply what is known as one versus one (OvO or 1vs1) multi-class classification. This multi-class classification scheme consists on training $N(N-1)/2$ binary classifiers, where $N$ is the number of classes. Each binary classifier is trained for a subset of the training dataset where just two classes are considered. After all the classifiers are trained, the test set is evaluated for each of them, and the label that is obtained a greater number of times is assigned as the predicted label. When there is no winning label, it is randomly assigned among the most obtained ones.\n",
    "\n",
    "![image.png](attachment:6975af63-3ff6-4f13-ae8a-14eca0e1db8b.png)\n",
    "\n",
    "The supervised learning is carried out using a hybrid quantum-classical algorithm in which a classical optimizer (SPSA) updates the parameters of the variational quantum circuits encoding the sentences according to a cost function that uses the values of the evaluations of the circuits. This is basically a variational quantum eigensolver, but instead of optimizing just one circuit, we optimize as many circuits as sentences in the dataset.\n",
    "\n",
    "![image.png](attachment:image.png)\n",
    "\n",
    "As we will be using binary classifiers, we can encode both $n$ and $s$ types in 1 qubit, as we only have two labels and we just need a 1-qubit state for the postselection to obtain the prediction from the quantum circuit. Therefore, we resort to the code for the mc_task in https://github.com/CQCL/qnlp_lorenz_etal_2021_resources to define the ansätze associated to each word type. More concretely, we will use the IQP ansatz with 3 parameters for the single qubit case."
   ]
  },
  {
   "cell_type": "code",
   "execution_count": 14,
   "id": "crude-philippines",
   "metadata": {
    "lines_to_next_cell": 2
   },
   "outputs": [],
   "source": [
    "# Code of this cell from https://github.com/CQCL/qnlp_lorenz_etal_2021_resources\n",
    "\n",
    "#*****************************************************\n",
    "# Translation to quantum circuits\n",
    "#*****************************************************\n",
    "\n",
    "from discopy.quantum import Ket, IQPansatz, Bra, qubit\n",
    "from discopy.quantum.circuit import Functor, Id\n",
    "from discopy.quantum.circuit import Circuit\n",
    "from functools import reduce, partial\n",
    "from discopy.quantum.gates import Rx, Rz\n",
    "\n",
    "q_s = 1 # number of qubits for type s (sentence)\n",
    "q_n = 1 # number of qubits for type n (noun)\n",
    "depth = 1 # depth of the IQPansatz\n",
    "p_n = 3 # number of parameters for the single qubit iqp ansatz\n",
    "\n",
    "# Define the dimensions of the objects of the circuit functor\n",
    "ob = {s: q_s, n: q_n}                          \n",
    "ob_cqmap = {s: qubit ** q_s, n: qubit ** q_n}   \n",
    "\n",
    "#-----------------------------------------\n",
    "# parametrised part of ansaetze\n",
    "#-----------------------------------------\n",
    "\n",
    "def single_qubit_iqp_ansatz(params):\n",
    "    if len(params) == 1:\n",
    "        return Rx(params[0])  \n",
    "    if len(params) == 2:\n",
    "        return Rx(params[0]) >> Rz(params[1])\n",
    "    if len(params) == 3:\n",
    "        return IQPansatz(1, params)     \n",
    "    \n",
    "def ansatz_state(state, params):\n",
    "    arity = sum(ob[Ty(factor.name)] for factor in state.cod) \n",
    "    if arity == 1:\n",
    "        return Ket(0) >> single_qubit_iqp_ansatz(params)\n",
    "    return Ket(*tuple([0 for i in range(arity)])) >> IQPansatz(arity, params)\n",
    "    \n",
    "def ansatz_effect(effect, params): \n",
    "    arity = sum(ob[Ty(factor.name)] for factor in effect.dom)\n",
    "    if arity == 1:\n",
    "        return single_qubit_iqp_ansatz(params) >> Bra(0)\n",
    "    return IQPansatz(arity, params) >> Bra(*tuple([0 for i in range(arity)]))\n",
    "       \n",
    "def ansatz(box,params):\n",
    "    dom_type = box.dom\n",
    "    cod_type = box.cod\n",
    "    if len(dom_type) == 0 and len(cod_type) != 0:\n",
    "        return ansatz_state(box, params)\n",
    "    if len(dom_type) != 0 and len(cod_type) == 0:\n",
    "        return ansatz_effect(box, params)\n",
    "\n",
    "#----------------------------------------------------------\n",
    "# Define parametrised functor to quantum circuits\n",
    "#----------------------------------------------------------def F(params): \n",
    "def F(params): \n",
    "    ar = dict()\n",
    "    for i in range(len(vocab_psr)):\n",
    "        pgbox = vocab_psr[i]\n",
    "        qbox = ansatz(vocab_psr[i], params[i])\n",
    "        ar.update({pgbox: qbox})\n",
    "        if pgbox.cod == Ty():\n",
    "            ar.update({Box(pgbox.name, n.l, Ty()): qbox})  # send the effect with n.l to same quantum effect\n",
    "    return Functor(ob_cqmap, ar)"
   ]
  },
  {
   "cell_type": "code",
   "execution_count": 15,
   "id": "intimate-relationship",
   "metadata": {
    "lines_to_next_cell": 2
   },
   "outputs": [],
   "source": [
    "# Code of this cell from https://github.com/CQCL/qnlp_lorenz_etal_2021_resources\n",
    "\n",
    "#*****************************************************\n",
    "# Functions to deal with the parametrisation\n",
    "#*****************************************************\n",
    "def paramshapes(vocab_psr):\n",
    "    parshapes = []    \n",
    "    for box in vocab_psr:\n",
    "        dom_type = box.dom\n",
    "        cod_type = box.cod\n",
    "        dom_arity = sum(ob[Ty(factor.name)] for factor in box.dom)\n",
    "        cod_arity = sum(ob[Ty(factor.name)] for factor in box.cod)\n",
    "        if dom_arity == 0 or cod_arity == 0:  # states and effects\n",
    "            arity = max(dom_arity, cod_arity)\n",
    "            assert arity != 0\n",
    "            if arity == 1:\n",
    "                parshapes.append((p_n,))       \n",
    "            if arity != 1:\n",
    "                parshapes.append((depth, arity-1))\n",
    "    return parshapes\n",
    "\n",
    "def randparams(par_shapes):\n",
    "    params = np.array([]) \n",
    "    for i in range(len(par_shapes)):\n",
    "        params = np.concatenate((params, np.ravel(np.random.rand(*par_shapes[i])))) # np.ravel flattens an array\n",
    "    return params \n",
    "\n",
    "def reshape_params(unshaped_pars, par_shapes):\n",
    "    pars_reshaped = [[] for ii in range(len(par_shapes))]\n",
    "    shift = 0\n",
    "    for ss, s in enumerate(par_shapes):\n",
    "        idx0 = 0 + shift\n",
    "        if len(s) == 1:\n",
    "            idx1 = s[0] + shift\n",
    "        elif len(s) == 2:\n",
    "            idx1 = s[0] * s[1] + shift\n",
    "        pars_reshaped[ss] = np.reshape(unshaped_pars[idx0:idx1], s)\n",
    "        if len(s) == 1:\n",
    "            shift += s[0]\n",
    "        elif len(s) == 2:\n",
    "            shift += s[0] * s[1]\n",
    "    return pars_reshaped"
   ]
  },
  {
   "cell_type": "code",
   "execution_count": 16,
   "id": "medieval-transcription",
   "metadata": {
    "lines_to_next_cell": 2,
    "tags": []
   },
   "outputs": [
    {
     "name": "stdout",
     "output_type": "stream",
     "text": [
      "Number of parameters:     33\n"
     ]
    }
   ],
   "source": [
    "# Code of this cell from https://github.com/CQCL/qnlp_lorenz_etal_2021_resources\n",
    "\n",
    "#****************************************\n",
    "# Parameters of the current model\n",
    "#****************************************\n",
    "\n",
    "par_shapes = paramshapes(vocab_psr)\n",
    "rand_unshaped_pars = randparams(par_shapes)\n",
    "rand_shaped_pars = reshape_params(rand_unshaped_pars, par_shapes)\n",
    "\n",
    "print('Number of parameters:    ', len(rand_unshaped_pars))"
   ]
  },
  {
   "cell_type": "markdown",
   "id": "cutting-aerospace",
   "metadata": {},
   "source": [
    "## 3. Create training and test dataset <a name=\"dataset\"></a>\n",
    "\n",
    "The next step is to divide our dataset into training and test data, so we can perform the classification using a supervised quantum machine learning technique. We need the data, which are the quantum circuits associated to each sentences, and the labels, that encode the sentiment. In this case the labels are \n",
    "\n",
    "- Happy: $ \\ 0 \\ \\rightarrow \\ |00\\rangle = [1,0,0,0] \\ \\rightarrow \\ p_{00}=1$,\n",
    "- Sad: $ \\ 1 \\ \\rightarrow \\ |01\\rangle = [0,1,0,0] \\ \\rightarrow \\ p_{01}=1$,\n",
    "- Angry: $ \\ 2 \\ \\rightarrow \\ |10\\rangle = [0,0,1,0] \\ \\rightarrow \\ p_{10}=1$,\n",
    "- Scared: $ \\ 3 \\ \\rightarrow \\ |11\\rangle = [0,0,0,1] \\ \\rightarrow \\ p_{11}=1$."
   ]
  },
  {
   "cell_type": "code",
   "execution_count": 17,
   "id": "1e5ff64c",
   "metadata": {},
   "outputs": [],
   "source": [
    "from sklearn.model_selection import train_test_split\n",
    "\n",
    "psr_diagrams = []\n",
    "psr_diagrams_dict = {}\n",
    "psr_labels = []\n",
    "sentences = []\n",
    "\n",
    "for sentstr in data_new_psr_dict.keys():\n",
    "    sentences.append(sentstr)\n",
    "    diagram = data_new_psr_dict[sentstr]\n",
    "    psr_diagrams.append(diagram)\n",
    "    psr_diagrams_dict[sentstr] = diagram\n",
    "    if labels_dict[sentstr] == '0':\n",
    "        label = np.array([1,0])\n",
    "    elif labels_dict[sentstr] == '1':\n",
    "        label = np.array([0,1])\n",
    "    psr_labels.append(label)\n",
    "\n",
    "train_data_psr, test_data_psr, train_labels, test_labels = \\\n",
    "    train_test_split(psr_diagrams, psr_labels, test_size=0.25, random_state=42)"
   ]
  },
  {
   "cell_type": "markdown",
   "id": "745b4eb9",
   "metadata": {},
   "source": [
    "Once the dataset is divided into training and testing data, we subdivide the training data into six binary datasets of the form train_sentiment1_vs_sentiment2.txt. We perform the binary classification for each of them, with labels\n",
    "\n",
    "- Sentiment 1: $ \\ 0 \\ \\rightarrow \\ |0\\rangle = [1,0] \\ \\rightarrow \\ p_{0}=1$,\n",
    "- Sentiment 2: $ \\ 1 \\ \\rightarrow \\ |1\\rangle = [0,1] \\ \\rightarrow \\ p_{1}=1$,\n",
    "\n",
    "that correspond to the two outcomes of the measurement of 1 post-selected qubit."
   ]
  },
  {
   "cell_type": "markdown",
   "id": "adolescent-helena",
   "metadata": {},
   "source": [
    "## 4. Hybrid quantum-classical variational algorithm  <a name=\"optimization\"></a>\n",
    "\n",
    "In this section we describe how to use Qiskit to create a hybrid quantum-classical variational algorithm to obtain the results of the sentiment analysis for each classifier. \n",
    "\n",
    "First, we download the necessary packages. In order to apply the noisy simulator of the ibmq_16_melbourne quantum computer, remove the #, or use noise_model_melbourne.pkl (the one we used, the noise model of that device with data 2/06/2021)."
   ]
  },
  {
   "cell_type": "code",
   "execution_count": 18,
   "id": "obvious-protest",
   "metadata": {
    "tags": []
   },
   "outputs": [
    {
     "name": "stderr",
     "output_type": "stream",
     "text": [
      "C:\\Users\\Paula\\Anaconda3\\envs\\qnlp\\lib\\site-packages\\qiskit\\aqua\\operators\\operator_globals.py:48: DeprecationWarning: `from_label` is deprecated and will be removed no earlier than 3 months after the release date. Use Pauli(label) instead.\n",
      "  X = make_immutable(PrimitiveOp(Pauli.from_label('X')))\n"
     ]
    }
   ],
   "source": [
    "from qiskit import BasicAer, execute, ClassicalRegister\n",
    "from pytket.extensions.qiskit import tk_to_qiskit\n",
    "from qiskit.quantum_info import Statevector\n",
    "#from qiskit import IBMQ\n",
    "#from qiskit.providers.aer.noise import NoiseModel\n",
    "\n",
    "backend = BasicAer.get_backend('qasm_simulator')\n",
    "noise_model = None\n",
    "coupling_map = None\n",
    "basis_gates= None\n",
    "\n",
    "## Build noise model from backend properties\n",
    "#provider = IBMQ.load_account()\n",
    "#backend = provider.get_backend('ibmq_16_melbourne')\n",
    "#noise_model = NoiseModel.from_backend(backend)\n",
    "\n",
    "## Get coupling map from backend\n",
    "#coupling_map = backend.configuration().coupling_map\n",
    "\n",
    "## Get basis gates from noise model\n",
    "#basis_gates = noise_model.basis_gates\n",
    "\n",
    "#backend = Aer.get_backend('qasm_simulator')\n",
    "\n",
    "max_shots = 8192"
   ]
  },
  {
   "cell_type": "code",
   "execution_count": 19,
   "id": "f1bcece8",
   "metadata": {},
   "outputs": [],
   "source": [
    "#with open(f'./noise_model_melbourne.pkl', \"rb\") as fp:  \n",
    "    #data = pickle.load(fp)\n",
    "#noise_model, coupling_map, basis_gates = data[0], data[1], data[2]"
   ]
  },
  {
   "cell_type": "markdown",
   "id": "2577d1e5",
   "metadata": {},
   "source": [
    "First, we define the functions to transform a DisCoPy circuit into a Qiskit one and obtain the results after postselection that correspond to the predicted label of the sentece encoded in the quantum circuit. It allows us to use the statevector simulator, the qasm simulator or introducing a noise model, which are the three possibilities that we have considered for our simulations. In order to run the code in an IBMQ device, we just need to change the backend to the desired one and import the IBMQ account."
   ]
  },
  {
   "cell_type": "code",
   "execution_count": 20,
   "id": "soviet-bailey",
   "metadata": {},
   "outputs": [],
   "source": [
    "from qiskit import Aer\n",
    "\n",
    "def get_qiskit_results(circ, s_type, retries=10, qasm=False, noise_model=None, \n",
    "                       basis_gates=None, coupling_map=None, max_shots=8192):\n",
    "    \"\"\"Function to get the Qiskit's results from a DisCoPy circuit.\n",
    "    \n",
    "    Args:\n",
    "        circ = DisCoPy circuit.\n",
    "        s_type = sentence type for the sentence associated to the circuit.\n",
    "        retries = number of retries before assigning a random result\n",
    "            if the postselection leads to zero values (Default is 10).\n",
    "        qasm = if True qasm_simulator is used, if not statevector_simulator\n",
    "            (Default is False).\n",
    "        noise_model = Qiskit's noise model object (Default is None).\n",
    "        basis_gates = basis gates of the device (Default is None).\n",
    "        coupling_map = coupling_map of the device (Default is None).\n",
    "        max_shots = number of shots (Default is 8192).\n",
    "        \n",
    "            \n",
    "    Returns:\n",
    "        array: results from the postselection measurement.\n",
    "    \"\"\"\n",
    "    \n",
    "    # Select qubits for postselection according to the sentence type    \n",
    "    \n",
    "    if s_type == 'int':\n",
    "        n_qubits = 4\n",
    "        post = 2\n",
    "    elif s_type == 'tra':\n",
    "        n_qubits = 3\n",
    "        post = 1\n",
    "    elif s_type == 'tra_l':\n",
    "        n_qubits = 5\n",
    "        post = 2\n",
    "    else:\n",
    "        assert s_type == 'tra_r'\n",
    "        n_qubits = 5\n",
    "        post = 1\n",
    "    \n",
    "    # From DisCoPy to Qiskit circuit    \n",
    "    qc = tk_to_qiskit(circ.to_tk())\n",
    "    if qasm == True:\n",
    "        #qasm_simulator\n",
    "        out_reg = ClassicalRegister(1)\n",
    "        qc.add_register(out_reg)\n",
    "        qc.measure(post, out_reg[0]) \n",
    "        if noise_model is not None:\n",
    "            backend = Aer.get_backend('qasm_simulator')\n",
    "\n",
    "            # Include noise model\n",
    "            results = execute(qc, backend, shots=max_shots, noise_model=noise_model, \n",
    "                              coupling_map=coupling_map,basis_gates=basis_gates).result().get_counts()\n",
    "        else:\n",
    "            backend = BasicAer.get_backend('qasm_simulator')\n",
    "            results = execute(qc, backend, shots=max_shots).result().get_counts()\n",
    "\n",
    "        zeros = '0' * (n_qubits - 1)\n",
    "\n",
    "        if '0 ' + zeros not in results and '1 ' + zeros not in results:\n",
    "            if retries == 0:\n",
    "                return np.random.rand(2)\n",
    "            return get_qiskit_results(circ, s_type, retries=retries-1, qasm = qasm,\n",
    "                                     noise_model=noise_model, coupling_map=coupling_map,\n",
    "                                     basis_gates=basis_gates, max_shots = max_shots)\n",
    "\n",
    "        return parse_results(results, eff=zeros)\n",
    "    \n",
    "    else:\n",
    "        # statevector_simulator\n",
    "        qc.remove_final_measurements()\n",
    "        state_dict = Statevector(qc).to_dict()\n",
    "        post0, post1 = '0' * n_qubits, '0' * n_qubits\n",
    "        post1 = post1[:post] + '1' + post1[post + 1:]\n",
    "        return [np.abs(state_dict[post0])**2, np.abs(state_dict[post1])**2]\n",
    "    \n",
    "def parse_results(results, eff='0'):\n",
    "    \"\"\"Parse results of qasm_simulator.\n",
    "    \n",
    "    Args:\n",
    "        results: counts from quantum circuit's measurement.\n",
    "        eff: digits for splitting the results for post selection.\n",
    "        \n",
    "    Returns:\n",
    "        array: post selected results.\n",
    "    \"\"\"\n",
    "    ks = [k for k in results.keys() if k.split()[1] == eff]\n",
    "    post_selected_results = {k.split()[0]:v for (k,v) in results.items() if k in ks}\n",
    "    \n",
    "    if '0' not in post_selected_results:\n",
    "        post_selected_results['0'] = 0\n",
    "    if '1' not in post_selected_results:\n",
    "        post_selected_results['1'] = 0\n",
    "        \n",
    "    total = post_selected_results['0'] + post_selected_results['1']\n",
    "    \n",
    "    assert total > 0, 'total was 0 after postselection - try running with more shots'\n",
    "    \n",
    "    \n",
    "    return [post_selected_results['0']/total,  post_selected_results['1']/total]"
   ]
  },
  {
   "cell_type": "markdown",
   "id": "54add895",
   "metadata": {},
   "source": [
    "We define the cost functions. We have chosen the train error and the cross entropy as possible cost functions. As they use global variables, they are defined inside the optimization function. An alternative is to construct a Jupyter notebook for each classifier or one and change the dataset depending on the result we want to obtain. This way we could define the cost function outside the optimization fuction but we will still need the global variables."
   ]
  },
  {
   "cell_type": "markdown",
   "id": "24bc2e4b",
   "metadata": {},
   "source": [
    "As in order to perform the optimization we need the parsing diagrams, labels and sentences of each binary dataset, we define the following function using the previous code."
   ]
  },
  {
   "cell_type": "code",
   "execution_count": 21,
   "id": "7c41a7cc",
   "metadata": {},
   "outputs": [],
   "source": [
    "def process_dataset(dataset):\n",
    "    \"\"\" Process a QNLP dataset.\n",
    "    \n",
    "    Args:\n",
    "        dataset: txt dataset to be processed.\n",
    "    \n",
    "    Returns:\n",
    "        psr_diagrams: parsing diagrams.\n",
    "        psr_labels: labels.\n",
    "        sentences: sentences.\n",
    "        sent_type: dictionary with the sentence type for each sentence.\n",
    "    \"\"\"\n",
    "    with open(dataset) as f:\n",
    "        data = f.readlines()\n",
    "    labels_dict = {} # Dictionary with the labels for each sentence\n",
    "    data_psr_dict = {} # Dictionary with the parsing for each sentence\n",
    "    sent_type = {} # Dictionary with the sentence type for each sentence\n",
    "    # Create the previous dictionaries from the given dataset\n",
    "    adjective_words = [a.name for a in adjectives]\n",
    "    for sentence in data:\n",
    "        sentstr = sentence[:-7]\n",
    "        if sentence[-6:-3] == 'int':\n",
    "            diagram = parsing_int[sentstr]\n",
    "            data_psr_dict[sentstr] = diagram\n",
    "            labels_dict[sentstr] = sentence[-2]\n",
    "            sent_type[sentstr] = 'int'\n",
    "        elif sentence[-6:-3] == 'tra':\n",
    "            diagram = parsing_tra[sentstr]\n",
    "            data_psr_dict[sentstr] = diagram\n",
    "            labels_dict[sentstr] = sentence[-2]\n",
    "\n",
    "            if len(sentstr.split()) == 4:\n",
    "                if sentstr.split()[0] in adjective_words:\n",
    "                    sent_type[sentstr] = 'tra_' + 'l'\n",
    "                else:\n",
    "                    sent_type[sentstr] = 'tra_' + 'r'\n",
    "            else:\n",
    "                sent_type[sentstr] = 'tra'  \n",
    "    # Rearrange the parsing of the diagrams\n",
    "    data_new_psr_dict = {}\n",
    "    for sentstr in data_psr_dict.keys():\n",
    "        num_words = len(sentstr.split(' '))\n",
    "        words = data_psr_dict[sentstr].boxes[:num_words]\n",
    "        if sent_type[sentstr] == 'int':\n",
    "            noun = Box(words[1].name, n.l, Ty()) \n",
    "            words_new = (Cap(n, n.l)) >> (words[0] @ Id(n) @ noun @ words[2]) # Rearranged words\n",
    "            sentence = words_new >> grammar_dict['ADJ_N_IV'] # Apply grammar on rearranged words\n",
    "            data_new_psr_dict[sentstr] = sentence.normal_form() # Store sentece with optimum diagram\n",
    "        elif 'tra' in sent_type[sentstr]:\n",
    "            if sent_type[sentstr] == 'tra':\n",
    "                noun1 = Box(words[0].name, n.r, Ty())\n",
    "                noun2 = Box(words[2].name, n.l, Ty())\n",
    "                words_new = (Cap(n.r, n) @ Cap(n, n.l)) >> (noun1 @ Id(n) @ words[1] @ Id(n) @ noun2)\n",
    "                sentence = words_new >> grammar_dict['N_TV_N']\n",
    "                data_new_psr_dict[sentstr] = sentence.normal_form()\n",
    "            elif sent_type[sentstr] == 'tra_l': #adjective at beginning\n",
    "                noun1 = Box(words[1].name, n.l, Ty())\n",
    "                noun2 = Box(words[3].name, n.l, Ty())\n",
    "                words_new = (Cap(n, n.l) @ Cap(n, n.l)) >> (words[0] @ Id(n) @ noun1 @ words[2] @ Id(n) @ noun2)\n",
    "                sentence = words_new >> grammar_dict['ADJ_N_TV_N']\n",
    "                data_new_psr_dict[sentstr] = sentence.normal_form()\n",
    "            elif sent_type[sentstr] == 'tra_r': #adjective on second noun\n",
    "                noun1 = Box(words[0].name, n.r, Ty())\n",
    "                noun2 = Box(words[3].name, n.l, Ty())\n",
    "                words_new = (Cap(n.r, n) @ Cap(n, n.l)) >> (noun1 @ Id(n) @ words[1] @ words[2] @ Id(n) @ noun2)\n",
    "                sentence = words_new >> grammar_dict['N_TV_ADJ_N']\n",
    "                data_new_psr_dict[sentstr] = sentence.normal_form() \n",
    "    # Store the diagrams, labels and sentences for the classification\n",
    "    psr_diagrams = []\n",
    "    psr_diagrams_dict = {}\n",
    "    psr_labels = []\n",
    "    sentences = []\n",
    "    for sentstr in data_new_psr_dict.keys():\n",
    "        sentences.append(sentstr)\n",
    "        diagram = data_new_psr_dict[sentstr]\n",
    "        psr_diagrams.append(diagram)\n",
    "        psr_diagrams_dict[sentstr] = diagram\n",
    "        if labels_dict[sentstr] == '0':\n",
    "            label = np.array([1,0])\n",
    "        elif labels_dict[sentstr] == '1':\n",
    "            label = np.array([0,1])\n",
    "        psr_labels.append(label)\n",
    "        \n",
    "    return psr_diagrams, psr_labels, sentences, sent_type"
   ]
  },
  {
   "cell_type": "markdown",
   "id": "4afc5a53",
   "metadata": {},
   "source": [
    "Finally, we define a function for the optimization using Qiskit's SPSA optimizer."
   ]
  },
  {
   "cell_type": "code",
   "execution_count": 22,
   "id": "40cc2b3d",
   "metadata": {},
   "outputs": [],
   "source": [
    "from qiskit.aqua.components.optimizers import SPSA\n",
    "import time\n",
    "\n",
    "def QNLP_optimize(dataset, initial_point, n_iterations, cost_function, qasm_bool=False,\n",
    "                  noise_model=None, coupling_map=None, basis_gates=None, max_shots = 8192):\n",
    "    \"\"\" Optimize a QNLP dataset.\n",
    "    \n",
    "    Args:\n",
    "        dataset = dataset for the optimization.\n",
    "        initial_point = initial value of the parameters.\n",
    "        niter = number of iterations for SPSA optimizer.\n",
    "        cost_function = cost function for the optimization\n",
    "        qasm_bool: if True qasm_simulator is used, if not\n",
    "            statevector_simulator (Default is False).\n",
    "    Returns:\n",
    "        list: Qiskit's SPSA results.\n",
    "        cost_save: cost of each evaluation of the cost function.\n",
    "        params_save: parameters of each evaluation of the cost function.\n",
    "    \"\"\"\n",
    "    # Obtain the data from the dataset\n",
    "    train_data_psr, train_labels, train_sent, sent_type = process_dataset(dataset)\n",
    "\n",
    "    # Qiskit's SPSA parameters\n",
    "    num_vars = len(initial_point)\n",
    "    bounds = [[0.0, 1.0] for _ in range(len(initial_point))]\n",
    "    \n",
    "    # Initialize cost function global parameters\n",
    "    cost_save = []\n",
    "    params_save = []\n",
    "    i_cost = []\n",
    "    # Choose cost function\n",
    "    if cost_function == 'cost_train':\n",
    "        def get_cost_train_error(unshaped_params):\n",
    "            \"\"\" Cost function using training error.\n",
    "\n",
    "            Args:\n",
    "                unshaped_params: parameters for the optimization.\n",
    "\n",
    "            Returns:\n",
    "                float: cost.\n",
    "            \"\"\"\n",
    "            # Print iterations\n",
    "            i_cost.append(1)\n",
    "            if len(i_cost) % 2 == 0:\n",
    "                print('Iteration', len(i_cost)/2)\n",
    "\n",
    "            # Create functor to construct DisCoPy circuits\n",
    "            func = F(reshape_params(unshaped_params, par_shapes))\n",
    "            circs = [func(diag) for diag in train_data_psr]\n",
    "            # Get Qiskit's results\n",
    "            results = np.array([get_qiskit_results(circs[i], sent_type[train_sent[i]], qasm = qasm_bool,\n",
    "                                     noise_model=noise_model, coupling_map=coupling_map,\n",
    "                                     basis_gates=basis_gates, max_shots=max_shots) for i in range(len(train_sent))])\n",
    "            #Tweak results\n",
    "            results_tweaked = [np.abs(np.array(res) - 1e-9) for res in results]\n",
    "            pred_labels_distrs = [res.flatten() / np.sum(res) for res in results_tweaked]\n",
    "            # Compute cost\n",
    "            error = 0\n",
    "            for i, r in enumerate(pred_labels_distrs):\n",
    "                error += int(np.argmax(r) != np.argmax(train_labels[i]))\n",
    "            # Print cost\n",
    "            print('Cost', error/len(pred_labels_distrs))\n",
    "            # Save cost and parameters\n",
    "            cost_save.append(error/len(pred_labels_distrs))\n",
    "            params_save.append(unshaped_params)\n",
    "            return error/len(pred_labels_distrs)\n",
    "        \n",
    "        get_cost = get_cost_train_error\n",
    "    \n",
    "    elif cost_function == 'cost_entropy':\n",
    "\n",
    "        def get_cost_cross_entropy(unshaped_params):\n",
    "            \"\"\" Cost function using cross entropy.\n",
    "\n",
    "            Args:\n",
    "                unshaped_params: parameters for the optimization.\n",
    "\n",
    "            Returns:\n",
    "                float: cost.\n",
    "            \"\"\"\n",
    "            # Print iterations\n",
    "            i_cost.append(1)\n",
    "            if len(i_cost) % 2 == 0:\n",
    "                print('Iteration', len(i_cost)/2)\n",
    "\n",
    "            # Create functor to construct DisCoPy circuits\n",
    "            func = F(reshape_params(unshaped_params, par_shapes))\n",
    "            circs = [func(diag) for diag in train_data_psr]\n",
    "            # Get Qiskit's results\n",
    "            results = np.array([get_qiskit_results(circs[i], sent_type[train_sent[i]], qasm = qasm_bool,\n",
    "                                     noise_model=noise_model, coupling_map=coupling_map,\n",
    "                                     basis_gates=basis_gates, max_shots=max_shots) for i in range(len(train_sent))])#Tweak results\n",
    "            results_tweaked = [np.abs(np.array(res) - 1e-9) for res in results]\n",
    "            pred_labels_distrs = [res.flatten() / np.sum(res) for res in results_tweaked]\n",
    "            # Compute cost\n",
    "            cross_entropies = np.array([np.sum(train_labels[s] * np.log2(pred_labels_distrs[s])) for s in range(len(train_labels))])\n",
    "            # Print cost\n",
    "            print('Cost', -1 / len(train_data_psr) * np.sum(cross_entropies))\n",
    "            # Save cost and parameters\n",
    "            cost_save.append(-1 / len(train_data_psr) * np.sum(cross_entropies))\n",
    "            params_save.append(unshaped_params)\n",
    "            return -1 / len(train_data_psr) * np.sum(cross_entropies)\n",
    "            \n",
    "        get_cost = get_cost_cross_entropy\n",
    "    else:\n",
    "        raise NameError('No valid cost function name.')\n",
    "    # Optimization\n",
    "    t1 = time.time()\n",
    "    opt = SPSA(maxiter=n_iterations)\n",
    "    ps = opt.optimize(num_vars, get_cost, initial_point=initial_point, variable_bounds=bounds)\n",
    "    print(\"Final time\", time.time() - t1)\n",
    "    if qasm_bool == True:\n",
    "        simul = 'qasm'\n",
    "    else:\n",
    "        simul = 'statevector'\n",
    "    pickle.dump([ps, cost_save, params_save], \n",
    "                open(f\"sentiment_analysis_1vs1_{dataset[16:-4]}_{str(cost_function)}_niter{n_iterations}_{simul}.pkl\", \"wb\"))\n",
    "    return ps, cost_save, params_save"
   ]
  },
  {
   "cell_type": "code",
   "execution_count": null,
   "id": "14917478",
   "metadata": {},
   "outputs": [],
   "source": [
    "datasets = ['train_happy_vs_sad.txt', 'train_happy_vs_angry.txt', 'train_happy_vs_scared.txt',\n",
    "            'train_sad_vs_angry.txt', 'train_sad_vs_scared.txt', 'train_angry_vs_scared.txt'] \n",
    "n_iterations = 1\n",
    "cost_function = 'cost_train'\n",
    "initial_point = randparams(par_shapes)\n",
    "for dataset in datasets:\n",
    "    dataset = './1vs1_datasets/' + dataset\n",
    "    qasm_bool = False\n",
    "    results = QNLP_optimize(dataset,initial_point, n_iterations, cost_function, qasm_bool=qasm_bool,\n",
    "                            noise_model=noise_model, coupling_map=coupling_map,\n",
    "                            basis_gates=basis_gates, max_shots=max_shots)"
   ]
  },
  {
   "cell_type": "code",
   "execution_count": 24,
   "id": "bc0ce81b-0e33-4d28-b868-1cf020bf656b",
   "metadata": {},
   "outputs": [
    {
     "data": {
      "text/plain": [
       "{'qiskit-terra': '0.17.4', 'qiskit-aer': '0.7.5', 'qiskit-ignis': '0.5.2', 'qiskit-ibmq-provider': '0.11.1', 'qiskit-aqua': '0.8.2', 'qiskit': '0.23.6', 'qiskit-nature': None, 'qiskit-finance': None, 'qiskit-optimization': None, 'qiskit-machine-learning': None}"
      ]
     },
     "execution_count": 24,
     "metadata": {},
     "output_type": "execute_result"
    }
   ],
   "source": [
    "import qiskit\n",
    "qiskit.__qiskit_version__"
   ]
  }
 ],
 "metadata": {
  "kernelspec": {
   "display_name": "Python 3",
   "language": "python",
   "name": "python3"
  },
  "language_info": {
   "codemirror_mode": {
    "name": "ipython",
    "version": 3
   },
   "file_extension": ".py",
   "mimetype": "text/x-python",
   "name": "python",
   "nbconvert_exporter": "python",
   "pygments_lexer": "ipython3",
   "version": "3.8.5"
  },
  "toc": {
   "base_numbering": 1,
   "nav_menu": {},
   "number_sections": true,
   "sideBar": true,
   "skip_h1_title": false,
   "title_cell": "Table of Contents",
   "title_sidebar": "Contents",
   "toc_cell": false,
   "toc_position": {},
   "toc_section_display": true,
   "toc_window_display": false
  },
  "varInspector": {
   "cols": {
    "lenName": 16,
    "lenType": 16,
    "lenVar": 40
   },
   "kernels_config": {
    "python": {
     "delete_cmd_postfix": "",
     "delete_cmd_prefix": "del ",
     "library": "var_list.py",
     "varRefreshCmd": "print(var_dic_list())"
    },
    "r": {
     "delete_cmd_postfix": ") ",
     "delete_cmd_prefix": "rm(",
     "library": "var_list.r",
     "varRefreshCmd": "cat(var_dic_list()) "
    }
   },
   "types_to_exclude": [
    "module",
    "function",
    "builtin_function_or_method",
    "instance",
    "_Feature"
   ],
   "window_display": false
  }
 },
 "nbformat": 4,
 "nbformat_minor": 5
}
