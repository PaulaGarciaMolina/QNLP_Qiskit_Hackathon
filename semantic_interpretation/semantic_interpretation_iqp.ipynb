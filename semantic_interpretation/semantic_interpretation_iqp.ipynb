{
 "cells": [
  {
   "cell_type": "markdown",
   "id": "51b8eea4",
   "metadata": {},
   "source": [
    "# Semantic interpretation.\n",
    "\n",
    "Semantic interpretation is a NLP technique to draw the meaning of a text/sentence. In this implementation, we will focuse on determining two sentences in different languages (english and spanish) have the same meaning.\n",
    "\n",
    "Some possible sentences for our dataset are:\n",
    "\n",
    "- Woman buys new car & Mujer compra coche nuevo (1)\n",
    "- Man buys blue car & Mujer compra coche azul (0)\n",
    "- Woman buys new car & Mujer compra automóvil nuevo (1)\n",
    "- Man buys new car & Hombre compra automóvil viejo (0)\n",
    "- Woman buys old car & Mujer adquiere coche viejo (1)\n",
    "- Woman buys new car & Mujer hurta coche nuevo (0)\n",
    "- Woman buys new car & Mujer roba coche rojo (0)\n",
    "- Woman steals red car & Mujer roba coche rojo (0)\n",
    "...\n",
    "\n",
    "Where each example follows this structure: Sentence in english & Sentence in spanish (meaning coincidence label).\n",
    "\n",
    "Our dataset is built using this vocabulary:\n",
    "\n",
    "\n",
    "| Subject | Verbs | Objects | Adjectives | | Nombres | Verbos | Objetos | Adjetivos |\n",
    "| --- | --- | --- | --- | | --- | --- | --- | --- |\n",
    "| Woman | steals | car | old | | Mujer | roba | coche | viejo |\n",
    "| Man | buys | sofa | new | | Hombre | hurta | automóvil | nuevo |\n",
    "|  | purchases | coach | red | |  | compra | sillón | rojo |\n",
    "|  | breaks | notebook | blue | |  | rompe | cuaderno | azul |\n",
    "\n",
    "\n",
    "The proposed vocabulary has 14 words and two different kind of sentences for each language:\n",
    "- Subject + Verb + Object (32 sentences)\n",
    "- Subject + Verb + (Adj +) Object (128 sentences)\n",
    "\n",
    "This makes 160 sentences per language and hence 25600 possible combinations."
   ]
  },
  {
   "cell_type": "markdown",
   "id": "21b7bb02",
   "metadata": {},
   "source": [
    "## 1. Create dataset"
   ]
  },
  {
   "cell_type": "markdown",
   "id": "167ec751",
   "metadata": {},
   "source": [
    "### 1.1. Define the vocabulary\n",
    "\n",
    "The first step to create a dataset is to define the words, their meaning and the word type. We have three types of words: nouns, adjectives, verbs (transitive). We also distinguish two different types of nouns: objects and subjects. "
   ]
  },
  {
   "cell_type": "code",
   "execution_count": 1,
   "id": "02cb3cd6",
   "metadata": {},
   "outputs": [],
   "source": [
    "import numpy as np\n",
    "import pickle"
   ]
  },
  {
   "cell_type": "code",
   "execution_count": 3,
   "id": "2276f40e",
   "metadata": {},
   "outputs": [],
   "source": [
    "from discopy import Ty, Word # Import the classes for the type of word and for the word\n",
    "\n",
    "s, n = Ty('s'), Ty('n') # Define the types s and n\n",
    "nphr, adj, tv, iv, vphr = Ty('NP'), Ty('ADJ'), Ty('TV'), Ty('IV'), Ty('VP')\n",
    "\n",
    "# Define the words (notice that we include both meaning and grammar)\n",
    "\n",
    "# nouns (subjects)\n",
    "man, woman = Word('man', n), Word('woman', n)\n",
    "mujer, hombre = Word('mujer', n), Word('hombre', n)\n",
    "# nouns (objects)\n",
    "car, sofa, coach, notebook = Word('car', n), Word('sofa', n), Word('coach', n), Word('notebook', n)\n",
    "coche, automovil, sillon, cuaderno = Word('coche', n), Word('automovil', n), Word('sillón', n), Word('cuaderno', n)\n",
    "# adjectives\n",
    "old, new, red, blue = Word('old', n @ n.l), Word('new', n @ n.l), Word('red', n @ n.l), Word('blue', n @ n.l) \n",
    "viejo, nuevo, rojo, azul = Word('viejo', n.r @ n), Word('nuevo', n.r @ n ), Word('rojo', n.r @ n ), Word('blue', n.r @ n )\n",
    "# Transitive verbs\n",
    "buys, purchases, steals, breaks  = Word('buys', n.r @ s @ n.l), Word('purchases', n.r @ s @ n.l), Word('steals', n.r @ s @ n.l), Word('breaks', n.r @ s @ n.l)\n",
    "compra, roba, hurta, rompe  = Word('compra', n.r @ s @ n.l), Word('roba', n.r @ s @ n.l), Word('hurta', n.r @ s @ n.l), Word('rompe', n.r @ s @ n.l)\n",
    "\n",
    "subjects = [man, woman]\n",
    "sujetos = [mujer, hombre]\n",
    "verbs = [buys, purchases, steals, breaks]\n",
    "verbos = [compra, roba, hurta, rompe]\n",
    "adjectives = [old, new, red, blue]\n",
    "adjetivos = [viejo, nuevo, rojo, azul]\n",
    "objects = [car, sofa, coach, notebook]\n",
    "objetos = [coche,  sillon, automovil, cuaderno]\n",
    "\n",
    "\n",
    "vocab_E = subjects + verbs + adjectives + objects \n",
    "vocab_S = sujetos + verbos + adjetivos + objetos"
   ]
  },
  {
   "cell_type": "markdown",
   "id": "e826d448",
   "metadata": {},
   "source": [
    "### 1.2. Define the grammar\n",
    "\n",
    "In this dataset we are going to consider the following structures to construct the sentences:\n",
    "\n",
    "- noun + t. verb + noun\n",
    "\n"
   ]
  },
  {
   "cell_type": "code",
   "execution_count": 5,
   "id": "f8f1ff04",
   "metadata": {},
   "outputs": [
    {
     "data": {
      "image/png": "[encoded data removed]",
      "text/plain": [
       "<Figure size 432x288 with 1 Axes>"
      ]
     },
     "metadata": {
      "needs_background": "light"
     },
     "output_type": "display_data"
    }
   ],
   "source": [
    "from discopy import Cup, Id, pregroup\n",
    "\n",
    "grammar =  Cup(n, n.r) @ Id(s) @ Cup(n.l, n)\n",
    "sentence = woman @ buys @ car >> grammar\n",
    "pregroup.draw(sentence)"
   ]
  },
  {
   "cell_type": "markdown",
   "id": "0d519b77",
   "metadata": {},
   "source": [
    "- noun + t. verb + adjective + noun (for english)"
   ]
  },
  {
   "cell_type": "code",
   "execution_count": 6,
   "id": "bc183b55",
   "metadata": {},
   "outputs": [
    {
     "data": {
      "image/png": "[encoded data removed]",
      "text/plain": [
       "<Figure size 432x288 with 1 Axes>"
      ]
     },
     "metadata": {
      "needs_background": "light"
     },
     "output_type": "display_data"
    }
   ],
   "source": [
    "grammar =  Cup(n, n.r) @ Id(s) @ Cup(n.l, n) @ Cup(n.l, n)\n",
    "sentence = woman @ buys @ new @ car >> grammar\n",
    "pregroup.draw(sentence)"
   ]
  },
  {
   "cell_type": "markdown",
   "id": "943b1de6",
   "metadata": {},
   "source": [
    "- noun + t. verb + noun +adjective (for spanish)"
   ]
  },
  {
   "cell_type": "code",
   "execution_count": 7,
   "id": "ac53ad81",
   "metadata": {},
   "outputs": [
    {
     "data": {
      "image/png": "[encoded data removed]",
      "text/plain": [
       "<Figure size 432x288 with 1 Axes>"
      ]
     },
     "metadata": {
      "needs_background": "light"
     },
     "output_type": "display_data"
    }
   ],
   "source": [
    "grammar =  Cup(n, n.r) @ Id (s @ n.l) @ Cup(n, n.r) @ Id(n) >> Id(s) @ Cup(n.l, n) >> Id(s)\n",
    "sentence = mujer @ compra @ coche @ viejo >> grammar\n",
    "pregroup.draw(sentence)"
   ]
  },
  {
   "cell_type": "markdown",
   "id": "7bc8a51d",
   "metadata": {},
   "source": [
    "Now we have seen how the grammatical structure of each type of sentence is, so we are ready to obtain all the grammatical sentences that we can construct with them with the vocabulary that we are using. "
   ]
  },
  {
   "cell_type": "code",
   "execution_count": 8,
   "id": "e90602e6",
   "metadata": {},
   "outputs": [],
   "source": [
    "from discopy import Diagram\n",
    "from discopy.grammar import draw\n",
    "\n",
    "# Store the grammatical structures in a dictionary \n",
    "\n",
    "grammar_dict = {\n",
    "    'NVN' :  Cup(n, n.r) @ Id(s) @ Cup(n.l, n),\n",
    "    'NVAN' : Cup(n, n.r) @ Id(s) @ Cup(n.l, n) @ Cup(n.l, n),\n",
    "    'NVNA' : Cup(n, n.r) @ Id (s @ n.l) @ Cup(n, n.r) @ Id(n) >> Id(s) @ Cup(n.l, n) >> Id(s)}                                                                   \n",
    "\n",
    "# Create parsing (grammatical analysis) dictionary where the grammatical sentences\n",
    "# are the keys and the associated values are the diagrams (words + grammar)\n",
    "\n",
    "data_psr = {}\n",
    "\n",
    "# English noun+verb+noun sentences\n",
    "parsing_NVNe = {\"{} {} {}.\".format(subj, verb, obj): subj @ verb @ obj  >> grammar_dict['NVN']\n",
    "            for subj in subjects for verb in verbs for obj in objects}\n",
    "sentences_NVNe = list(parsing_NVNe.keys())\n",
    "for sentence in sentences_NVNe:\n",
    "    diagram = parsing_NVNe[sentence]\n",
    "    data_psr[sentence] = parsing_NVNe[sentence]\n",
    "    \n",
    "# Spanish noun+verb+noun sentences\n",
    "parsing_NVNs = {\"{} {} {}.\".format(subj, verb, obj): subj @ verb @ obj  >> grammar_dict['NVN']\n",
    "            for subj in sujetos for verb in verbos for obj in objetos}\n",
    "sentences_NVNs = list(parsing_NVNs.keys())\n",
    "for sentence in sentences_NVNs:\n",
    "    diagram = parsing_NVNs[sentence]\n",
    "    data_psr[sentence] = parsing_NVNs[sentence]\n",
    "    \n",
    "# English noun+verb+adjective+noun sentences\n",
    "parsing_NVANe = {\"{} {} {} {}.\".format(subj, verb, adj, obj): subj @ verb @ adj @ obj  >> grammar_dict['NVAN']\n",
    "            for subj in subjects  for verb in verbs for adj in adjectives for obj in objects}\n",
    "sentences_NVANe = list(parsing_NVANe.keys())\n",
    "for sentence in sentences_NVANe:\n",
    "    diagram = parsing_NVANe[sentence]\n",
    "    data_psr[sentence] = parsing_NVANe[sentence]\n",
    "    \n",
    "# Spanish noun+verb+noun+adjectives sentences\n",
    "parsing_NVNAs = {\"{} {} {} {}.\".format(subj, verb, obj, adj): subj @ verb @ obj @ adj  >> grammar_dict['NVNA']\n",
    "            for subj in sujetos for verb in verbos for obj in objetos  for adj in adjetivos}\n",
    "sentences_NVNAs = list(parsing_NVNAs.keys())\n",
    "for sentence in sentences_NVNAs:\n",
    "    diagram = parsing_NVNAs[sentence]\n",
    "    data_psr[sentence] = parsing_NVNAs[sentence]"
   ]
  },
  {
   "cell_type": "markdown",
   "id": "768939da",
   "metadata": {},
   "source": [
    "### 1.3. Process the data (Complete with data sets)"
   ]
  },
  {
   "cell_type": "code",
   "execution_count": 6,
   "id": "819c3fe7",
   "metadata": {},
   "outputs": [],
   "source": [
    "with open('.txt') as f:\n",
    "    data = f.readlines()"
   ]
  },
  {
   "cell_type": "code",
   "execution_count": null,
   "id": "ef5ccd3e",
   "metadata": {},
   "outputs": [],
   "source": [
    "#Change when we have the data sets\n",
    "labels_dict = {}\n",
    "data_psr_dict = {}\n",
    "sent_type = {}\n",
    "for sentence in data:\n",
    "    sentstr = sentence[:-7]\n",
    "    if sentence[-6:-3] == 'int':\n",
    "        diagram = parsing_int[sentstr]\n",
    "        data_psr_dict[sentstr] = diagram\n",
    "        labels_dict[sentstr] = sentence[-2]\n",
    "        sent_type[sentstr] = 'int'\n",
    "    elif sentence[-6:-3] == 'tra':\n",
    "        diagram = parsing_tra[sentstr]\n",
    "        data_psr_dict[sentstr] = diagram\n",
    "        labels_dict[sentstr] = sentence[-2]\n",
    "        sent_type[sentstr] = 'tra'"
   ]
  },
  {
   "cell_type": "markdown",
   "id": "ccc45918",
   "metadata": {},
   "source": [
    "Now we have our dataset! The only problem left is the fact that the cups used in the diagrams are too resource consumming. Luckily, it is possible to remove them by transforming the states into effects (we are just doing this with the nouns as in https://github.com/CQCL/qnlp_lorenz_etal_2021_resources). "
   ]
  },
  {
   "cell_type": "markdown",
   "id": "83fcbb82",
   "metadata": {},
   "source": [
    "Let us apply this to our entire dataset."
   ]
  },
  {
   "cell_type": "code",
   "execution_count": 12,
   "id": "6fbecdc4",
   "metadata": {},
   "outputs": [],
   "source": [
    "#Change when we have the data sets\n",
    "data_new_psr_dict = {}\n",
    "for sentstr in data_psr_dict.keys():\n",
    "    num_words = len(sentstr.split(' '))\n",
    "    words = data_psr_dict[sentstr].boxes[:num_words]\n",
    "    if sent_type[sentstr] == 'int':\n",
    "        noun = Box(words[1].name, n.l, Ty())\n",
    "        words_new = (Cap(n, n.l)) >> (words[0] @ Id(n) @ noun @ words[2])\n",
    "        sentence = words_new >> grammar_dict['ADJ_N_IV']\n",
    "        data_new_psr_dict[sentstr] = sentence.normal_form()\n",
    "    elif sent_type[sentstr] == 'tra':\n",
    "        noun1 = Box(words[0].name, n.r, Ty())\n",
    "        noun2 = Box(words[2].name, n.l, Ty())\n",
    "        words_new = (Cap(n.r, n) @ Cap(n, n.l)) >> (noun1 @ Id(n) @ words[1] @ Id(n) @ noun2)\n",
    "        sentence = words_new >> grammar_dict['N_TV_N']\n",
    "        data_new_psr_dict[sentstr] = sentence.normal_form()"
   ]
  },
  {
   "cell_type": "markdown",
   "id": "98d50eb7",
   "metadata": {},
   "source": [
    "The final step before the implementation of the quantum circuit is to redefine the vocabulary according to the new domain and codamain for the nouns as effects."
   ]
  },
  {
   "cell_type": "code",
   "execution_count": 13,
   "id": "09b20cc0",
   "metadata": {},
   "outputs": [],
   "source": [
    "from discopy import Cap, Box\n",
    "#English\n",
    "vocab_psr_E = []\n",
    "for word in vocab_E:\n",
    "    if word.cod == Ty('n'):\n",
    "        vocab_psr_E.append(Box(word.name, n.r, Ty()))   # n.l case is dealt with in definition of quantum functor\n",
    "    else:\n",
    "        vocab_psr_E.append(word)\n",
    "#Spanish\n",
    "vocab_psr_S = []\n",
    "for word in vocab_S:\n",
    "    if word.cod == Ty('n'):\n",
    "        vocab_psr_S.append(Box(word.name, n.r, Ty()))   # n.l case is dealt with in definition of quantum functor\n",
    "    else:\n",
    "        vocab_psr_S.append(word)\n",
    "vocab_psr=vocab_psr_E+vocab_psr_S"
   ]
  },
  {
   "cell_type": "markdown",
   "id": "c0779f97",
   "metadata": {},
   "source": [
    "## 2. Create quantum circuit\n",
    "\n",
    "Once the dataset and its corresponding diagrams are created, the next step is to construct the variational quantum circuits associated with them. In order to do that, we will use different ansätze depending on the type of the word that we want to represent. In this case we only have three types of words, nouns, adjetives and verbs. Nouns will have associated 1 qubit, and sentences three qubits, therefore verbs 5 qubits, and adjetives 2 qubits. Moreover, we will also distinguish between states and effects when constructing the ansätze."
   ]
  },
  {
   "cell_type": "code",
   "execution_count": 25,
   "id": "4b624539",
   "metadata": {
    "lines_to_next_cell": 2
   },
   "outputs": [],
   "source": [
    "from discopy.quantum import Ket, IQPansatz, Bra, qubit\n",
    "from discopy.quantum.circuit import Functor, Id\n",
    "from discopy.quantum.circuit import Circuit\n",
    "from functools import reduce, partial\n",
    "\n",
    "q_s = 3 # number of qubits for type s (sentence)\n",
    "q_n = 1 # number of qubits for type n (noun)\n",
    "depth = 1 # depth of the IQPansatz\n",
    "\n",
    "# Define the dimensions of the objects of the circuit functor\n",
    "ob = {s: q_s, n: q_n}                          \n",
    "ob_cqmap = {s: qubit ** q_s, n: qubit ** q_n}   \n",
    "\n",
    "# Define the ansätze for states and effects\n",
    "def single_qubit_iqp_ansatz(params):\n",
    "    if len(params) == 1:\n",
    "        return Rx(params[0])  \n",
    "    if len(params) == 2:\n",
    "        return Rx(params[0]) >> Rz(params[1])\n",
    "    if len(params) == 3:\n",
    "        return IQPansatz(1, params)       \n",
    "\n",
    "def ansatz_state(state, params):  \n",
    "    arity = sum(ob[Ty(factor.name)] for factor in state.cod)\n",
    "    if arity == 1:\n",
    "        return Ket(0) >> single_qubit_iqp_ansatz(params)\n",
    "    else:\n",
    "        return Ket(*tuple([0 for i in range(arity)])) >> IQPansatz(arity, params)\n",
    "    \n",
    "def ansatz_effect(effect, params):  \n",
    "    arity = sum(ob[Ty(factor.name)] for factor in effect.dom)\n",
    "    if arity == 1:\n",
    "        return single_qubit_iqp_ansatz(params) >> Bra(0)\n",
    "    else:\n",
    "        return IQPansatz(arity, params) >> Bra(*tuple([0 for i in range(arity)]))\n",
    "       \n",
    "def ansatz(box,params):\n",
    "    dom_type = box.dom\n",
    "    cod_type = box.cod\n",
    "    if len(dom_type) == 0 and len(cod_type) != 0:\n",
    "        return ansatz_state(box, params)\n",
    "    if len(dom_type) != 0 and len(cod_type) == 0:\n",
    "        return ansatz_effect(box, params)\n",
    "\n",
    "# Construct the circuit functor\n",
    "def F(params): \n",
    "    ar = dict()\n",
    "    for i in range(len(vocab_psr)):\n",
    "        pgbox = vocab_psr[i]\n",
    "        qbox = ansatz(vocab_psr[i], params[i])\n",
    "        ar.update({pgbox: qbox})\n",
    "        if pgbox.cod == Ty():\n",
    "            ar.update({Box(pgbox.name, n.l, Ty()): qbox})\n",
    "    return Functor(ob_cqmap, ar)"
   ]
  },
  {
   "cell_type": "code",
   "execution_count": 26,
   "id": "78d6763f",
   "metadata": {
    "lines_to_next_cell": 2
   },
   "outputs": [],
   "source": [
    "#*****************************************************\n",
    "# Functions to deal with the parametrisation\n",
    "#*****************************************************\n",
    "\n",
    "def paramshapes(vocab_psr):\n",
    "    parshapes = []    \n",
    "    for box in vocab_psr:\n",
    "        dom_type = box.dom\n",
    "        cod_type = box.cod\n",
    "        dom_arity = sum(ob[Ty(factor.name)] for factor in box.dom)\n",
    "        cod_arity = sum(ob[Ty(factor.name)] for factor in box.cod)\n",
    "        if dom_arity == 0 or cod_arity == 0:  # states and effects\n",
    "            arity = max(dom_arity, cod_arity)\n",
    "            assert arity != 0\n",
    "            if arity == 1:\n",
    "                parshapes.append((p_n,))       \n",
    "            if arity != 1:\n",
    "                parshapes.append((depth, arity-1))\n",
    "    return parshapes\n",
    "\n",
    "def randparams(par_shapes):\n",
    "    params = np.array([]) \n",
    "    for i in range(len(par_shapes)):\n",
    "        params = np.concatenate((params, np.ravel(np.random.rand(*par_shapes[i]))))\n",
    "    return params \n",
    "\n",
    "def reshape_params(unshaped_pars, par_shapes):\n",
    "    pars_reshaped = [[] for ii in range(len(par_shapes))]\n",
    "    shift = 0\n",
    "    for ss, s in enumerate(par_shapes):\n",
    "        idx0 = 0 + shift\n",
    "        if len(s) == 1:\n",
    "            idx1 = s[0] + shift\n",
    "        elif len(s) == 2:\n",
    "            idx1 = s[0] * s[1] + shift\n",
    "        pars_reshaped[ss] = np.reshape(unshaped_pars[idx0:idx1], s)\n",
    "        if len(s) == 1:\n",
    "            shift += s[0]\n",
    "        elif len(s) == 2:\n",
    "            shift += s[0] * s[1]\n",
    "    return pars_reshaped"
   ]
  },
  {
   "cell_type": "code",
   "execution_count": 27,
   "id": "5c8ce4b9",
   "metadata": {
    "lines_to_next_cell": 2,
    "tags": []
   },
   "outputs": [
    {
     "name": "stdout",
     "output_type": "stream",
     "text": [
      "Number of parameters:     40\n"
     ]
    }
   ],
   "source": [
    "#****************************************\n",
    "# Parameters of the current model\n",
    "#****************************************\n",
    "\n",
    "par_shapes = paramshapes(vocab_psr)\n",
    "rand_unshaped_pars = randparams(par_shapes)\n",
    "rand_shaped_pars = reshape_params(rand_unshaped_pars, par_shapes)\n",
    "\n",
    "print('Number of parameters:    ', len(rand_unshaped_pars))"
   ]
  },
  {
   "cell_type": "code",
   "execution_count": null,
   "id": "5066e080",
   "metadata": {
    "lines_to_next_cell": 2
   },
   "outputs": [],
   "source": [
    "# Print the quantum circuit for each sentence\n",
    "\n",
    "func = F(rand_shaped_pars)\n",
    "\n",
    "for sentstr in data_new_psr_dict:\n",
    "    print(sentstr)\n",
    "    print(data_new_psr_dict[sentstr])\n",
    "    func(data_new_psr_dict[sentstr]).draw(draw_box_labels=True, figsize=(5, 5))"
   ]
  },
  {
   "cell_type": "markdown",
   "id": "a4b3609a",
   "metadata": {},
   "source": [
    "## 3. Create training and test dataset"
   ]
  },
  {
   "cell_type": "code",
   "execution_count": 30,
   "id": "ef58a7fa",
   "metadata": {},
   "outputs": [],
   "source": [
    "#Complete when we have data sets\n",
    "training_data_eng = []      # list of sentences in english in the train dataset as strings \"word1 word2 ...\"\n",
    "testing_data_eng = []       # list of sentences in english in the test dataset as strings \"word1 word2 ...\"\n",
    "training_data_spa = []      # list of sentences in spanish in the train dataset as strings \"word1 word2 ...\"\n",
    "testing_data_spa = []       # list of sentences in spanish in the test dataset as strings \"word1 word2 ...\"\n",
    "train_labels=[]             # list of labels english-spanish sentances in the training dataset\n",
    "test_labels=[]              # list of labels english-spanish sentances in the test dataset"
   ]
  },
  {
   "cell_type": "code",
   "execution_count": 19,
   "id": "df2c2464",
   "metadata": {},
   "outputs": [],
   "source": [
    "# If we want to work with Qiskit circuits\n",
    "\n",
    "from pytket.extensions.qiskit import tk_to_qiskit\n",
    "from discopy.quantum.tk import to_tk\n",
    "\n",
    "qiskit_train_circuits = []\n",
    "for diagram in train_data_psr:\n",
    "    circuit = func(diagram)\n",
    "    pytket_circuit = circuit.to_tk()\n",
    "    qiskit_train_circuits.append(tk_to_qiskit(pytket_circuit))\n",
    "    \n",
    "qiskit_test_circuits = []\n",
    "for diagram in test_data_psr:\n",
    "    circuit = func(diagram)\n",
    "    pytket_circuit = circuit.to_tk()\n",
    "    qiskit_test_circuits.append(tk_to_qiskit(pytket_circuit))"
   ]
  },
  {
   "cell_type": "markdown",
   "id": "ee3d4e8a",
   "metadata": {},
   "source": [
    "## 4. Optimization functions\n",
    "\n",
    "The next step is to define the functions that we will use for the optimization. We will resort to a classical optimizer to perform this variational optimization, more concretely the SPSA. The cost function for this algorithm is the cross entropy, which is used to measure the distance between two probability distributions. For two probability distributions $S$ and $L$, the cross entropy $D$ is defined as\n",
    "\n",
    "\\begin{equation}\n",
    "    D(S,L) = - \\sum_i L_i \\log (S_i).\n",
    "\\end{equation}\n",
    "\n",
    "In our problem we have the labels that account for the ideal probability distribution $L$ associated to each pair of sentences, while the output of the variational algorithm is the distribution $S$.\n",
    "\n",
    "Now we are going to define a function to compute the cross entropy for our problem, as well as the probabilities associated to each quantum circuit and the train and test errors."
   ]
  },
  {
   "cell_type": "code",
   "execution_count": 20,
   "id": "c40c7314",
   "metadata": {
    "lines_to_next_cell": 2,
    "tags": []
   },
   "outputs": [],
   "source": [
    "from pytket.extensions.qiskit import AerBackend\n",
    "from discopy.quantum import Measure\n",
    "backend = AerBackend()\n",
    "max_n_shots = 8192  # maximum shots possible"
   ]
  },
  {
   "cell_type": "code",
   "execution_count": 21,
   "id": "746328a9",
   "metadata": {
    "lines_to_next_cell": 2,
    "tags": []
   },
   "outputs": [],
   "source": [
    "def get_probs(unshaped_params):\n",
    "    func = F(reshape_params(unshaped_params, par_shapes))\n",
    "    train_circuits_eng = [(func(circ) >> Measure() @ Measure()) for circ in train_data_psr_eng]\n",
    "    train_circuits_spa = [(func(circ) >> Measure() @ Measure()) for circ in train_data_psr_spa]\n",
    "    results_eng = Circuit.get_counts(*train_circuits_eng, backend=backend, n_shots=max_n_shots, compilation=backend.default_compilation_pass(2))\n",
    "    results_spa = Circuit.get_counts(*train_circuits_spa, backend=backend, n_shots=max_n_shots, compilation=backend.default_compilation_pass(2))\n",
    "    results_joined = [np.sum([math.sqrt(counts_eng)*math.sqrt(counts_spa) \n",
    "                             for (counts_eng,counts_spa) in zip(res_eng.values(),res_spa.values())]) \n",
    "                            for res_eng in results_eng for res_spa in results_spa]\n",
    "    pred_labels_distrs = results_joined\n",
    "    return pred_labels_distrs\n",
    "\n",
    "def get_cost(pred_labels_distrs):\n",
    "    cross_entropies = np.array([np.sum(train_labels[s] * np.log2(pred_labels_distrs[s])) for s in range(len(train_labels))])\n",
    "    return -1 / len(train_data_psr) * np.sum(cross_entropies)\n",
    "\n",
    "def get_train_error(pred_labels_distrs):\n",
    "    correct = 0\n",
    "    for (i, res) in enumerate(pred_labels_distrs):\n",
    "        pred_result = round(res) #We are taken as 1 (same meaning) when the output is >0.5 and viceversa\n",
    "        train_result = round(train_labels[i]) \n",
    "        if train_result == pred_result:\n",
    "            correct += 1\n",
    "    return 100 - correct * 100 / len(pred_labels_distrs)\n",
    "\n",
    "def get_test_error(unshaped_params):\n",
    "    test_circuits_eng = [(func(circ) >> Measure() @ Measure()) for circ in train_data_psr_eng]\n",
    "    test_circuits_spa = [(func(circ) >> Measure() @ Measure()) for circ in train_data_psr_spa]\n",
    "    results_eng = Circuit.get_counts(*test_circuits_eng, backend=backend, n_shots=max_n_shots, compilation=backend.default_compilation_pass(2))\n",
    "    results_spa = Circuit.get_counts(*test_circuits_spa, backend=backend, n_shots=max_n_shots, compilation=backend.default_compilation_pass(2))\n",
    "    results_joined = [np.sum([math.sqrt(counts_eng)*math.sqrt(counts_spa) \n",
    "                             for (counts_eng,counts_spa) in zip(res_eng.values(),res_spa.values())]) \n",
    "                            for res_eng in results_eng for res_spa in results_spa]\n",
    "    correct = 0\n",
    "    pred_labels = []\n",
    "    for i, res in enumerate(results_joined):\n",
    "        pred_result = round(res) #We are taken as 1 (same meaning) when the output is >0.5 and viceversa\n",
    "        test_result = round(test_labels[i])\n",
    "        pred_labels.append(pred_result)\n",
    "        if test_result == pred_result:\n",
    "            correct += 1\n",
    "    return 100 - correct * 100 / len(results_joined), pred_labels"
   ]
  },
  {
   "cell_type": "markdown",
   "id": "d6a36546",
   "metadata": {},
   "source": [
    "Once we have the cost function, we define a customized SPSA optimizer suitable for our task."
   ]
  },
  {
   "cell_type": "code",
   "execution_count": 22,
   "id": "7126f135",
   "metadata": {
    "lines_to_next_cell": 2
   },
   "outputs": [],
   "source": [
    "#**********************************************************************************\n",
    "# Minimization algorithm\n",
    "#**********************************************************************************\n",
    "\n",
    "# This is building on the minimizeSPSA function from the noisyopt package (https://github.com/andim/noisyopt);\n",
    "# here only adjusted for our purposes. As this is an example notebook for a final run of the experiment\n",
    "# the dev set is not used here.\n",
    "\n",
    "def my_spsa(get_probs, get_cost, get_train_error, get_test_error, x0,\n",
    "            bounds=None, niter=100, shots=1024, a=1.0, c=1.0, alpha=0.602, gamma=0.101,\n",
    "            print_iter=False, correct_func_value=True,\n",
    "            filename='spsa_output', iters_selected=[]):\n",
    "    A = 0.01 * niter\n",
    "    N = len(x0)\n",
    "    if bounds is None:\n",
    "        project = lambda x: x\n",
    "    else:\n",
    "        bounds = np.asarray(bounds)\n",
    "        project = lambda x: np.clip(x, bounds[:, 0], bounds[:, 1])    \n",
    "    param_history = []\n",
    "    func_history = []\n",
    "    error_history = []\n",
    "    pred_label_history = []\n",
    "    pred_labels_test_error = dict()\n",
    "    test_error_list = []\n",
    "    x = x0    \n",
    "    \n",
    "    # Loop over iterations\n",
    "    for k in range(niter):\n",
    "        if print_iter:\n",
    "            print('-------------', '\\n', 'iteration: ', k, sep='')\n",
    "        start = time()\n",
    "        \n",
    "        # determine stepping parameters\n",
    "        ak = a/(k+1.0+A)**alpha\n",
    "        ck = c/(k+1.0)**gamma\n",
    "        delta = np.random.choice([-1, 1], size=N)\n",
    "        \n",
    "        # move in + direction from previous x\n",
    "        xplus = project(x + ck*delta)        \n",
    "        if print_iter:\n",
    "            print('Call for xplus')\n",
    "        results_tweaked_plus = get_probs(xplus)\n",
    "        funcplus = get_cost(results_tweaked_plus)\n",
    "        \n",
    "        # move in - direction from previous x\n",
    "        xminus = project(x - ck*delta)\n",
    "        if print_iter:\n",
    "            print('Call for xminus')\n",
    "        results_tweaked_minus = get_probs(xminus)\n",
    "        funcminus = get_cost(results_tweaked_minus)\n",
    "        \n",
    "        # new step\n",
    "        grad = (funcplus - funcminus) / (xplus-xminus)\n",
    "        x = project(x - ak*grad)\n",
    "        param_history.append(x)\n",
    "        \n",
    "        # determine current func and error\n",
    "        if correct_func_value or k == (niter - 1):  # In order to save time the cost at x is only evaluated for final step\n",
    "            if print_iter:\n",
    "                print('Call for current_func_value')\n",
    "            results_tweaked = get_probs(x)\n",
    "            current_func_value = get_cost(results_tweaked)\n",
    "            error = get_train_error(results_tweaked)\n",
    "            pred_label_history.append(results_tweaked)\n",
    "        else:\n",
    "            current_func_value = funcplus\n",
    "            error = get_train_error(results_tweaked_plus)\n",
    "            pred_label_history.append(results_tweaked_plus)\n",
    "        \n",
    "        # calculate test error if a 'selected iteration' \n",
    "        if k in iters_selected:\n",
    "            print('Calculate test error for iteration:', k)\n",
    "            res = get_test_error(x)\n",
    "            test_error_list.append(res[0])\n",
    "            pred_labels_test_error.update({k: res[1]})\n",
    "        \n",
    "        func_history.append(current_func_value)\n",
    "        error_history.append(error)\n",
    "\n",
    "        # save to file\n",
    "        dump_data = {\n",
    "            'param_history': param_history,\n",
    "            'func_history': func_history,\n",
    "            'error_history': error_history,\n",
    "            'predlabel_history': pred_label_history,\n",
    "            'iters_selected': iters_selected,\n",
    "            'test_error_list': test_error_list,\n",
    "            'pred_labels_test_error': pred_labels_test_error\n",
    "        }\n",
    "        with open(filename+'.pickle', 'wb') as file_handle:\n",
    "            pickle.dump(dump_data, file_handle)\n",
    "        \n",
    "        if print_iter:\n",
    "            print('Time taken for this iteration: ', time() - start)\n",
    "    return param_history, func_history, error_history, test_error_list"
   ]
  },
  {
   "cell_type": "markdown",
   "id": "1f352b06",
   "metadata": {},
   "source": [
    "Finally, we can run the optimizer and obtain the results."
   ]
  },
  {
   "cell_type": "code",
   "execution_count": null,
   "id": "3118b8bf",
   "metadata": {
    "lines_to_next_cell": 2
   },
   "outputs": [],
   "source": [
    "#************************************\n",
    "# Quantum run: training and error calculation\n",
    "#************************************\n",
    "from time import time\n",
    "\n",
    "bounds = [[0.0, 1.0] for ii in range(len(rand_unshaped_pars))]\n",
    "c_fix = 0.1   \n",
    "a_est = 0.015  \n",
    "\n",
    "n_runs = 1\n",
    "niter = 1000\n",
    "param_histories = []\n",
    "cost_histories = np.zeros((n_runs, niter))\n",
    "error_train_histories = np.zeros((n_runs, niter))\n",
    "\n",
    "# For test error calculation (for reasons of time cost not for all iterations)\n",
    "iters_selected = [(i+1)*10-1 for i in range(int(niter/10))]\n",
    "iters_selected.insert(0, 0)\n",
    "error_test_histories = np.zeros((n_runs, len(iters_selected)))\n",
    "\n",
    "for i in range(n_runs):\n",
    "    print('---------------------------------')\n",
    "    print('Start run ', i+1)\n",
    "    rand_unshaped_pars = randparams(par_shapes)\n",
    "    start = time()\n",
    "    res = my_spsa(get_probs, get_cost, get_train_error, get_test_error, rand_unshaped_pars,\n",
    "                  bounds=bounds, niter=niter, shots=1, a=a_est, c=c_fix,\n",
    "                  print_iter=True, correct_func_value=False, filename=('MC_task_SPSAOutput_Run' + str(i)),\n",
    "                  iters_selected=iters_selected)\n",
    "    param_histories.append(res[0])   \n",
    "    cost_histories[i, :] = res[1]\n",
    "    error_train_histories[i, :] = res[2]\n",
    "    error_test_histories[i, :] = res[3]\n",
    "    print('run', i+1, 'done')\n",
    "    print('Time taken: ', time() - start)"
   ]
  },
  {
   "cell_type": "code",
   "execution_count": null,
   "id": "89b58f4a",
   "metadata": {
    "lines_to_next_cell": 2
   },
   "outputs": [],
   "source": [
    "#****************************************************\n",
    "# Averaging\n",
    "#****************************************************\n",
    "\n",
    "# In case N_runs > 1, one may want to calculate cost and errors averaged over several runs...\n",
    "\n",
    "# In this example notebook however not done, hence:\n",
    "cost_history = cost_histories[0, :]\n",
    "error_train_history = error_train_histories[0, :]\n",
    "error_test_history = error_test_histories[0, :]"
   ]
  },
  {
   "cell_type": "code",
   "execution_count": null,
   "id": "486f83e0",
   "metadata": {
    "lines_to_next_cell": 2
   },
   "outputs": [],
   "source": [
    "#****************************************************\n",
    "# Summary plot\n",
    "#****************************************************\n",
    "from matplotlib import pyplot as plt\n",
    "\n",
    "plt.rcParams.update({\"text.usetex\": True})\n",
    "fig, ax1 = plt.subplots(figsize=(13, 8))\n",
    "\n",
    "ax1.plot(range(len(cost_history)), cost_history, '-k', markersize=4, label='cost')\n",
    "ax1.set_ylabel(r\"Cost\", fontsize='x-large')\n",
    "ax1.set_xlabel(r\"SPSA~iterations\", fontsize='x-large')\n",
    "ax1.legend(loc='upper center', fontsize='x-large')\n",
    "\n",
    "ax2 = ax1.twinx()\n",
    "ax2.set_ylabel(r\"Error in \\%\", fontsize='x-large')\n",
    "ax2.plot(range(len(error_train_history)), error_train_history, '-g', markersize=4, label='training error')\n",
    "ax2.plot(iters_selected, error_test_history, 'xb', markersize=7, label='testing error')\n",
    "ax2.legend(loc='upper right', fontsize='x-large')\n",
    "\n",
    "plt.title('MC task, quantum run -- results', fontsize='x-large')\n",
    "plt.savefig('MC_task_Results.png', dpi=300, facecolor='white')  \n",
    "plt.show()"
   ]
  },
  {
   "cell_type": "code",
   "execution_count": null,
   "id": "42d77f50",
   "metadata": {},
   "outputs": [],
   "source": [
    "final_params = res[0][-1]\n",
    "func = F(reshape_params(final_params, par_shapes))\n",
    "final_train_circuits = [(func(circ) >> Measure() @ Measure()) for circ in train_data_psr]\n",
    "final_test_circuits = [(func(circ) >> Measure() @ Measure()) for circ in test_data_psr]\n",
    "train_results = Circuit.eval(*final_train_circuits, backend=backend, n_shots=max_n_shots, compilation=backend.default_compilation_pass(2))\n",
    "test_results = Circuit.eval(*final_test_circuits, backend=backend, n_shots=max_n_shots, compilation=backend.default_compilation_pass(2))\n",
    "train_results_tweaked = [np.abs(np.array(res.array) - 1e-9) for res in train_results]\n",
    "test_results_tweaked = [np.abs(np.array(res.array) - 1e-9) for res in test_results]\n",
    "pred_train_results = [res.flatten() / np.sum(res) for res in train_results_tweaked]\n",
    "pred_test_results = [res.flatten() / np.sum(res) for res in test_results_tweaked]"
   ]
  },
  {
   "cell_type": "code",
   "execution_count": null,
   "id": "5f311c03",
   "metadata": {},
   "outputs": [],
   "source": [
    "correct = 0\n",
    "for i, res in enumerate(pred_train_results):\n",
    "    pred_result = np.argmax(res.flatten())\n",
    "    train_result = np.argmax(train_labels[i])\n",
    "    print(train_sent[i])\n",
    "    #print(res.flatten())\n",
    "    print(pred_result,train_result)\n",
    "    if train_result == pred_result:\n",
    "        correct += 1\n",
    "    #print(f'Result: {train_array, train_result}, Predicted result: {res, pred_result}')\n",
    "print('Correct predictions (train):',correct/len(train_results_tweaked))"
   ]
  },
  {
   "cell_type": "code",
   "execution_count": null,
   "id": "3325c12f",
   "metadata": {},
   "outputs": [],
   "source": [
    "correct = 0\n",
    "for i, res in enumerate(test_results_tweaked):\n",
    "    pred_result = np.argmax(res.flatten())\n",
    "    test_result = np.argmax(test_labels[i])\n",
    "    if test_result == pred_result:\n",
    "        correct += 1\n",
    "print('Correct predictions (test):',correct/len(test_results_tweaked))"
   ]
  }
 ],
 "metadata": {
  "kernelspec": {
   "display_name": "Python 3",
   "language": "python",
   "name": "python3"
  },
  "language_info": {
   "codemirror_mode": {
    "name": "ipython",
    "version": 3
   },
   "file_extension": ".py",
   "mimetype": "text/x-python",
   "name": "python",
   "nbconvert_exporter": "python",
   "pygments_lexer": "ipython3",
   "version": "3.9.4"
  }
 },
 "nbformat": 4,
 "nbformat_minor": 5
}
