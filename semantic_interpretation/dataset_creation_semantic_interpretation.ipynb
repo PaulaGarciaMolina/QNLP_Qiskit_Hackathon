{
 "cells": [
  {
   "cell_type": "markdown",
   "id": "reliable-natural",
   "metadata": {},
   "source": [
    "# Semantic interpretation.\n",
    "\n",
    "Semantic interpretation is a NLP technique to draw the meaning of a text/sentence. In this implementation, we will focuse on determining two sentences in different languages (english and spanish) have the same meaning.\n",
    "\n",
    "Some possible sentences for our dataset are:\n",
    "\n",
    "- Woman buys new car & Mujer compra coche nuevo (1)\n",
    "- Man buys blue car & Mujer compra coche azul (0)\n",
    "- Woman buys new car & Mujer compra automóvil nuevo (1)\n",
    "- Man buys new car & Hombre compra automóvil viejo (0)\n",
    "- Woman buys old car & Mujer adquiere coche viejo (1)\n",
    "- Woman buys new car & Mujer hurta coche nuevo (0)\n",
    "- Woman buys new car & Mujer roba coche rojo (0)\n",
    "- Woman steals red car & Mujer roba coche rojo (0)\n",
    "...\n",
    "\n",
    "Where each example follows this structure: Sentence in english & Sentence in spanish (meaning coincidence label).\n",
    "\n",
    "Our dataset is built using this vocabulary:\n",
    "\n",
    "\n",
    "| Subject | Verbs | Objects | Adjectives | | Nombres | Verbos | Objetos | Adjetivos |\n",
    "| --- | --- | --- | --- | | --- | --- | --- | --- |\n",
    "| Woman | steals | car | old | | Mujer | roba | coche | viejo |\n",
    "| Man | buys | sofa | red | | Hombre | hurta | automóvil | nuevo |\n",
    "|  | purchases | coach | blue | |  | compra | sillón | |\n",
    "|  | breaks | notebook | new | |  | rompe | cuaderno | |\n",
    "\n",
    "\n",
    "The proposed vocabulary has 12 words and two different kind of sentences for each language:\n",
    "- Subject + Verb + Object (32 sentences)\n",
    "- Subject + Verb + (Adj +) Object (64 sentences)\n",
    "\n",
    "This makes 96 sentences per language and hence 9216 possible combinations."
   ]
  },
  {
   "cell_type": "markdown",
   "id": "indirect-partner",
   "metadata": {},
   "source": [
    "## 1. Create dataset\n"
   ]
  },
  {
   "cell_type": "markdown",
   "id": "least-african",
   "metadata": {},
   "source": [
    "### 1.1. Define the vocabulary\n",
    "\n",
    "The first step to create a dataset is to define the words, their meaning and the word type. We have three types of words: nouns, adjectives, verbs (transitive). We also distinguish two different types of nouns: objects and subjects. "
   ]
  },
  {
   "cell_type": "code",
   "execution_count": 1,
   "id": "excellent-jurisdiction",
   "metadata": {},
   "outputs": [],
   "source": [
    "import numpy as np\n",
    "import pickle"
   ]
  },
  {
   "cell_type": "code",
   "execution_count": 41,
   "id": "discrete-killer",
   "metadata": {},
   "outputs": [],
   "source": [
    "from discopy import Ty, Word # Import the classes for the type of word and for the word\n",
    "\n",
    "s, n = Ty('s'), Ty('n') # Define the types s and n\n",
    "nphr, adj, tv, iv, vphr = Ty('NP'), Ty('ADJ'), Ty('TV'), Ty('IV'), Ty('VP')\n",
    "\n",
    "# Define the words (notice that we include both meaning and grammar)\n",
    "\n",
    "# nouns (subjects)\n",
    "man, woman = Word('man', n), Word('woman', n)\n",
    "mujer, hombre = Word('mujer', n), Word('hombre', n)\n",
    "# nouns (objects)\n",
    "car, sofa, coach, notebook = Word('car', n), Word('sofa', n), Word('coach', n), Word('notebook', n)\n",
    "coche, automovil, sillon, cuaderno = Word('coche', n), Word('automovil', n), Word('sillón', n), Word('cuaderno', n)\n",
    "# adjectives\n",
    "old, new = Word('old', n @ n.l), Word('new', n @ n.l)\n",
    "viejo, nuevo = Word('viejo', n.r @ n), Word('nuevo', n.r @ n )\n",
    "# Transitive verbs\n",
    "buys, purchases, steals, breaks  = Word('buys', n.r @ s @ n.l), Word('purchases', n.r @ s @ n.l), Word('steals', n.r @ s @ n.l), Word('breaks', n.r @ s @ n.l)\n",
    "compra, roba, hurta, rompe  = Word('compra', n.r @ s @ n.l), Word('roba', n.r @ s @ n.l), Word('hurta', n.r @ s @ n.l), Word('rompe', n.r @ s @ n.l)\n",
    "\n",
    "subjects = [man, woman]\n",
    "sujetos = [mujer, hombre]\n",
    "verbs = [buys, purchases, steals, breaks]\n",
    "verbos = [compra, roba, hurta, rompe]\n",
    "adjectives = [old, new]\n",
    "adjetivos = [viejo, nuevo]\n",
    "objects = [car, sofa, coach, notebook]\n",
    "objetos = [coche,  sillon, automovil, cuaderno]\n",
    "\n",
    "\n",
    "vocab_E = subjects + verbs + adjectives + objects \n",
    "vocab_S = sujetos + verbos + adjetivos + objetos"
   ]
  },
  {
   "cell_type": "markdown",
   "id": "inclusive-costume",
   "metadata": {},
   "source": [
    "### 1.2. Define the grammar\n",
    "\n",
    "In this dataset we are going to consider the following structures to construct the sentences:\n",
    "\n",
    "- noun + t. verb + noun\n",
    "\n"
   ]
  },
  {
   "cell_type": "code",
   "execution_count": 15,
   "id": "medieval-single",
   "metadata": {},
   "outputs": [
    {
     "data": {
      "image/png": "[encoded data removed]",
      "text/plain": [
       "<Figure size 432x288 with 1 Axes>"
      ]
     },
     "metadata": {
      "needs_background": "light"
     },
     "output_type": "display_data"
    }
   ],
   "source": [
    "from discopy import Cup, Id, pregroup\n",
    "\n",
    "grammar =  Cup(n, n.r) @ Id(s) @ Cup(n.l, n)\n",
    "sentence = woman @ buys @ car >> grammar\n",
    "pregroup.draw(sentence)"
   ]
  },
  {
   "cell_type": "markdown",
   "id": "initial-disorder",
   "metadata": {},
   "source": [
    "- noun + t. verb + adjective + noun (for english)"
   ]
  },
  {
   "cell_type": "code",
   "execution_count": 16,
   "id": "round-shaft",
   "metadata": {},
   "outputs": [
    {
     "data": {
      "image/png": "[encoded data removed]",
      "text/plain": [
       "<Figure size 432x288 with 1 Axes>"
      ]
     },
     "metadata": {
      "needs_background": "light"
     },
     "output_type": "display_data"
    }
   ],
   "source": [
    "grammar =  Cup(n, n.r) @ Id(s) @ Cup(n.l, n) @ Cup(n.l, n)\n",
    "sentence = woman @ buys @ new @ car >> grammar\n",
    "pregroup.draw(sentence)"
   ]
  },
  {
   "cell_type": "markdown",
   "id": "rotary-method",
   "metadata": {},
   "source": [
    "- noun + t. verb + noun +adjective (for spanish)"
   ]
  },
  {
   "cell_type": "code",
   "execution_count": 53,
   "id": "paperback-ebony",
   "metadata": {},
   "outputs": [
    {
     "data": {
      "image/png": "[encoded data removed]",
      "text/plain": [
       "<Figure size 432x288 with 1 Axes>"
      ]
     },
     "metadata": {
      "needs_background": "light"
     },
     "output_type": "display_data"
    }
   ],
   "source": [
    "grammar =  Cup(n, n.r) @ Id (s @ n.l) @ Cup(n, n.r) @ Id(n) >> Id(s) @ Cup(n.l, n) >> Id(s)\n",
    "sentence = mujer @ compra @ coche @ viejo >> grammar\n",
    "pregroup.draw(sentence)"
   ]
  },
  {
   "cell_type": "markdown",
   "id": "secret-bargain",
   "metadata": {},
   "source": [
    "Now we have seen how the grammatical structure of each type of sentence is, so we are ready to obtain all the grammatical sentences that we can construct with them with the vocabulary that we are using. "
   ]
  },
  {
   "cell_type": "code",
   "execution_count": 72,
   "id": "center-pixel",
   "metadata": {},
   "outputs": [],
   "source": [
    "from discopy import Diagram\n",
    "from discopy.grammar import draw\n",
    "\n",
    "# Store the grammatical structures in a dictionary \n",
    "\n",
    "grammar_dict = {\n",
    "    'NVN' :  Cup(n, n.r) @ Id(s) @ Cup(n.l, n),\n",
    "    'NVAN' : Cup(n, n.r) @ Id(s) @ Cup(n.l, n) @ Cup(n.l, n),\n",
    "    'NVNA' : Cup(n, n.r) @ Id (s @ n.l) @ Cup(n, n.r) @ Id(n) >> Id(s) @ Cup(n.l, n) >> Id(s)}                                                                   \n",
    "\n",
    "# Create parsing (grammatical analysis) dictionary where the grammatical sentences\n",
    "# are the keys and the associated values are the diagrams (words + grammar)\n",
    "\n",
    "data_psr = {}\n",
    "\n",
    "# English noun+verb+noun sentences\n",
    "parsing_NVNe = {\"{} {} {}.\".format(subj, verb, obj): subj @ verb @ obj  >> grammar_dict['NVN']\n",
    "            for subj in subjects for verb in verbs for obj in objects}\n",
    "sentences_NVNe = list(parsing_NVNe.keys())\n",
    "for sentence in sentences_NVNe:\n",
    "    diagram = parsing_NVNe[sentence]\n",
    "    data_psr[sentence] = parsing_NVNe[sentence]\n",
    "    \n",
    "# Spanish noun+verb+noun sentences\n",
    "parsing_NVNs = {\"{} {} {}.\".format(subj, verb, obj): subj @ verb @ obj  >> grammar_dict['NVN']\n",
    "            for subj in sujetos for verb in verbos for obj in objetos}\n",
    "sentences_NVNs = list(parsing_NVNs.keys())\n",
    "for sentence in sentences_NVNs:\n",
    "    diagram = parsing_NVNs[sentence]\n",
    "    data_psr[sentence] = parsing_NVNs[sentence]\n",
    "    \n",
    "# English noun+verb+adjective+noun sentences\n",
    "parsing_NVANe = {\"{} {} {} {}.\".format(subj, verb, adj, obj): subj @ verb @ adj @ obj  >> grammar_dict['NVAN']\n",
    "            for subj in subjects  for verb in verbs for adj in adjectives for obj in objects}\n",
    "sentences_NVANe = list(parsing_NVANe.keys())\n",
    "for sentence in sentences_NVANe:\n",
    "    diagram = parsing_NVANe[sentence]\n",
    "    data_psr[sentence] = parsing_NVANe[sentence]\n",
    "    \n",
    "# Spanish noun+verb+noun+adjectives sentences\n",
    "parsing_NVNAs = {\"{} {} {} {}.\".format(subj, verb, obj, adj): subj @ verb @ obj @ adj  >> grammar_dict['NVNA']\n",
    "            for subj in sujetos for verb in verbos for obj in objetos  for adj in adjetivos}\n",
    "sentences_NVNAs = list(parsing_NVNAs.keys())\n",
    "for sentence in sentences_NVNAs:\n",
    "    diagram = parsing_NVNAs[sentence]\n",
    "    data_psr[sentence] = parsing_NVNAs[sentence]"
   ]
  },
  {
   "cell_type": "markdown",
   "id": "nutritional-inflation",
   "metadata": {},
   "source": [
    "----->>>>> Hasta aquí he modificado el código, esta parte de arriba crea las frase. Ahora quedaría la parte nueva de emparejar la frases en un txt y asignarles la label."
   ]
  },
  {
   "cell_type": "markdown",
   "id": "quiet-taste",
   "metadata": {},
   "source": [
    "Now, we have the dataset with the sentences and their corresponding meaning and grammar. The next step is to design the corresponding quantum circuits to determine the sentiment for each sentence. We are aiming to distinguish between four different emotions: happy (0), sad (1), angry (2), scared (3). However, some sentences of the dataset cannot be clearly classified according to this criteria (for example, 'Man is old'). Therefore, the next step is to manually modify the dataset so all the sentences can be classified according to this criteria. In order to do that we will create a .txt file and assign the corresponding class to the viable sentences."
   ]
  },
  {
   "cell_type": "code",
   "execution_count": 7,
   "id": "ancient-indication",
   "metadata": {},
   "outputs": [],
   "source": [
    "from discopy import Diagram\n",
    "from discopy.grammar import draw\n",
    "\n",
    "# Store the grammatical structures in a dictionary \n",
    "\n",
    "grammar_dict = {\n",
    "    'ADJ_N' : Id(n) @ Cup(n.l, n),\n",
    "    'ADJ_N_IV' : Id(n) @ Cup(n.l, n) @ Id(n.r @ s) >> Cup(n, n.r) @ Id(s) >> Id(s),\n",
    "    'N_TV_N': Cup(n, n.r) @ Id(s) @ Cup(n.l, n)}\n",
    "                                                                          \n",
    "\n",
    "# Create parsing (grammatical analysis) dictionary where the grammatical sentences\n",
    "# are the keys and the associated values are the diagrams (words + grammar)\n",
    "data_file = open('.data.txt', 'w')\n",
    "\n",
    "# Attributive sentences\n",
    "parsing_att = {\"{} {}.\".format(adj, noun): adj @ noun >> grammar_dict['ADJ_N']\n",
    "            for adj in adjectives for noun in nouns}\n",
    "sentences_att = list(parsing_att.keys())\n",
    "for sentence in sentences_att:\n",
    "    with open('./data.txt', 'a') as f:\n",
    "        f.write(sentence + '_att \\n')\n",
    "    \n",
    "# Intransitive sentences\n",
    "parsing_int = {\"{} {} {}.\".format(adj, noun, int_verb): adj @ noun @ int_verb >> grammar_dict['ADJ_N_IV']\n",
    "            for adj in adjectives for noun in nouns for int_verb in int_verbs}\n",
    "sentences_int = list(parsing_int.keys())\n",
    "for sentence in sentences_int:\n",
    "    with open('./data.txt', 'a') as f:\n",
    "        f.write(sentence + '_int \\n')\n",
    "\n",
    "# Transitive sentences\n",
    "parsing_tra = {\"{} {} {}.\".format(subj, t_verb, obj):  subj @ t_verb @ obj >> grammar_dict['N_TV_N']\n",
    "            for subj in nouns for t_verb in t_verbs for obj in nouns}\n",
    "sentences_t = list(parsing_t.keys())\n",
    "for sentence in sentences_t:\n",
    "    with open('./data.txt', 'a') as f:\n",
    "        f.write(sentence + '_tra \\n')\n",
    "        \n",
    "data_file.close()"
   ]
  },
  {
   "cell_type": "markdown",
   "id": "supported-grill",
   "metadata": {},
   "source": [
    "### 1.3. Processed the data"
   ]
  },
  {
   "cell_type": "code",
   "execution_count": 8,
   "id": "weekly-yugoslavia",
   "metadata": {},
   "outputs": [],
   "source": [
    "with open('processed_data.txt') as f:\n",
    "    data = f.readlines()"
   ]
  },
  {
   "cell_type": "code",
   "execution_count": 9,
   "id": "architectural-stopping",
   "metadata": {},
   "outputs": [],
   "source": [
    "labels_dict = {}\n",
    "data_psr_dict = {}\n",
    "sent_type = {}\n",
    "for sentence in data:\n",
    "    sentstr = sentence[:-7]\n",
    "    if sentence[-6:-3] == 'att':\n",
    "        diagram = parsing_att[sentstr]\n",
    "        data_psr_dict[sentstr] = diagram\n",
    "        labels_dict[sentstr] = sentence[-2]\n",
    "        sent_type[sentstr] = 'att'\n",
    "    elif sentence[-6:-3] == 'int':\n",
    "        diagram = parsing_int[sentstr]\n",
    "        data_psr_dict[sentstr] = diagram\n",
    "        labels_dict[sentstr] = sentence[-2]\n",
    "        sent_type[sentstr] = 'int'\n",
    "    elif sentence[-6:-3] == 'tra':\n",
    "        diagram = parsing_tra[sentstr]\n",
    "        data_psr_dict[sentstr] = diagram\n",
    "        labels_dict[sentstr] = sentence[-2]\n",
    "        sent_type[sentstr] = 'tra'"
   ]
  },
  {
   "cell_type": "code",
   "execution_count": 10,
   "id": "interpreted-formula",
   "metadata": {},
   "outputs": [
    {
     "name": "stdout",
     "output_type": "stream",
     "text": [
      "Number of elements for each sentiment\n",
      "Happy:  14\n",
      "Sad:  24\n",
      "Angry:  21\n",
      "Scared:  27\n",
      "Total 86\n"
     ]
    }
   ],
   "source": [
    "c0 = 0\n",
    "c1 = 0\n",
    "c2 = 0\n",
    "c3 = 0\n",
    "for value in labels_dict.values():\n",
    "    if value == '0':\n",
    "        c0 +=1\n",
    "    elif value == '1':\n",
    "        c1 += 1\n",
    "    elif value == '2':\n",
    "        c2 += 1\n",
    "    elif value == '3':\n",
    "        c3 += 1\n",
    "print('Number of elements for each sentiment')\n",
    "print('Happy: ', c0)\n",
    "print('Sad: ', c1)\n",
    "print('Angry: ', c2)\n",
    "print('Scared: ', c3)\n",
    "print('Total', len(data_psr_dict))"
   ]
  },
  {
   "cell_type": "markdown",
   "id": "eight-intro",
   "metadata": {},
   "source": [
    "Now we have our dataset! The only problem left is the fact that the cups used in the diagrams are too resource consumming. Luckily, it is possible to remove them by transforming the states into effects (we are just doing this with the nouns as in https://github.com/CQCL/qnlp_lorenz_etal_2021_resources). Let us see some examples"
   ]
  },
  {
   "cell_type": "markdown",
   "id": "extraordinary-arthritis",
   "metadata": {},
   "source": [
    "- Attributive sentence"
   ]
  },
  {
   "cell_type": "code",
   "execution_count": 11,
   "id": "crucial-currency",
   "metadata": {},
   "outputs": [
    {
     "data": {
      "image/png": "[encoded data removed]",
      "text/plain": [
       "<Figure size 432x288 with 1 Axes>"
      ]
     },
     "metadata": {
      "needs_background": "light"
     },
     "output_type": "display_data"
    }
   ],
   "source": [
    "from discopy import Cap, Box\n",
    "woman2 = Box('woman', n.l, Ty())\n",
    "words_new = (Cap(n, n.l)) >> (gloomy) @ Id(n) @ woman2\n",
    "sentence = words_new >> grammar_dict['ADJ_N']\n",
    "sentence = sentence.normal_form()\n",
    "sentence.draw()"
   ]
  },
  {
   "cell_type": "markdown",
   "id": "applied-heath",
   "metadata": {},
   "source": [
    "- Intransitive sentence"
   ]
  },
  {
   "cell_type": "code",
   "execution_count": 12,
   "id": "chubby-extraction",
   "metadata": {},
   "outputs": [],
   "source": [
    "woman2 = Box('woman', n.l, Ty())\n",
    "words_new = (Cap(n, n.l)) >> (old @ Id(n) @ woman2 @ laughs)\n",
    "sentence = words_new >> grammar_dict['ADJ_N_IV']\n",
    "sentence = sentence.normal_form()"
   ]
  },
  {
   "cell_type": "code",
   "execution_count": 13,
   "id": "framed-postage",
   "metadata": {},
   "outputs": [
    {
     "data": {
      "image/png": "[encoded data removed]",
      "text/plain": [
       "<Figure size 432x288 with 1 Axes>"
      ]
     },
     "metadata": {
      "needs_background": "light"
     },
     "output_type": "display_data"
    }
   ],
   "source": [
    "sentence.draw()"
   ]
  },
  {
   "cell_type": "markdown",
   "id": "prescribed-yemen",
   "metadata": {},
   "source": [
    "- Transitive sentence"
   ]
  },
  {
   "cell_type": "code",
   "execution_count": 14,
   "id": "irish-miami",
   "metadata": {},
   "outputs": [
    {
     "data": {
      "image/png": "[encoded data removed]",
      "text/plain": [
       "<Figure size 432x288 with 1 Axes>"
      ]
     },
     "metadata": {
      "needs_background": "light"
     },
     "output_type": "display_data"
    }
   ],
   "source": [
    "woman2 = Box('woman', n.r, Ty())\n",
    "kid2 = Box('kid', n.l, Ty())\n",
    "words_new = (Cap(n.r, n) @ Cap(n, n.l)) >> (woman2 @ Id(n) @ grieves @ Id(n) @ kid2)\n",
    "sentence = words_new >> grammar_dict['N_TV_N']\n",
    "sentence = sentence.normal_form()\n",
    "sentence.draw()"
   ]
  },
  {
   "cell_type": "markdown",
   "id": "combined-republican",
   "metadata": {},
   "source": [
    "Let us apply this to our entire dataset."
   ]
  },
  {
   "cell_type": "code",
   "execution_count": 15,
   "id": "blank-dakota",
   "metadata": {},
   "outputs": [],
   "source": [
    "data_new_psr_dict = {}\n",
    "for sentstr in data_psr_dict.keys():\n",
    "    num_words = len(sentstr.split(' '))\n",
    "    words = data_psr_dict[sentstr].boxes[:num_words]\n",
    "    if sent_type[sentstr] == 'att':\n",
    "        noun = Box(words[1].name, n.l, Ty())\n",
    "        words_new = (Cap(n, n.l)) >> (words[0]) @ Id(n) @ noun\n",
    "        sentence = words_new >> grammar_dict['ADJ_N']\n",
    "        data_new_psr_dict[sentstr] = sentence.normal_form()\n",
    "    elif sent_type[sentstr] == 'int':\n",
    "        noun = Box(words[1].name, n.l, Ty())\n",
    "        words_new = (Cap(n, n.l)) >> (words[0] @ Id(n) @ noun @ words[2])\n",
    "        sentence = words_new >> grammar_dict['ADJ_N_IV']\n",
    "        data_new_psr_dict[sentstr] = sentence.normal_form()\n",
    "    elif sent_type[sentstr] == 'tra':\n",
    "        noun1 = Box(words[0].name, n.r, Ty())\n",
    "        noun2 = Box(words[2].name, n.l, Ty())\n",
    "        words_new = (Cap(n.r, n) @ Cap(n, n.l)) >> (noun1 @ Id(n) @ words[1] @ Id(n) @ noun2)\n",
    "        sentence = words_new >> grammar_dict['N_TV_N']\n",
    "        data_new_psr_dict[sentstr] = sentence.normal_form()"
   ]
  },
  {
   "cell_type": "markdown",
   "id": "arbitrary-illinois",
   "metadata": {},
   "source": [
    "The final step before the implementation of the quantum circuit is to redefine the vocabulary according to the new domain and codamain for the nouns as effects."
   ]
  },
  {
   "cell_type": "code",
   "execution_count": 16,
   "id": "electronic-senegal",
   "metadata": {},
   "outputs": [],
   "source": [
    "vocab_psr = []\n",
    "for word in vocab:\n",
    "    if word.cod == Ty('n'):\n",
    "        vocab_psr.append(Box(word.name, n.r, Ty()))   # n.l case is dealt with in definition of quantum functor\n",
    "    else:\n",
    "        vocab_psr.append(word)"
   ]
  }
 ],
 "metadata": {
  "kernelspec": {
   "display_name": "Python 3",
   "language": "python",
   "name": "python3"
  },
  "language_info": {
   "codemirror_mode": {
    "name": "ipython",
    "version": 3
   },
   "file_extension": ".py",
   "mimetype": "text/x-python",
   "name": "python",
   "nbconvert_exporter": "python",
   "pygments_lexer": "ipython3",
   "version": "3.8.5"
  }
 },
 "nbformat": 4,
 "nbformat_minor": 5
}
