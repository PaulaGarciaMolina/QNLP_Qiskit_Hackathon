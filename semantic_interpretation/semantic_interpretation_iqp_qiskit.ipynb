{
 "cells": [
  {
   "cell_type": "markdown",
   "id": "efed5681",
   "metadata": {},
   "source": [
    "# Semantic interpretation.\n",
    "\n",
    "Semantic interpretation is a NLP technique to draw the meaning of a text/sentence. In this implementation, we will focuse on determining two sentences in different languages (english and spanish) have the same meaning.\n",
    "\n",
    "Some possible sentences for our dataset are:\n",
    "\n",
    "- Woman buys new car & Mujer compra coche nuevo (1)\n",
    "- Man buys blue car & Mujer compra coche azul (0)\n",
    "- Woman buys new car & Mujer compra automóvil nuevo (1)\n",
    "- Man buys new car & Hombre compra automóvil viejo (0)\n",
    "- Woman buys old car & Mujer adquiere coche viejo (1)\n",
    "- Woman buys new car & Mujer hurta coche nuevo (0)\n",
    "- Woman buys new car & Mujer roba coche rojo (0)\n",
    "- Woman steals red car & Mujer roba coche rojo (0)\n",
    "...\n",
    "\n",
    "Where each example follows this structure: Sentence in english & Sentence in spanish (meaning coincidence label).\n",
    "\n",
    "Our dataset is built using this vocabulary:\n",
    "\n",
    "\n",
    "| Subject | Verbs | Objects | Adjectives | | Nombres | Verbos | Objetos | Adjetivos |\n",
    "| --- | --- | --- | --- | | --- | --- | --- | --- |\n",
    "| Woman | steals | car | old | | Mujer | roba | coche | viejo |\n",
    "| Man | buys | sofa | new | | Hombre | hurta | automóvil | nuevo |\n",
    "|  | purchases | coach | red | |  | compra | sillón | rojo |\n",
    "|  | breaks | notebook | blue | |  | rompe | cuaderno | azul |\n",
    "\n",
    "\n",
    "The proposed vocabulary has 14 words and two different kind of sentences for each language:\n",
    "- Subject + Verb + Object (32 sentences)\n",
    "- Subject + Verb + (Adj +) Object (128 sentences)\n",
    "\n",
    "This makes 160 sentences per language and hence 25600 possible combinations."
   ]
  },
  {
   "cell_type": "markdown",
   "id": "51b8eea4",
   "metadata": {},
   "source": [
    "Or without synonyms:\n",
    "\n",
    "| Subject | Verbs | Objects | Adjectives | | Nombres | Verbos | Objetos | Adjetivos |\n",
    "| --- | --- | --- | --- | | --- | --- | --- | --- |\n",
    "| Woman | steals | car | old | | Mujer | roba | coche | viejo |\n",
    "| Man | buys | sofa | new | | Hombre | rompe | cuaderno | nuevo |\n",
    "|  | breaks | notebook | red | |  | compra | sillón | rojo |\n",
    "|  |  |  | blue | |  |  |  | azul |"
   ]
  },
  {
   "cell_type": "markdown",
   "id": "21b7bb02",
   "metadata": {},
   "source": [
    "## 1. Create dataset"
   ]
  },
  {
   "cell_type": "markdown",
   "id": "167ec751",
   "metadata": {},
   "source": [
    "### 1.1. Define the vocabulary\n",
    "\n",
    "The first step to create a dataset is to define the words, their meaning and the word type. We have three types of words: nouns, adjectives, verbs (transitive). We also distinguish two different types of nouns: objects and subjects. "
   ]
  },
  {
   "cell_type": "code",
   "execution_count": 1,
   "id": "02cb3cd6",
   "metadata": {},
   "outputs": [],
   "source": [
    "import numpy as np\n",
    "import math\n",
    "import pickle"
   ]
  },
  {
   "cell_type": "markdown",
   "id": "e005c762",
   "metadata": {},
   "source": [
    "##### With synonyms (not used in this notebook)"
   ]
  },
  {
   "cell_type": "code",
   "execution_count": 3,
   "id": "2276f40e",
   "metadata": {},
   "outputs": [],
   "source": [
    "from discopy import Ty, Word # Import the classes for the type of word and for the word\n",
    "\n",
    "s, n = Ty('s'), Ty('n') # Define the types s and n\n",
    "nphr, adj, tv, iv, vphr = Ty('NP'), Ty('ADJ'), Ty('TV'), Ty('IV'), Ty('VP')\n",
    "\n",
    "# Define the words (notice that we include both meaning and grammar)\n",
    "\n",
    "# nouns (subjects)\n",
    "man, woman = Word('man', n), Word('woman', n)\n",
    "mujer, hombre = Word('mujer', n), Word('hombre', n)\n",
    "# nouns (objects)\n",
    "car, sofa, coach, notebook = Word('car', n), Word('sofa', n), Word('coach', n), Word('notebook', n)\n",
    "coche, automovil, sillon, cuaderno = Word('coche', n), Word('automovil', n), Word('sillón', n), Word('cuaderno', n)\n",
    "# adjectives\n",
    "old, new, red, blue = Word('old', n @ n.l), Word('new', n @ n.l), Word('red', n @ n.l), Word('blue', n @ n.l) \n",
    "viejo, nuevo, rojo, azul = Word('viejo', n.r @ n), Word('nuevo', n.r @ n ), Word('rojo', n.r @ n ), Word('blue', n.r @ n )\n",
    "# Transitive verbs\n",
    "buys, purchases, steals, breaks  = Word('buys', n.r @ s @ n.l), Word('purchases', n.r @ s @ n.l), Word('steals', n.r @ s @ n.l), Word('breaks', n.r @ s @ n.l)\n",
    "compra, roba, hurta, rompe  = Word('compra', n.r @ s @ n.l), Word('roba', n.r @ s @ n.l), Word('hurta', n.r @ s @ n.l), Word('rompe', n.r @ s @ n.l)\n",
    "\n",
    "subjects = [man, woman]\n",
    "sujetos = [mujer, hombre]\n",
    "verbs = [buys, purchases, steals, breaks]\n",
    "verbos = [compra, roba, hurta, rompe]\n",
    "adjectives = [old, new, red, blue]\n",
    "adjetivos = [viejo, nuevo, rojo, azul]\n",
    "objects = [car, sofa, coach, notebook]\n",
    "objetos = [coche,  sillon, automovil, cuaderno]\n",
    "\n",
    "\n",
    "vocab_E = subjects + verbs + adjectives + objects \n",
    "vocab_S = sujetos + verbos + adjetivos + objetos"
   ]
  },
  {
   "cell_type": "markdown",
   "id": "cc90ebff",
   "metadata": {},
   "source": [
    "##### Without synonyms"
   ]
  },
  {
   "cell_type": "code",
   "execution_count": 2,
   "id": "5ffb6364",
   "metadata": {},
   "outputs": [],
   "source": [
    "from discopy import Ty, Word # Import the classes for the type of word and for the word\n",
    "\n",
    "s, n = Ty('s'), Ty('n') # Define the types s and n\n",
    "nphr, adj, tv, iv, vphr = Ty('NP'), Ty('ADJ'), Ty('TV'), Ty('IV'), Ty('VP')\n",
    "\n",
    "# Define the words (notice that we include both meaning and grammar)\n",
    "\n",
    "# nouns (subjects)\n",
    "man, woman = Word('man', n), Word('woman', n)\n",
    "mujer, hombre = Word('mujer', n), Word('hombre', n)\n",
    "# nouns (objects)\n",
    "car, sofa, notebook = Word('car', n), Word('sofa', n), Word('notebook', n)\n",
    "coche, sillon, cuaderno = Word('coche', n), Word('sillon', n), Word('cuaderno', n)\n",
    "# adjectives\n",
    "old, new, red, blue = Word('old', n @ n.l), Word('new', n @ n.l), Word('red', n @ n.l), Word('blue', n @ n.l) \n",
    "viejo, nuevo, rojo, azul = Word('viejo', n.r @ n), Word('nuevo', n.r @ n ), Word('rojo', n.r @ n ), Word('azul', n.r @ n )\n",
    "# Transitive verbs\n",
    "buys, steals, breaks  = Word('buys', n.r @ s @ n.l),  Word('steals', n.r @ s @ n.l), Word('breaks', n.r @ s @ n.l)\n",
    "compra, roba, rompe  = Word('compra', n.r @ s @ n.l), Word('roba', n.r @ s @ n.l), Word('rompe', n.r @ s @ n.l)\n",
    "\n",
    "subjects = [man, woman]\n",
    "sujetos = [mujer, hombre]\n",
    "verbs = [buys, steals, breaks]\n",
    "verbos = [compra, roba, rompe]\n",
    "adjectives = [old, new, red, blue]\n",
    "adjetivos = [viejo, nuevo, rojo, azul]\n",
    "objects = [car, sofa, notebook]\n",
    "objetos = [coche,  sillon, cuaderno]\n",
    "\n",
    "\n",
    "vocab_E = subjects + verbs + adjectives + objects \n",
    "vocab_S = sujetos + verbos + adjetivos + objetos"
   ]
  },
  {
   "cell_type": "markdown",
   "id": "e826d448",
   "metadata": {},
   "source": [
    "### 1.2. Define the grammar\n",
    "\n",
    "In this dataset we are going to consider the following structures to construct the sentences:\n",
    "\n",
    "- noun + t. verb + noun\n",
    "\n"
   ]
  },
  {
   "cell_type": "code",
   "execution_count": 3,
   "id": "f8f1ff04",
   "metadata": {},
   "outputs": [
    {
     "data": {
      "image/png": "[encoded data removed]",
      "text/plain": [
       "<Figure size 432x288 with 1 Axes>"
      ]
     },
     "metadata": {
      "needs_background": "light"
     },
     "output_type": "display_data"
    }
   ],
   "source": [
    "from discopy import Cup, Id, pregroup\n",
    "\n",
    "grammar =  Cup(n, n.r) @ Id(s) @ Cup(n.l, n)\n",
    "sentence = woman @ buys @ car >> grammar\n",
    "pregroup.draw(sentence)"
   ]
  },
  {
   "cell_type": "markdown",
   "id": "0d519b77",
   "metadata": {},
   "source": [
    "- noun + t. verb + adjective + noun (for english)"
   ]
  },
  {
   "cell_type": "code",
   "execution_count": 4,
   "id": "bc183b55",
   "metadata": {},
   "outputs": [
    {
     "data": {
      "image/png": "[encoded data removed]",
      "text/plain": [
       "<Figure size 432x288 with 1 Axes>"
      ]
     },
     "metadata": {
      "needs_background": "light"
     },
     "output_type": "display_data"
    }
   ],
   "source": [
    "grammar =  Cup(n, n.r) @ Id(s) @ Cup(n.l, n) @ Cup(n.l, n)\n",
    "sentence = woman @ buys @ new @ car >> grammar\n",
    "pregroup.draw(sentence)"
   ]
  },
  {
   "cell_type": "markdown",
   "id": "943b1de6",
   "metadata": {},
   "source": [
    "- noun + t. verb + noun +adjective (for spanish)"
   ]
  },
  {
   "cell_type": "code",
   "execution_count": 5,
   "id": "ac53ad81",
   "metadata": {},
   "outputs": [
    {
     "data": {
      "image/png": "[encoded data removed]",
      "text/plain": [
       "<Figure size 432x288 with 1 Axes>"
      ]
     },
     "metadata": {
      "needs_background": "light"
     },
     "output_type": "display_data"
    }
   ],
   "source": [
    "grammar =  Cup(n, n.r) @ Id (s @ n.l) @ Cup(n, n.r) @ Id(n) >> Id(s) @ Cup(n.l, n) >> Id(s)\n",
    "sentence = mujer @ compra @ coche @ viejo >> grammar\n",
    "pregroup.draw(sentence)"
   ]
  },
  {
   "cell_type": "markdown",
   "id": "7bc8a51d",
   "metadata": {},
   "source": [
    "Now we have seen how the grammatical structure of each type of sentence is, so we are ready to obtain all the grammatical sentences that we can construct with them with the vocabulary that we are using. "
   ]
  },
  {
   "cell_type": "code",
   "execution_count": 6,
   "id": "e90602e6",
   "metadata": {},
   "outputs": [],
   "source": [
    "from discopy import Diagram\n",
    "from discopy.grammar import draw\n",
    "\n",
    "# Store the grammatical structures in a dictionary \n",
    "\n",
    "grammar_dict = {\n",
    "    'NVN' :  Cup(n, n.r) @ Id(s) @ Cup(n.l, n),\n",
    "    'NVAN' : Cup(n, n.r) @ Id(s) @ Cup(n.l, n) @ Cup(n.l, n),\n",
    "    'NVNA' : Cup(n, n.r) @ Id (s @ n.l) @ Cup(n, n.r) @ Id(n) >> Id(s) @ Cup(n.l, n) >> Id(s)}                                                                   \n",
    "\n",
    "# Create parsing (grammatical analysis) dictionary where the grammatical sentences\n",
    "# are the keys and the associated values are the diagrams (words + grammar)\n",
    "\n",
    "data_psr = {}\n",
    "\n",
    "# English noun+verb+noun sentences\n",
    "parsing_NVNe = {\"{} {} {}.\".format(subj, verb, obj): subj @ verb @ obj  >> grammar_dict['NVN']\n",
    "            for subj in subjects for verb in verbs for obj in objects}\n",
    "sentences_NVNe = list(parsing_NVNe.keys())\n",
    "for sentence in sentences_NVNe:\n",
    "    diagram = parsing_NVNe[sentence]\n",
    "    data_psr[sentence] = parsing_NVNe[sentence]\n",
    "    \n",
    "# Spanish noun+verb+noun sentences\n",
    "parsing_NVNs = {\"{} {} {}.\".format(subj, verb, obj): subj @ verb @ obj  >> grammar_dict['NVN']\n",
    "            for subj in sujetos for verb in verbos for obj in objetos}\n",
    "sentences_NVNs = list(parsing_NVNs.keys())\n",
    "for sentence in sentences_NVNs:\n",
    "    diagram = parsing_NVNs[sentence]\n",
    "    data_psr[sentence] = parsing_NVNs[sentence]\n",
    "    \n",
    "# English noun+verb+adjective+noun sentences\n",
    "parsing_NVANe = {\"{} {} {} {}.\".format(subj, verb, adj, obj): subj @ verb @ adj @ obj  >> grammar_dict['NVAN']\n",
    "            for subj in subjects  for verb in verbs for adj in adjectives for obj in objects}\n",
    "sentences_NVANe = list(parsing_NVANe.keys())\n",
    "for sentence in sentences_NVANe:\n",
    "    diagram = parsing_NVANe[sentence]\n",
    "    data_psr[sentence] = parsing_NVANe[sentence]\n",
    "    \n",
    "# Spanish noun+verb+noun+adjectives sentences\n",
    "parsing_NVNAs = {\"{} {} {} {}.\".format(subj, verb, obj, adj): subj @ verb @ obj @ adj  >> grammar_dict['NVNA']\n",
    "            for subj in sujetos for verb in verbos for obj in objetos  for adj in adjetivos}\n",
    "sentences_NVNAs = list(parsing_NVNAs.keys())\n",
    "for sentence in sentences_NVNAs:\n",
    "    diagram = parsing_NVNAs[sentence]\n",
    "    data_psr[sentence] = parsing_NVNAs[sentence]"
   ]
  },
  {
   "cell_type": "markdown",
   "id": "768939da",
   "metadata": {},
   "source": [
    "### 1.3. Process the data "
   ]
  },
  {
   "cell_type": "code",
   "execution_count": 14,
   "id": "819c3fe7",
   "metadata": {},
   "outputs": [],
   "source": [
    "#*****************************************************************************************************\n",
    "#  Load datasets containing sentences and labels\n",
    "#*****************************************************************************************************\n",
    "#Small (20 sentences in english and 20 in spanish; 400 possible combinations)\n",
    "with open('DataSet_SI_eng_small.txt') as f:\n",
    "    dataeng_small = f.readlines()\n",
    "with open('DataSet_SI_spa_small.txt') as f:\n",
    "    dataspa_small = f.readlines()\n",
    "with open('TrainingSet_SI_labels_small.txt') as f: \n",
    "    train_labels_small = f.readlines() \n",
    "with open('TestSet_SI_labels_small.txt') as f: \n",
    "    test_labels_small = f.readlines() \n",
    "#Medium (65 sentences in english and 65 in spanish; 4225 possible combinations)\n",
    "with open('DataSet_SI_eng_medium.txt') as f:\n",
    "    dataeng_medium = f.readlines()\n",
    "with open('DataSet_SI_spa_medium.txt') as f:\n",
    "    dataspa_medium = f.readlines()\n",
    "with open('TrainingSet_SI_labels_medium.txt') as f: \n",
    "    train_labels_medium = f.readlines() \n",
    "with open('TestSet_SI_labels_medium.txt') as f: \n",
    "    test_labels_medium = f.readlines() \n",
    "#Big (90 sentences in english and 90 in spanish; 8100 possible combinations)\n",
    "with open('DataSet_SI_eng_big.txt') as f:\n",
    "    dataeng_big = f.readlines()\n",
    "with open('DataSet_SI_spa_big.txt') as f:\n",
    "    dataspa_big = f.readlines()\n",
    "with open('TrainingSet_SI_labels_big.txt') as f: \n",
    "    train_labels_big = f.readlines() \n",
    "with open('TestSet_SI_labels_big.txt') as f: \n",
    "    test_labels_big = f.readlines() "
   ]
  },
  {
   "cell_type": "code",
   "execution_count": 15,
   "id": "ef5ccd3e",
   "metadata": {},
   "outputs": [],
   "source": [
    "#*****************************************************************************************************\n",
    "#  Transform senteces into diagrams\n",
    "#*****************************************************************************************************\n",
    "#Small\n",
    "dataeng_psr_dict_small, dataspa_psr_dict_small= {},{}\n",
    "dict_small=[dataeng_psr_dict_small, dataspa_psr_dict_small]\n",
    "sent_type_small={}\n",
    "data_small=[dataeng_small,dataspa_small]\n",
    "#Medium\n",
    "dataeng_psr_dict_medium, dataspa_psr_dict_medium = {},{}\n",
    "dict_medium=[dataeng_psr_dict_medium, dataspa_psr_dict_medium, sent_type_medium]\n",
    "sent_type_medium={}\n",
    "data_medium=[dataeng_medium,dataspa_medium]\n",
    "#Big\n",
    "dataeng_psr_dict_big, dataspa_psr_dict_big = {},{}\n",
    "dict_big=[dataeng_psr_dict_big, dataspa_psr_dict_big]\n",
    "sent_type_big={}\n",
    "data_big=[dataeng_big,dataspa_big]\n",
    "################\n",
    "parsing=[parsing_NVNe,parsing_NVNs,parsing_NVANe,parsing_NVNAs]\n",
    "types=['NVN','NVN','NVAN','NVNA']\n",
    "for (datasize,dictsize,sent_type) in zip([data_small,data_medium,data_big],[dict_small,dict_medium,dict_big],\n",
    "                                            [sent_type_small,sent_type_medium,sent_type_big]): \n",
    "    for (data,data_psr_dict)  in zip(datasize,dictsize):\n",
    "        for sentence in data:\n",
    "            sentstr = sentence[:-1]\n",
    "            for (par,typ) in zip(parsing,types):\n",
    "                if sentstr in list(par.keys()): \n",
    "                    diagram = par[sentstr]\n",
    "                    data_psr_dict[sentstr] = diagram\n",
    "                    sent_type[sentstr] = typ "
   ]
  },
  {
   "cell_type": "code",
   "execution_count": 16,
   "id": "5eded5a7",
   "metadata": {},
   "outputs": [],
   "source": [
    "#*****************************************************************************************************\n",
    "#  Save labels in lists to be used later on\n",
    "#*****************************************************************************************************\n",
    "#Training set (To train the paramenters)\n",
    "train_labelslist_small,train_labelslist_medium,train_labelslist_big=[],[],[]\n",
    "train_labelslist=[train_labelslist_small,train_labelslist_medium,train_labelslist_big]\n",
    "trainset_labels=[train_labels_small,train_labels_medium,train_labels_big]\n",
    "for (labelslist,labelsset) in zip(train_labelslist,trainset_labels):  \n",
    "    for pair in labelsset:\n",
    "        label=pair[-2]\n",
    "        labelslist.append(label)\n",
    "#Testing set (To test the trained paramenters)\n",
    "test_labelslist_small,test_labelslist_medium,test_labelslist_big=[],[],[]\n",
    "test_labelslist=[test_labelslist_small,test_labelslist_medium,test_labelslist_big]\n",
    "testset_labels=[test_labels_small,test_labels_medium,test_labels_big]\n",
    "for (labelslist,labelsset) in zip(test_labelslist,testset_labels):  \n",
    "    for pair in labelsset:\n",
    "        label=pair[-2]\n",
    "        labelslist.append(label)"
   ]
  },
  {
   "cell_type": "code",
   "execution_count": 17,
   "id": "6fbecdc4",
   "metadata": {},
   "outputs": [],
   "source": [
    "#*****************************************************************************************************\n",
    "#  Remove resource-consumming cups and transform them into effects (https://github.com/CQCL/qnlp_lorenz_etal_2021_resources)\n",
    "#*****************************************************************************************************\n",
    "from discopy import Cap, Box\n",
    "#Old data with cups\n",
    "dataeng_psr_dict_sizes=[dataeng_psr_dict_small,dataeng_psr_dict_medium,dataeng_psr_dict_big]\n",
    "dataspa_psr_dict_sizes=[dataspa_psr_dict_small,dataspa_psr_dict_medium,dataspa_psr_dict_big]\n",
    "#New data with effects\n",
    "dataeng_new_psr_dict_small,dataeng_new_psr_dict_medium,dataeng_new_psr_dict_big = {},{},{}\n",
    "dataspa_new_psr_dict_small,dataspa_new_psr_dict_medium,dataspa_new_psr_dict_big = {},{},{}\n",
    "dataeng_new_psr_dict_sizes=[dataeng_new_psr_dict_small,dataeng_new_psr_dict_medium,dataeng_new_psr_dict_big]\n",
    "dataspa_new_psr_dict_sizes=[dataspa_new_psr_dict_small,dataspa_new_psr_dict_medium,dataspa_new_psr_dict_big]\n",
    "###########\n",
    "sent_type_size=[sent_type_small,sent_type_medium,sent_type_big]\n",
    "for (dataeng_new_psr_dict,dataspa_new_psr_dict,\n",
    "     dataeng_psr_dict,dataspa_psr_dict,sent_type) in zip(dataeng_new_psr_dict_sizes,dataspa_new_psr_dict_sizes,\n",
    "                                                         dataeng_psr_dict_sizes,dataspa_psr_dict_sizes,sent_type_size):\n",
    "    for (data_psr_dict,data_new_psr_dict)  in zip([dataeng_psr_dict,dataspa_psr_dict],\n",
    "                                                  [dataeng_new_psr_dict,dataspa_new_psr_dict]):\n",
    "        for sentstr in data_psr_dict.keys():\n",
    "            num_words = len(sentstr.split(' '))\n",
    "            words = data_psr_dict[sentstr].boxes[:num_words]\n",
    "            if sent_type[sentstr] == 'NVN':\n",
    "                noun1 = Box(words[0].name, n.r, Ty())\n",
    "                noun2 = Box(words[2].name, n.l, Ty())\n",
    "                words_new = (Cap(n.r, n) @ Cap(n, n.l)) >> (noun1 @ Id(n) @ words[1] @ Id(n) @ noun2)\n",
    "                sentence = words_new >> grammar_dict['NVN']\n",
    "                data_new_psr_dict[sentstr] = sentence.normal_form()\n",
    "            elif sent_type[sentstr] == 'NVAN':\n",
    "                noun1 = Box(words[0].name, n.r, Ty())\n",
    "                noun2 = Box(words[3].name, n.l, Ty())\n",
    "                words_new = (Cap(n.r, n) @ Cap(n, n.l)) >> (noun1 @ Id(n) @ words[1] @ words[2] @ Id(n) @ noun2)\n",
    "                sentence = words_new >> grammar_dict['NVAN']\n",
    "                data_new_psr_dict[sentstr] = sentence.normal_form()\n",
    "            elif sent_type[sentstr] == 'NVNA':\n",
    "                noun1 = Box(words[0].name, n.r, Ty())\n",
    "                noun2 = Box(words[2].name, n.r, Ty())\n",
    "                words_new = (Cap(n.r, n) @ Cap(n.r, n)) >> (noun1 @ Id(n) @ words[1] @ noun2 @ Id(n) @ words[3]) \n",
    "                sentence = words_new >> grammar_dict['NVNA']\n",
    "                data_new_psr_dict[sentstr] = sentence.normal_form()"
   ]
  },
  {
   "cell_type": "markdown",
   "id": "98d50eb7",
   "metadata": {},
   "source": [
    "The final step before the implementation of the quantum circuit is to redefine the vocabulary according to the new domain and codamain for the nouns as effects."
   ]
  },
  {
   "cell_type": "code",
   "execution_count": 19,
   "id": "09b20cc0",
   "metadata": {},
   "outputs": [],
   "source": [
    "#*****************************************************************************************************\n",
    "#  Redefine the vocabulary according to the new domain and code nouns as effects.\n",
    "#*****************************************************************************************************\n",
    "from discopy import Cap, Box\n",
    "#English\n",
    "vocab_psr_E = []\n",
    "for word in vocab_E:\n",
    "    if word.cod == Ty('n'):\n",
    "        vocab_psr_E.append(Box(word.name, n.r, Ty()))   # n.l case is dealt with in definition of quantum functor\n",
    "    else:\n",
    "        vocab_psr_E.append(word)\n",
    "#Spanish\n",
    "vocab_psr_S = []\n",
    "for word in vocab_S:\n",
    "    if word.cod == Ty('n'):\n",
    "        vocab_psr_S.append(Box(word.name, n.r, Ty()))   # n.l case is dealt with in definition of quantum functor\n",
    "    else:\n",
    "        vocab_psr_S.append(word)\n",
    "vocab_psr=vocab_psr_E+vocab_psr_S"
   ]
  },
  {
   "cell_type": "markdown",
   "id": "c0779f97",
   "metadata": {},
   "source": [
    "## 2. Create quantum circuit\n",
    "\n",
    "Once the dataset and its corresponding diagrams are created, the next step is to construct the variational quantum circuits associated with them. In order to do that, we will use different ansätze depending on the type of the word that we want to represent. In this case we only have three types of words, nouns, adjetives and verbs. Nouns will have associated 1 qubit, and sentences two qubits, therefore verbs 4 qubits, and adjetives 2 qubits. Moreover, we will also distinguish between states and effects when constructing the ansätze."
   ]
  },
  {
   "cell_type": "code",
   "execution_count": 20,
   "id": "4b624539",
   "metadata": {
    "lines_to_next_cell": 2
   },
   "outputs": [],
   "source": [
    "from discopy.quantum import Ket, IQPansatz, Bra, qubit\n",
    "from discopy.quantum import Ket, IQPansatz, Bra, qubit\n",
    "from discopy.quantum.gates import Rx, Rz\n",
    "from discopy.quantum.circuit import Functor, Id\n",
    "from discopy.quantum.circuit import Circuit\n",
    "from functools import reduce, partial\n",
    "\n",
    "q_s = 2 # number of qubits for type s (sentence)\n",
    "q_n = 1 # number of qubits for type n (noun)\n",
    "depth = 1 # depth of the IQPansatz\n",
    "p_n = 1       # number of parameters for a single-qubit word (noun); valued in {1,2,3}.\n",
    "\n",
    "# Define the dimensions of the objects of the circuit functor\n",
    "ob = {s: q_s, n: q_n}                          \n",
    "ob_cqmap = {s: qubit ** q_s, n: qubit ** q_n}   \n",
    "\n",
    "# Define the ansätze for states and effects\n",
    "\n",
    "def single_qubit_iqp_ansatz(params):\n",
    "    if len(params) == 1:\n",
    "        return Rx(params[0])  \n",
    "    if len(params) == 2:\n",
    "        return Rx(params[0]) >> Rz(params[1])\n",
    "    if len(params) == 3:\n",
    "        return IQPansatz(1, params) \n",
    "\n",
    "def ansatz_state(state, params):  \n",
    "    arity = sum(ob[Ty(factor.name)] for factor in state.cod)\n",
    "    if arity == 1:\n",
    "        return Ket(0) >> single_qubit_iqp_ansatz(params)\n",
    "    else:\n",
    "        return Ket(*tuple([0 for i in range(arity)])) >> IQPansatz(arity, params)\n",
    "    \n",
    "def ansatz_effect(effect, params):  \n",
    "    arity = sum(ob[Ty(factor.name)] for factor in effect.dom)\n",
    "    if arity == 1:\n",
    "        return single_qubit_iqp_ansatz(params) >> Bra(0)\n",
    "    else:\n",
    "        return IQPansatz(arity, params) >> Bra(*tuple([0 for i in range(arity)]))\n",
    "       \n",
    "def ansatz(box,params):\n",
    "    dom_type = box.dom\n",
    "    cod_type = box.cod\n",
    "    if len(dom_type) == 0 and len(cod_type) != 0:\n",
    "        return ansatz_state(box, params)\n",
    "    if len(dom_type) != 0 and len(cod_type) == 0:\n",
    "        return ansatz_effect(box, params)\n",
    "\n",
    "# Construct the circuit functor\n",
    "def F(params): \n",
    "    ar = dict()\n",
    "    for i in range(len(vocab_psr)):\n",
    "        pgbox = vocab_psr[i]\n",
    "        qbox = ansatz(vocab_psr[i], params[i])\n",
    "        ar.update({pgbox: qbox})\n",
    "        if pgbox.cod == Ty():\n",
    "            ar.update({Box(pgbox.name, n.l, Ty()): qbox})\n",
    "    return Functor(ob_cqmap, ar)"
   ]
  },
  {
   "cell_type": "code",
   "execution_count": 39,
   "id": "78d6763f",
   "metadata": {
    "lines_to_next_cell": 2
   },
   "outputs": [],
   "source": [
    "#*****************************************************\n",
    "# Functions to deal with the parametrisation\n",
    "#*****************************************************\n",
    "\n",
    "def paramshapes(vocab_psr):\n",
    "    parshapes = []    \n",
    "    for box in vocab_psr:\n",
    "        dom_type = box.dom\n",
    "        cod_type = box.cod\n",
    "        dom_arity = sum(ob[Ty(factor.name)] for factor in box.dom)\n",
    "        cod_arity = sum(ob[Ty(factor.name)] for factor in box.cod)\n",
    "        if dom_arity == 0 or cod_arity == 0:  # states and effects\n",
    "            arity = max(dom_arity, cod_arity)\n",
    "            assert arity != 0\n",
    "            if arity == 1:\n",
    "                parshapes.append((p_n,))       \n",
    "            if arity != 1:\n",
    "                parshapes.append((depth, arity-1))\n",
    "    return parshapes\n",
    "\n",
    "def randparams(par_shapes):\n",
    "    params = np.array([]) \n",
    "    for i in range(len(par_shapes)):\n",
    "        params = np.concatenate((params, np.ravel(np.random.rand(*par_shapes[i]))))\n",
    "    return params \n",
    "\n",
    "def reshape_params(unshaped_pars, par_shapes):\n",
    "    pars_reshaped = [[] for ii in range(len(par_shapes))]\n",
    "    shift = 0\n",
    "    for ss, s in enumerate(par_shapes):\n",
    "        idx0 = 0 + shift\n",
    "        if len(s) == 1:\n",
    "            idx1 = s[0] + shift\n",
    "        elif len(s) == 2:\n",
    "            idx1 = s[0] * s[1] + shift\n",
    "        pars_reshaped[ss] = np.reshape(unshaped_pars[idx0:idx1], s)\n",
    "        if len(s) == 1:\n",
    "            shift += s[0]\n",
    "        elif len(s) == 2:\n",
    "            shift += s[0] * s[1]\n",
    "    return pars_reshaped"
   ]
  },
  {
   "cell_type": "code",
   "execution_count": 44,
   "id": "5c8ce4b9",
   "metadata": {
    "lines_to_next_cell": 2,
    "tags": []
   },
   "outputs": [
    {
     "name": "stdout",
     "output_type": "stream",
     "text": [
      "Number of parameters:     36\n"
     ]
    }
   ],
   "source": [
    "#****************************************\n",
    "# Parameters of the current model\n",
    "#****************************************\n",
    "\n",
    "par_shapes = paramshapes(vocab_psr)\n",
    "rand_unshaped_pars = randparams(par_shapes)\n",
    "rand_shaped_pars = reshape_params(rand_unshaped_pars, par_shapes)\n",
    "\n",
    "print('Number of parameters:    ', len(rand_unshaped_pars))"
   ]
  },
  {
   "cell_type": "code",
   "execution_count": 75,
   "id": "ef58a7fa",
   "metadata": {},
   "outputs": [
    {
     "data": {
      "image/png": "[encoded data removed]",
      "text/plain": [
       "<Figure size 628.397x325.08 with 1 Axes>"
      ]
     },
     "execution_count": 75,
     "metadata": {},
     "output_type": "execute_result"
    }
   ],
   "source": [
    "#****************************************\n",
    "# Transform sentences diagrams into Qiskit Quantum Circuits\n",
    "#****************************************\n",
    "from pytket.extensions.qiskit import tk_to_qiskit\n",
    "from discopy.quantum import Measure\n",
    "\n",
    "def to_qiskitcircuit(unshaped_params,diagrams_dict): #unshaped_params=parameters to the variationals circuits\n",
    "                                                     #diagrams_dict=dictionary with the sentences as keys and their diagrams as values\n",
    "    func = F(reshape_params(unshaped_params, par_shapes))\n",
    "    circs=[]\n",
    "    for sentstr in diagrams_dict.keys():\n",
    "        diagram=diagrams_dict[sentstr]\n",
    "        circuit=(func(diagram) >> Measure() @ Measure()) #Add the measurements to the circuit\n",
    "        pytket_circuit = circuit.to_tk()\n",
    "        qiskit_circuit = tk_to_qiskit(pytket_circuit)   #Create Qiskit Quantum Circuit\n",
    "        circs.append(qiskit_circuit)\n",
    "    return circs\n",
    "########## \n",
    "#For example (with random parameters \"rand_shaped_pars\")\n",
    "\n",
    "circuits_eng_small,circuits_eng_medium,circuits_eng_big=[],[],[]\n",
    "circuits_spa_small,circuits_spa_medium,circuits_spa_big=[],[],[]\n",
    "circuits_eng = [circuits_eng_small,circuits_eng_medium,circuits_eng_big] # list of Qiskit Quantum Crcuits of english sentences \n",
    "circuits_spa = [circuits_spa_small,circuits_spa_medium,circuits_spa_big] # list of Qiskit Quantum Circuits of spanish sentences \n",
    "for (circ_eng,circ_spa,dataeng_new_psr_dict,dataspa_new_psr_dict) in zip(circuits_eng,circuits_spa,\n",
    "                                                                         dataeng_new_psr_dict_sizes,dataspa_new_psr_dict_sizes):\n",
    "    for (circ,data_new_psr_dict)  in zip([circ_eng,circ_spa],\n",
    "                                                  [dataeng_new_psr_dict,dataspa_new_psr_dict]):\n",
    "        circ.append(to_qiskitcircuit(rand_unshaped_pars,data_new_psr_dict))\n",
    "\n",
    "circuits_spa_medium[0][0].draw(output='mpl')"
   ]
  },
  {
   "cell_type": "markdown",
   "id": "ee3d4e8a",
   "metadata": {},
   "source": [
    "## 4. Optimization functions"
   ]
  },
  {
   "cell_type": "code",
   "execution_count": 61,
   "id": "c40c7314",
   "metadata": {
    "lines_to_next_cell": 2,
    "tags": []
   },
   "outputs": [],
   "source": [
    "from qiskit import BasicAer, execute, Aer, IBMQ\n",
    "#from qiskit.providers.aer import QasmSimulator"
   ]
  },
  {
   "cell_type": "code",
   "execution_count": 86,
   "id": "746328a9",
   "metadata": {
    "lines_to_next_cell": 2,
    "tags": []
   },
   "outputs": [],
   "source": [
    "#****************************************\n",
    "# Functions to perform the hybrid quantum-classical machine learning (optimization of variational parameters) \n",
    "#****************************************\n",
    "####Predict labels (which sentences have the same meaning)\n",
    "def get_probs(unshaped_params,withshots=True,simulation=True):\n",
    "    circuits_eng = to_qiskitcircuit(unshaped_params,diagrams_eng)\n",
    "    circuits_spa = to_qiskitcircuit(unshaped_params,diagrams_spa)\n",
    "    if withshots:\n",
    "        if simulation:\n",
    "            backend=Aer.get_backend('qasm_simulator')\n",
    "        else:\n",
    "            ibmq_device='ibmq_athens'\n",
    "            backend=IBMQ.get_provider(group='main').get_backend(ibmq_device)\n",
    "        results_eng,results_spa=[],[]\n",
    "        for (circ_eng,circ_spa) in zip(circuits_eng,circuits_spa):\n",
    "            results_eng.append(execute(circ_eng, backend=backend).result().get_counts())\n",
    "            results_spa.append(execute(circ_spa, backend=backend).result().get_counts())\n",
    "        pred_labels_distrs=[]    \n",
    "        for countssent_eng in results_eng:\n",
    "            for countssent_spa in results_spa:\n",
    "                predlabel=0\n",
    "                for bits in countssent_eng.keys():\n",
    "                    if bits in countssent_spa.keys():\n",
    "                        predlabel+=countssent_eng[bits]*countssent_spa[bits]/max_n_shots**2\n",
    "                    else:\n",
    "                        predlabel+=0\n",
    "            pred_labels_distrs.append(abs(predlabel - 1e-9))\n",
    "        maxlabel=max(pred_labels_distrs)\n",
    "        pred_labels_distrs_norm=[x/maxlabel for x in pred_labels_distrs]       \n",
    "    elif simulation:\n",
    "        backend=Aer.get_backend('statevector_simulator')\n",
    "        results_eng,results_spa=[],[]\n",
    "        for (circ_eng,circ_spa) in zip(circuits_eng,circuits_spa):\n",
    "            results_eng.append(execute(circ_eng, backend=backend).result().get_statevector())\n",
    "            results_spa.append(execute(circ_spa, backend=backend).result().get_statevector())\n",
    "        pred_labels_distrs=[]    \n",
    "        for vectorsent_eng in results_eng:\n",
    "            for vectorsent_spa in results_spa:\n",
    "                print(len(vectorsent_eng),len(vectorsent_spa))\n",
    "                pred_labels_distrs.append(abs(np.vdot(vectorsent_eng,vectorsent_spa)- 1e-9))\n",
    "        maxlabel=max(pred_labels_distrs)\n",
    "        pred_labels_distrs_norm=[x/maxlabel for x in pred_labels_distrs]   \n",
    "    return pred_labels_distrs_norm\n",
    "\n",
    "####Two possible cost functions for the model (the function that the machine tries to minimize)\n",
    "def get_cost_crossentropy(pred_labels_distrs):\n",
    "    cross_entropies = np.array([int(train_labels[s]) * math.log2(pred_labels_distrs[s]) \n",
    "                                for s in range(len(train_labels)) if train_labels[s]!='x'])\n",
    "    return -1 / len([train_labels[s] for s in range(len(train_labels)) if train_labels[s]!='x']) * np.sum(cross_entropies)\n",
    "\n",
    "def get_cost_absoluteerror(pred_labels_distrs): \n",
    "    error = 0\n",
    "    train_size=0\n",
    "    for (i, res) in enumerate(pred_labels_distrs):\n",
    "        if train_labels[i]!='x': \n",
    "            train_size+=1\n",
    "            error+=abs(int(train_labels[i])-res)\n",
    "    return error * 100 / train_size\n",
    "\n",
    "####Error functions for the model (a measure of how many sentences the quantum device translates correctly)\n",
    "def get_train_error(pred_labels_distrs): #percentage of predicted labels equal to actual labels in the training set \n",
    "    correct = 0\n",
    "    train_size=0\n",
    "    for (i, res) in enumerate(pred_labels_distrs):\n",
    "        if train_labels[i]!='x': \n",
    "            train_size+=1\n",
    "            pred_result = round(res) #We are taking as 1 (same meaning) when the output is >0.5 and viceversa\n",
    "            train_result = round(int(train_labels[i])) \n",
    "            if train_result == pred_result:\n",
    "                correct += 1\n",
    "    return 100 - correct * 100 / train_size\n",
    "\n",
    "def get_test_error(pred_labels_distrs):  #percentage of predicted labels equal to actual labels in the test set  \n",
    "    correct = 0\n",
    "    test_size=0\n",
    "    for (i, res) in enumerate(pred_labels_distrs):\n",
    "        if test_labels[i]!='x': \n",
    "            test_size+=1\n",
    "            pred_result = round(res) #We are taking as 1 (same meaning) when the output is >0.5 and viceversa\n",
    "            test_result = round(int(test_labels[i])) \n",
    "            if test_result == pred_result:\n",
    "                correct += 1\n",
    "    return 100 - correct * 100 / test_size\n",
    "\n",
    "####Other useful functions for performing optimization and tracking intermediate results\n",
    "def objective_function(unshaped_params,costfunction=cost_function): #cost_function=get_cost_crossentropy or \n",
    "                                                                    #get_cost_absoluteerror\n",
    "    #To perform optimization\n",
    "    pred_labels_distrs=get_probs(unshaped_params,withshots=withshots,simulation=simulation)\n",
    "    cost=costfunction(pred_labels_distrs)\n",
    "    #To track the results\n",
    "    trainerror=get_train_error(pred_labels_distrs)\n",
    "    testerror=get_test_error(pred_labels_distrs)\n",
    "    cost_crossentr=get_cost_crossentropy(pred_labels_distrs)\n",
    "    cost_abserr=get_cost_absoluteerror(pred_labels_distrs)\n",
    "    tracking=callback(trainerror,testerror,cost_crossentr,cost_abserr)\n",
    "    return cost  \n",
    "\n",
    "def callback(trainerror,testerror,cost_crossentr,cost_abserr):\n",
    "    global error_train_history,error_test_history,cost_crossentropy_history,cost_abserror_history\n",
    "    error_train_history.append(trainerror)\n",
    "    error_test_history.append(testerror)\n",
    "    cost_crossentropy_history.append(cost_crossentr)\n",
    "    cost_abserror_history.append(cost_abserr)\n",
    "    print(\"Cost_AbsErr: {} ,Cost_CrossEntr: {} , ErrorTrain: {}, ErrorTest: {}\".format(cost_abserr,cost_crossentr,\n",
    "                                                                                      trainerror,testerror))"
   ]
  },
  {
   "cell_type": "markdown",
   "id": "1f352b06",
   "metadata": {},
   "source": [
    "Finally, we can run the optimizer and obtain the results."
   ]
  },
  {
   "cell_type": "code",
   "execution_count": 87,
   "id": "3118b8bf",
   "metadata": {
    "lines_to_next_cell": 2
   },
   "outputs": [
    {
     "name": "stdout",
     "output_type": "stream",
     "text": [
      "---------------------------------\n",
      "Start run  1\n",
      "16 16\n",
      "16 16\n",
      "16 16\n",
      "16 16\n",
      "16 64\n"
     ]
    },
    {
     "ename": "ValueError",
     "evalue": "cannot reshape array of size 64 into shape (16,)",
     "output_type": "error",
     "traceback": [
      "\u001b[1;31m---------------------------------------------------------------------------\u001b[0m",
      "\u001b[1;31mValueError\u001b[0m                                Traceback (most recent call last)",
      "\u001b[1;32m<ipython-input-87-a9a600286771>\u001b[0m in \u001b[0;36m<module>\u001b[1;34m\u001b[0m\n\u001b[0;32m     56\u001b[0m     \u001b[0mrand_unshaped_pars\u001b[0m \u001b[1;33m=\u001b[0m \u001b[0mrandparams\u001b[0m\u001b[1;33m(\u001b[0m\u001b[0mpar_shapes\u001b[0m\u001b[1;33m)\u001b[0m\u001b[1;33m\u001b[0m\u001b[1;33m\u001b[0m\u001b[0m\n\u001b[0;32m     57\u001b[0m     \u001b[0mstart\u001b[0m \u001b[1;33m=\u001b[0m \u001b[0mtime\u001b[0m\u001b[1;33m(\u001b[0m\u001b[1;33m)\u001b[0m\u001b[1;33m\u001b[0m\u001b[1;33m\u001b[0m\u001b[0m\n\u001b[1;32m---> 58\u001b[1;33m     \u001b[0mres\u001b[0m \u001b[1;33m=\u001b[0m \u001b[0moptimizer\u001b[0m\u001b[1;33m.\u001b[0m\u001b[0moptimize\u001b[0m\u001b[1;33m(\u001b[0m\u001b[0mlen\u001b[0m\u001b[1;33m(\u001b[0m\u001b[0mrand_unshaped_pars\u001b[0m\u001b[1;33m)\u001b[0m\u001b[1;33m,\u001b[0m\u001b[0mobjective_function\u001b[0m\u001b[1;33m,\u001b[0m\u001b[0minitial_point\u001b[0m\u001b[1;33m=\u001b[0m\u001b[0mrand_unshaped_pars\u001b[0m\u001b[1;33m)\u001b[0m\u001b[1;33m\u001b[0m\u001b[1;33m\u001b[0m\u001b[0m\n\u001b[0m\u001b[0;32m     59\u001b[0m     \u001b[0mprint\u001b[0m\u001b[1;33m(\u001b[0m\u001b[1;34m\"Parameters: {} ,CostFunction: {} , NºEvaluations: {}\"\u001b[0m\u001b[1;33m.\u001b[0m\u001b[0mformat\u001b[0m\u001b[1;33m(\u001b[0m\u001b[0mres\u001b[0m\u001b[1;33m.\u001b[0m\u001b[0mpoint\u001b[0m\u001b[1;33m,\u001b[0m\u001b[0mres\u001b[0m\u001b[1;33m.\u001b[0m\u001b[0mvalue\u001b[0m\u001b[1;33m,\u001b[0m\u001b[0mres\u001b[0m\u001b[1;33m.\u001b[0m\u001b[0mnfev\u001b[0m\u001b[1;33m)\u001b[0m\u001b[1;33m)\u001b[0m\u001b[1;33m\u001b[0m\u001b[1;33m\u001b[0m\u001b[0m\n\u001b[0;32m     60\u001b[0m     \u001b[0mprint\u001b[0m\u001b[1;33m(\u001b[0m\u001b[1;34m'run'\u001b[0m\u001b[1;33m,\u001b[0m \u001b[0mi\u001b[0m\u001b[1;33m+\u001b[0m\u001b[1;36m1\u001b[0m\u001b[1;33m,\u001b[0m \u001b[1;34m'done'\u001b[0m\u001b[1;33m)\u001b[0m\u001b[1;33m\u001b[0m\u001b[1;33m\u001b[0m\u001b[0m\n",
      "\u001b[1;32m~\\Anaconda3\\envs\\Qiskitenv\\lib\\site-packages\\qiskit\\algorithms\\optimizers\\cobyla.py\u001b[0m in \u001b[0;36moptimize\u001b[1;34m(self, num_vars, objective_function, gradient_function, variable_bounds, initial_point)\u001b[0m\n\u001b[0;32m     66\u001b[0m                          variable_bounds, initial_point)\n\u001b[0;32m     67\u001b[0m \u001b[1;33m\u001b[0m\u001b[0m\n\u001b[1;32m---> 68\u001b[1;33m         res = minimize(objective_function, initial_point, tol=self._tol,\n\u001b[0m\u001b[0;32m     69\u001b[0m                        method=\"COBYLA\", options=self._options)\n\u001b[0;32m     70\u001b[0m         \u001b[1;32mreturn\u001b[0m \u001b[0mres\u001b[0m\u001b[1;33m.\u001b[0m\u001b[0mx\u001b[0m\u001b[1;33m,\u001b[0m \u001b[0mres\u001b[0m\u001b[1;33m.\u001b[0m\u001b[0mfun\u001b[0m\u001b[1;33m,\u001b[0m \u001b[0mres\u001b[0m\u001b[1;33m.\u001b[0m\u001b[0mnfev\u001b[0m\u001b[1;33m\u001b[0m\u001b[1;33m\u001b[0m\u001b[0m\n",
      "\u001b[1;32m~\\Anaconda3\\envs\\Qiskitenv\\lib\\site-packages\\scipy\\optimize\\_minimize.py\u001b[0m in \u001b[0;36mminimize\u001b[1;34m(fun, x0, args, method, jac, hess, hessp, bounds, constraints, tol, callback, options)\u001b[0m\n\u001b[0;32m    623\u001b[0m                              **options)\n\u001b[0;32m    624\u001b[0m     \u001b[1;32melif\u001b[0m \u001b[0mmeth\u001b[0m \u001b[1;33m==\u001b[0m \u001b[1;34m'cobyla'\u001b[0m\u001b[1;33m:\u001b[0m\u001b[1;33m\u001b[0m\u001b[1;33m\u001b[0m\u001b[0m\n\u001b[1;32m--> 625\u001b[1;33m         \u001b[1;32mreturn\u001b[0m \u001b[0m_minimize_cobyla\u001b[0m\u001b[1;33m(\u001b[0m\u001b[0mfun\u001b[0m\u001b[1;33m,\u001b[0m \u001b[0mx0\u001b[0m\u001b[1;33m,\u001b[0m \u001b[0margs\u001b[0m\u001b[1;33m,\u001b[0m \u001b[0mconstraints\u001b[0m\u001b[1;33m,\u001b[0m \u001b[1;33m**\u001b[0m\u001b[0moptions\u001b[0m\u001b[1;33m)\u001b[0m\u001b[1;33m\u001b[0m\u001b[1;33m\u001b[0m\u001b[0m\n\u001b[0m\u001b[0;32m    626\u001b[0m     \u001b[1;32melif\u001b[0m \u001b[0mmeth\u001b[0m \u001b[1;33m==\u001b[0m \u001b[1;34m'slsqp'\u001b[0m\u001b[1;33m:\u001b[0m\u001b[1;33m\u001b[0m\u001b[1;33m\u001b[0m\u001b[0m\n\u001b[0;32m    627\u001b[0m         return _minimize_slsqp(fun, x0, args, jac, bounds,\n",
      "\u001b[1;32m~\\Anaconda3\\envs\\Qiskitenv\\lib\\site-packages\\scipy\\optimize\\cobyla.py\u001b[0m in \u001b[0;36mwrapper\u001b[1;34m(*args, **kwargs)\u001b[0m\n\u001b[0;32m     32\u001b[0m     \u001b[1;32mdef\u001b[0m \u001b[0mwrapper\u001b[0m\u001b[1;33m(\u001b[0m\u001b[1;33m*\u001b[0m\u001b[0margs\u001b[0m\u001b[1;33m,\u001b[0m \u001b[1;33m**\u001b[0m\u001b[0mkwargs\u001b[0m\u001b[1;33m)\u001b[0m\u001b[1;33m:\u001b[0m\u001b[1;33m\u001b[0m\u001b[1;33m\u001b[0m\u001b[0m\n\u001b[0;32m     33\u001b[0m         \u001b[1;32mwith\u001b[0m \u001b[0m_module_lock\u001b[0m\u001b[1;33m:\u001b[0m\u001b[1;33m\u001b[0m\u001b[1;33m\u001b[0m\u001b[0m\n\u001b[1;32m---> 34\u001b[1;33m             \u001b[1;32mreturn\u001b[0m \u001b[0mfunc\u001b[0m\u001b[1;33m(\u001b[0m\u001b[1;33m*\u001b[0m\u001b[0margs\u001b[0m\u001b[1;33m,\u001b[0m \u001b[1;33m**\u001b[0m\u001b[0mkwargs\u001b[0m\u001b[1;33m)\u001b[0m\u001b[1;33m\u001b[0m\u001b[1;33m\u001b[0m\u001b[0m\n\u001b[0m\u001b[0;32m     35\u001b[0m     \u001b[1;32mreturn\u001b[0m \u001b[0mwrapper\u001b[0m\u001b[1;33m\u001b[0m\u001b[1;33m\u001b[0m\u001b[0m\n\u001b[0;32m     36\u001b[0m \u001b[1;33m\u001b[0m\u001b[0m\n",
      "\u001b[1;32m~\\Anaconda3\\envs\\Qiskitenv\\lib\\site-packages\\scipy\\optimize\\cobyla.py\u001b[0m in \u001b[0;36m_minimize_cobyla\u001b[1;34m(fun, x0, args, constraints, rhobeg, tol, maxiter, disp, catol, **unknown_options)\u001b[0m\n\u001b[0;32m    258\u001b[0m \u001b[1;33m\u001b[0m\u001b[0m\n\u001b[0;32m    259\u001b[0m     \u001b[0minfo\u001b[0m \u001b[1;33m=\u001b[0m \u001b[0mnp\u001b[0m\u001b[1;33m.\u001b[0m\u001b[0mzeros\u001b[0m\u001b[1;33m(\u001b[0m\u001b[1;36m4\u001b[0m\u001b[1;33m,\u001b[0m \u001b[0mnp\u001b[0m\u001b[1;33m.\u001b[0m\u001b[0mfloat64\u001b[0m\u001b[1;33m)\u001b[0m\u001b[1;33m\u001b[0m\u001b[1;33m\u001b[0m\u001b[0m\n\u001b[1;32m--> 260\u001b[1;33m     xopt, info = _cobyla.minimize(calcfc, m=m, x=np.copy(x0), rhobeg=rhobeg,\n\u001b[0m\u001b[0;32m    261\u001b[0m                                   \u001b[0mrhoend\u001b[0m\u001b[1;33m=\u001b[0m\u001b[0mrhoend\u001b[0m\u001b[1;33m,\u001b[0m \u001b[0miprint\u001b[0m\u001b[1;33m=\u001b[0m\u001b[0miprint\u001b[0m\u001b[1;33m,\u001b[0m \u001b[0mmaxfun\u001b[0m\u001b[1;33m=\u001b[0m\u001b[0mmaxfun\u001b[0m\u001b[1;33m,\u001b[0m\u001b[1;33m\u001b[0m\u001b[1;33m\u001b[0m\u001b[0m\n\u001b[0;32m    262\u001b[0m                                   dinfo=info)\n",
      "\u001b[1;32m~\\Anaconda3\\envs\\Qiskitenv\\lib\\site-packages\\scipy\\optimize\\cobyla.py\u001b[0m in \u001b[0;36mcalcfc\u001b[1;34m(x, con)\u001b[0m\n\u001b[0;32m    250\u001b[0m \u001b[1;33m\u001b[0m\u001b[0m\n\u001b[0;32m    251\u001b[0m     \u001b[1;32mdef\u001b[0m \u001b[0mcalcfc\u001b[0m\u001b[1;33m(\u001b[0m\u001b[0mx\u001b[0m\u001b[1;33m,\u001b[0m \u001b[0mcon\u001b[0m\u001b[1;33m)\u001b[0m\u001b[1;33m:\u001b[0m\u001b[1;33m\u001b[0m\u001b[1;33m\u001b[0m\u001b[0m\n\u001b[1;32m--> 252\u001b[1;33m         \u001b[0mf\u001b[0m \u001b[1;33m=\u001b[0m \u001b[0mfun\u001b[0m\u001b[1;33m(\u001b[0m\u001b[0mx\u001b[0m\u001b[1;33m,\u001b[0m \u001b[1;33m*\u001b[0m\u001b[0margs\u001b[0m\u001b[1;33m)\u001b[0m\u001b[1;33m\u001b[0m\u001b[1;33m\u001b[0m\u001b[0m\n\u001b[0m\u001b[0;32m    253\u001b[0m         \u001b[0mi\u001b[0m \u001b[1;33m=\u001b[0m \u001b[1;36m0\u001b[0m\u001b[1;33m\u001b[0m\u001b[1;33m\u001b[0m\u001b[0m\n\u001b[0;32m    254\u001b[0m         \u001b[1;32mfor\u001b[0m \u001b[0msize\u001b[0m\u001b[1;33m,\u001b[0m \u001b[0mc\u001b[0m \u001b[1;32min\u001b[0m \u001b[0mizip\u001b[0m\u001b[1;33m(\u001b[0m\u001b[0mcons_lengths\u001b[0m\u001b[1;33m,\u001b[0m \u001b[0mconstraints\u001b[0m\u001b[1;33m)\u001b[0m\u001b[1;33m:\u001b[0m\u001b[1;33m\u001b[0m\u001b[1;33m\u001b[0m\u001b[0m\n",
      "\u001b[1;32m<ipython-input-86-b8df51b578f0>\u001b[0m in \u001b[0;36mobjective_function\u001b[1;34m(unshaped_params, costfunction)\u001b[0m\n\u001b[0;32m     87\u001b[0m                                                                     \u001b[1;31m#get_cost_absoluteerror\u001b[0m\u001b[1;33m\u001b[0m\u001b[1;33m\u001b[0m\u001b[1;33m\u001b[0m\u001b[0m\n\u001b[0;32m     88\u001b[0m     \u001b[1;31m#To perform optimization\u001b[0m\u001b[1;33m\u001b[0m\u001b[1;33m\u001b[0m\u001b[1;33m\u001b[0m\u001b[0m\n\u001b[1;32m---> 89\u001b[1;33m     \u001b[0mpred_labels_distrs\u001b[0m\u001b[1;33m=\u001b[0m\u001b[0mget_probs\u001b[0m\u001b[1;33m(\u001b[0m\u001b[0munshaped_params\u001b[0m\u001b[1;33m,\u001b[0m\u001b[0mwithshots\u001b[0m\u001b[1;33m=\u001b[0m\u001b[0mwithshots\u001b[0m\u001b[1;33m,\u001b[0m\u001b[0msimulation\u001b[0m\u001b[1;33m=\u001b[0m\u001b[0msimulation\u001b[0m\u001b[1;33m)\u001b[0m\u001b[1;33m\u001b[0m\u001b[1;33m\u001b[0m\u001b[0m\n\u001b[0m\u001b[0;32m     90\u001b[0m     \u001b[0mcost\u001b[0m\u001b[1;33m=\u001b[0m\u001b[0mcostfunction\u001b[0m\u001b[1;33m(\u001b[0m\u001b[0mpred_labels_distrs\u001b[0m\u001b[1;33m)\u001b[0m\u001b[1;33m\u001b[0m\u001b[1;33m\u001b[0m\u001b[0m\n\u001b[0;32m     91\u001b[0m     \u001b[1;31m#To track the results\u001b[0m\u001b[1;33m\u001b[0m\u001b[1;33m\u001b[0m\u001b[1;33m\u001b[0m\u001b[0m\n",
      "\u001b[1;32m<ipython-input-86-b8df51b578f0>\u001b[0m in \u001b[0;36mget_probs\u001b[1;34m(unshaped_params, withshots, simulation)\u001b[0m\n\u001b[0;32m     38\u001b[0m             \u001b[1;32mfor\u001b[0m \u001b[0mvectorsent_spa\u001b[0m \u001b[1;32min\u001b[0m \u001b[0mresults_spa\u001b[0m\u001b[1;33m:\u001b[0m\u001b[1;33m\u001b[0m\u001b[1;33m\u001b[0m\u001b[0m\n\u001b[0;32m     39\u001b[0m                 \u001b[0mprint\u001b[0m\u001b[1;33m(\u001b[0m\u001b[0mlen\u001b[0m\u001b[1;33m(\u001b[0m\u001b[0mvectorsent_eng\u001b[0m\u001b[1;33m)\u001b[0m\u001b[1;33m,\u001b[0m\u001b[0mlen\u001b[0m\u001b[1;33m(\u001b[0m\u001b[0mvectorsent_spa\u001b[0m\u001b[1;33m)\u001b[0m\u001b[1;33m)\u001b[0m\u001b[1;33m\u001b[0m\u001b[1;33m\u001b[0m\u001b[0m\n\u001b[1;32m---> 40\u001b[1;33m                 \u001b[0mpred_labels_distrs\u001b[0m\u001b[1;33m.\u001b[0m\u001b[0mappend\u001b[0m\u001b[1;33m(\u001b[0m\u001b[0mabs\u001b[0m\u001b[1;33m(\u001b[0m\u001b[0mnp\u001b[0m\u001b[1;33m.\u001b[0m\u001b[0mvdot\u001b[0m\u001b[1;33m(\u001b[0m\u001b[0mvectorsent_eng\u001b[0m\u001b[1;33m,\u001b[0m\u001b[0mvectorsent_spa\u001b[0m\u001b[1;33m)\u001b[0m\u001b[1;33m-\u001b[0m \u001b[1;36m1e-9\u001b[0m\u001b[1;33m)\u001b[0m\u001b[1;33m)\u001b[0m\u001b[1;33m\u001b[0m\u001b[1;33m\u001b[0m\u001b[0m\n\u001b[0m\u001b[0;32m     41\u001b[0m         \u001b[0mmaxlabel\u001b[0m\u001b[1;33m=\u001b[0m\u001b[0mmax\u001b[0m\u001b[1;33m(\u001b[0m\u001b[0mpred_labels_distrs\u001b[0m\u001b[1;33m)\u001b[0m\u001b[1;33m\u001b[0m\u001b[1;33m\u001b[0m\u001b[0m\n\u001b[0;32m     42\u001b[0m         \u001b[0mpred_labels_distrs_norm\u001b[0m\u001b[1;33m=\u001b[0m\u001b[1;33m[\u001b[0m\u001b[0mx\u001b[0m\u001b[1;33m/\u001b[0m\u001b[0mmaxlabel\u001b[0m \u001b[1;32mfor\u001b[0m \u001b[0mx\u001b[0m \u001b[1;32min\u001b[0m \u001b[0mpred_labels_distrs\u001b[0m\u001b[1;33m]\u001b[0m\u001b[1;33m\u001b[0m\u001b[1;33m\u001b[0m\u001b[0m\n",
      "\u001b[1;32m<__array_function__ internals>\u001b[0m in \u001b[0;36mvdot\u001b[1;34m(*args, **kwargs)\u001b[0m\n",
      "\u001b[1;31mValueError\u001b[0m: cannot reshape array of size 64 into shape (16,)"
     ]
    }
   ],
   "source": [
    "#************************************\n",
    "# Quantum run: training and error calculation\n",
    "#************************************\n",
    "from time import time\n",
    "from qiskit.algorithms.optimizers import COBYLA,SPSA,L_BFGS_B\n",
    "\n",
    "####Experiment Parameters\n",
    "n_runs = 1\n",
    "niter = 100\n",
    "cost_function=get_cost_absoluteerror #costfunction=get_cost_crossentropy or get_cost_absoluteerror\n",
    "method='COBYLA' #Classical optimization method= 'COBYLA','SPSA' or'L_BFGS_B'\n",
    "max_n_shots = 8192  # maximum shots possible\n",
    "withshots=False\n",
    "simulation=True\n",
    "dataset='small' #dataset='small','medium','big'\n",
    "\n",
    "####Data for the experiment\n",
    "if dataset=='small':\n",
    "    #Diagrams\n",
    "    diagrams_eng = dataeng_new_psr_dict_small\n",
    "    diagrams_spa = dataspa_new_psr_dict_small \n",
    "    #Training and test labels\n",
    "    train_labels = train_labelslist_small\n",
    "    test_labels = test_labelslist_small\n",
    "if dataset=='medium':\n",
    "    #Diagrams\n",
    "    diagrams_eng = dataeng_new_psr_dict_medium\n",
    "    diagrams_spa = dataspa_new_psr_dict_medium \n",
    "    #Training and test labels\n",
    "    train_labels = train_labelslist_medium\n",
    "    test_labels = test_labelslist_medium\n",
    "if dataset=='big':\n",
    "    #Diagrams\n",
    "    diagrams_eng = dataeng_new_psr_dict_big\n",
    "    diagrams_spa = dataspa_new_psr_dict_big \n",
    "    #Training and test labels\n",
    "    train_labels = train_labelslist_big\n",
    "    test_labels = test_labelslist_big\n",
    "    \n",
    "####Classical Optimizers (from qiskit.algorithms.optimizers)\n",
    "if method=='COBYLA':\n",
    "    optimizer=COBYLA(maxiter=niter)\n",
    "elif method=='SPSA':\n",
    "    optimizer=SPSA(maxiter=niter)\n",
    "elif method=='L_BFGS_B':\n",
    "    optimizer=L_BFGS_B(maxiter=niter)\n",
    "\n",
    "####Tracking variables\n",
    "param_histories = []\n",
    "error_train_history,error_test_history = [],[]\n",
    "cost_crossentropy_history,cost_abserror_history = [],[]\n",
    "\n",
    "for i in range(n_runs):\n",
    "    print('---------------------------------')\n",
    "    print('Start run ', i+1)\n",
    "    rand_unshaped_pars = randparams(par_shapes)\n",
    "    start = time()\n",
    "    res = optimizer.optimize(len(rand_unshaped_pars),objective_function,initial_point=rand_unshaped_pars)\n",
    "    print(\"Parameters: {} ,CostFunction: {} , NºEvaluations: {}\".format(res.point,res.value,res.nfev))\n",
    "    print('run', i+1, 'done')\n",
    "    print('Time taken: ', time() - start)"
   ]
  }
 ],
 "metadata": {
  "kernelspec": {
   "display_name": "Python 3",
   "language": "python",
   "name": "python3"
  },
  "language_info": {
   "codemirror_mode": {
    "name": "ipython",
    "version": 3
   },
   "file_extension": ".py",
   "mimetype": "text/x-python",
   "name": "python",
   "nbconvert_exporter": "python",
   "pygments_lexer": "ipython3",
   "version": "3.9.4"
  }
 },
 "nbformat": 4,
 "nbformat_minor": 5
}
