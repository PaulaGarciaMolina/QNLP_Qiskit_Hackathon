{
 "cells": [
  {
   "cell_type": "markdown",
   "id": "artificial-allen",
   "metadata": {},
   "source": [
    "# Sentiment analysis\n",
    "\n",
    "Sentiment analysis is a NLP technique to determine the sentiment of a sentence. In this implementation, we will focus on determining the sentiment of the subject of the subject or object or the sentence.\n",
    "\n",
    "Here I propose some possible sentences for our dataset, indicating where the meaning is encoded.\n",
    "\n",
    "- Morose man cries. (morose)\n",
    "- Irascible woman shouts. (irascible)\n",
    "- Frightened woman shouts. (frightened)\n",
    "- Joyful kid laughs. (joyful, laughs)\n",
    "- Furious man snaps. (furious, snaps)\n",
    "- Kid startles man. (startles)\n",
    "- Woman grieves man. (grieves)\n",
    "...\n",
    "\n",
    "\n",
    "| Nouns | Verbs | Adjectives |\n",
    "| --- | --- | --- |\n",
    "| Man | cries | morose |\n",
    "| Woman | laughs | irascible |\n",
    "| Kid | shouts | frightened |\n",
    "|  | snaps | cheerful |\n",
    "|  | entertains | gloomy |\n",
    "|  | grieves | furious |\n",
    "|  | startles | terrified |\n",
    "|  | irritates |joyful|\n",
    "\n",
    "The proposed vocabulary has 19 words and two different kind of sentences:\n",
    "- Adj + Subject + Intransitive verb\n",
    "- Subject + Transitive verb + Object"
   ]
  },
  {
   "cell_type": "markdown",
   "id": "peripheral-league",
   "metadata": {},
   "source": [
    "## 1. Create dataset\n",
    "\n",
    "The first step is to create a dataset using the presented vocabulary. We have to store the words in DisCoPy's Word objects, encoding their meaning (name) and their grammar (codomain). Then, we introduce the grammar of the allowed sentences and create all the possible grammatical sentences. The next step is to assign a sentiment to each sentence. However, there are sentences that although they are grammatically correct, their meaning makes no sense, so we would have to remove them. "
   ]
  },
  {
   "cell_type": "markdown",
   "id": "narrative-picking",
   "metadata": {},
   "source": [
    "### 1.1. Define the vocabulary\n",
    "\n",
    "The first step to create a dataset is to define the words, their meaning and the word type. We have four three types of words: nouns, adjectives, verbs. We also distinguish two different types of verbs: transitive and intransitive. "
   ]
  },
  {
   "cell_type": "code",
   "execution_count": 1,
   "id": "ranking-integral",
   "metadata": {},
   "outputs": [],
   "source": [
    "import numpy as np\n",
    "import pickle"
   ]
  },
  {
   "cell_type": "code",
   "execution_count": 2,
   "id": "handled-niagara",
   "metadata": {},
   "outputs": [],
   "source": [
    "from discopy import Ty, Word # Import the classes for the type of word and for the word\n",
    "\n",
    "s, n = Ty('s'), Ty('n') # Define the types s and n\n",
    "nphr, adj, tv, iv, vphr = Ty('NP'), Ty('ADJ'), Ty('TV'), Ty('IV'), Ty('VP')\n",
    "\n",
    "# Define the words (notice that we include both meaning and grammar)\n",
    "\n",
    "# nouns\n",
    "man, woman, kid = Word('man', n), Word('woman', n), Word('kid', n)\n",
    "# adjectives\n",
    "morose, irascible = Word('morose', n @ n.l), Word('irascible', n @ n.l)\n",
    "frightened, cheerful = Word('frightened', n @ n.l), Word('cheerful', n @ n.l)\n",
    "gloomy, furious = Word('gloomy', n @ n.l), Word('furious', n @ n.l)\n",
    "terrified, joyful = Word('terrified', n @ n.l), Word('joyful', n @ n.l)\n",
    "downcast, miserable = Word('downcast', n @ n.l), Word('miserable', n @ n.l)\n",
    "old, young = Word('old', n @ n.l), Word('young', n @ n.l)\n",
    "# Intransitive verbs\n",
    "cries, shouts = Word('cries', n.r @ s), Word('shouts', n.r @ s)\n",
    "laughs, snaps = Word('laughs', n.r @ s), Word('snaps', n.r @ s)\n",
    "# Transitive verbs\n",
    "grieves, startles = Word('grieves', n.r @ s @ n.l), Word('startles', n.r @ s @ n.l)\n",
    "entertains, irritates = Word('entertains', n.r @ s @ n.l), Word('irritates', n.r @ s @ n.l)\n",
    "\n",
    "nouns = [man, woman, kid]\n",
    "adjectives = [morose, irascible, frightened, cheerful, gloomy, furious, terrified, joyful, downcast, miserable, old, young]\n",
    "int_verbs = [cries, shouts, laughs, snaps]\n",
    "t_verbs = [grieves, startles, entertains, irritates]\n",
    "\n",
    "vocab = nouns + int_verbs + t_verbs + adjectives"
   ]
  },
  {
   "cell_type": "markdown",
   "id": "empty-wrapping",
   "metadata": {},
   "source": [
    "### 1.2. Define the grammar\n",
    "\n",
    "In this dataset we are going to consider the following structures to construct the sentences:\n",
    "\n",
    "- adj + noun + int. verb\n",
    "- noun + t. verb + noun"
   ]
  },
  {
   "cell_type": "markdown",
   "id": "beneficial-vienna",
   "metadata": {},
   "source": [
    "- Intransitive sentence"
   ]
  },
  {
   "cell_type": "code",
   "execution_count": 3,
   "id": "fitting-firewall",
   "metadata": {},
   "outputs": [
    {
     "data": {
      "image/png": "[encoded data removed]",
      "text/plain": [
       "<Figure size 432x288 with 1 Axes>"
      ]
     },
     "metadata": {
      "needs_background": "light"
     },
     "output_type": "display_data"
    }
   ],
   "source": [
    "from discopy import Cup, Id, pregroup\n",
    "\n",
    "grammar =  Id(n) @ Cup(n.l, n) @ Id(n.r @ s) >> Cup(n, n.r) @ Id(s) >> Id(s)\n",
    "sentence = joyful @ woman @ laughs >> grammar\n",
    "pregroup.draw(sentence)"
   ]
  },
  {
   "cell_type": "markdown",
   "id": "modified-appointment",
   "metadata": {},
   "source": [
    "- Transitive sentence"
   ]
  },
  {
   "cell_type": "code",
   "execution_count": 4,
   "id": "sunrise-running",
   "metadata": {},
   "outputs": [
    {
     "data": {
      "image/png": "[encoded data removed]",
      "text/plain": [
       "<Figure size 432x288 with 1 Axes>"
      ]
     },
     "metadata": {
      "needs_background": "light"
     },
     "output_type": "display_data"
    }
   ],
   "source": [
    "grammar =  Cup(n, n.r) @ Id(s) @ Cup(n.l, n)\n",
    "sentence = woman @ grieves @ kid >> grammar\n",
    "pregroup.draw(sentence)"
   ]
  },
  {
   "cell_type": "code",
   "execution_count": 5,
   "id": "previous-trail",
   "metadata": {},
   "outputs": [
    {
     "data": {
      "image/png": "[encoded data removed]",
      "text/plain": [
       "<Figure size 432x288 with 1 Axes>"
      ]
     },
     "metadata": {
      "needs_background": "light"
     },
     "output_type": "display_data"
    }
   ],
   "source": [
    "grammar =  Id(n) @ Cup(n.l, n) @ Id(n.r @ s) @ Cup(n.l, n) >> Cup(n, n.r) @ Id(s) >> Id(s)\n",
    "sentence = morose @ woman @ grieves @ kid >> grammar\n",
    "pregroup.draw(sentence)"
   ]
  },
  {
   "cell_type": "code",
   "execution_count": 6,
   "id": "plastic-router",
   "metadata": {},
   "outputs": [
    {
     "data": {
      "image/png": "[encoded data removed]",
      "text/plain": [
       "<Figure size 432x288 with 1 Axes>"
      ]
     },
     "metadata": {
      "needs_background": "light"
     },
     "output_type": "display_data"
    }
   ],
   "source": [
    "grammar =  Cup(n, n.r) @ Id(s) @ Cup(n.l, n) @ Cup(n.l, n) >> Id(s)\n",
    "sentence =  man @ grieves @ morose @ man >> grammar\n",
    "pregroup.draw(sentence)"
   ]
  },
  {
   "cell_type": "markdown",
   "id": "disciplinary-defendant",
   "metadata": {},
   "source": [
    "Now we have seen how the grammatical structure of each type of sentence is, so we are ready to obtain all the grammatical sentences that we can construct with them with the vocabulary that we are using. "
   ]
  },
  {
   "cell_type": "code",
   "execution_count": 7,
   "id": "automotive-ready",
   "metadata": {},
   "outputs": [],
   "source": [
    "from discopy import Diagram\n",
    "from discopy.grammar import draw\n",
    "\n",
    "# Store the grammatical structures in a dictionary \n",
    "\n",
    "grammar_dict = {\n",
    "    'ADJ_N_IV' : Id(n) @ Cup(n.l, n) @ Id(n.r @ s) >> Cup(n, n.r) @ Id(s) >> Id(s),\n",
    "    'N_TV_N': Cup(n, n.r) @ Id(s) @ Cup(n.l, n),\n",
    "    'ADJ_N_TV_N': Id(n) @ Cup(n.l, n) @ Id(n.r @ s) @ Cup(n.l, n) >> Cup(n, n.r) @ Id(s) >> Id(s),\n",
    "    'N_TV_ADJ_N': Cup(n, n.r) @ Id(s) @ Cup(n.l, n) @ Cup(n.l, n) >> Id(s)}\n",
    "                                                                          \n",
    "\n",
    "# Create parsing (grammatical analysis) dictionary where the grammatical sentences\n",
    "# are the keys and the associated values are the diagrams (words + grammar)\n",
    "\n",
    "data_psr = {}\n",
    "\n",
    "# Intransitive sentences\n",
    "parsing_int = {\"{} {} {}.\".format(adj, noun, int_verb): adj @ noun @ int_verb >> grammar_dict['ADJ_N_IV']\n",
    "            for adj in adjectives for noun in nouns for int_verb in int_verbs}\n",
    "sentences_int = list(parsing_int.keys())\n",
    "for sentence in sentences_int:\n",
    "    diagram = parsing_int[sentence]\n",
    "    data_psr[sentence] = parsing_int[sentence]\n",
    "\n",
    "# Transitive sentences (without adjective)\n",
    "parsing_tra = {\"{} {} {}.\".format(subj, t_verb, obj):  subj @ t_verb @ obj >> grammar_dict['N_TV_N']\n",
    "            for subj in nouns for t_verb in t_verbs for obj in nouns}\n",
    "\n",
    "\n",
    "# Transitive sentences (with adjective)\n",
    "parsing_tra_ladj = {\"{} {} {} {}.\".format(adj, subj, t_verb, obj):  adj @ subj @ t_verb @ obj >> grammar_dict['ADJ_N_TV_N']\n",
    "            for adj in adjectives for subj in nouns for t_verb in t_verbs for obj in nouns}\n",
    "parsing_tra_radj = {\"{} {} {} {}.\".format(subj, t_verb, adj, obj):  subj @ t_verb @ adj @ obj >> grammar_dict['N_TV_ADJ_N']\n",
    "            for subj in nouns for t_verb in t_verbs for adj in adjectives for obj in nouns}\n",
    "\n",
    "parsing_tra.update(parsing_tra_ladj) #merges transitive adjectives into original dict\n",
    "parsing_tra.update(parsing_tra_radj)\n",
    "\n",
    "sentences_tra = list(parsing_tra.keys())\n",
    "for sentence in sentences_tra:\n",
    "    diagram = parsing_tra[sentence]\n",
    "    data_psr[sentence] = parsing_tra[sentence]"
   ]
  },
  {
   "cell_type": "markdown",
   "id": "hired-collective",
   "metadata": {},
   "source": [
    "Now, we have the dataset with the sentences and their corresponding meaning and grammar. The next step is to design the corresponding quantum circuits to determine the sentiment for each sentence. We are aiming to distinguish between four different emotions: happy (0), sad (1), angry (2), scared (3). However, some sentences of the dataset cannot be clearly classified according to this criteria (for example, 'Old man cries'). Therefore, the next step is to manually modify the dataset so all the sentences can be classified according to this criteria. In order to do that we will create a .txt file and assign the corresponding class to the viable sentences."
   ]
  },
  {
   "cell_type": "markdown",
   "id": "perceived-amplifier",
   "metadata": {},
   "source": [
    "### 1.3. Process the data"
   ]
  },
  {
   "cell_type": "code",
   "execution_count": 8,
   "id": "operational-porcelain",
   "metadata": {},
   "outputs": [],
   "source": [
    "with open('./sentiment_analysis_dataset.txt') as f:\n",
    "    data = f.readlines()"
   ]
  },
  {
   "cell_type": "code",
   "execution_count": 9,
   "id": "negative-bandwidth",
   "metadata": {},
   "outputs": [],
   "source": [
    "labels_dict = {}\n",
    "data_psr_dict = {}\n",
    "sent_type = {}\n",
    "\n",
    "adjective_words = [a.name for a in adjectives]\n",
    "for sentence in data:\n",
    "    sentstr = sentence[:-7]\n",
    "    if sentence[-6:-3] == 'int':\n",
    "        diagram = parsing_int[sentstr]\n",
    "        data_psr_dict[sentstr] = diagram\n",
    "        labels_dict[sentstr] = sentence[-2]\n",
    "        sent_type[sentstr] = 'int'\n",
    "    elif sentence[-6:-3] == 'tra':\n",
    "        diagram = parsing_tra[sentstr]\n",
    "        data_psr_dict[sentstr] = diagram\n",
    "        labels_dict[sentstr] = sentence[-2]\n",
    "\n",
    "        if len(sentstr.split()) == 4:\n",
    "            if sentstr.split()[0] in adjective_words:\n",
    "                sent_type[sentstr] = 'tra_' + 'l'\n",
    "            else:\n",
    "                sent_type[sentstr] = 'tra_' + 'r'\n",
    "        else:\n",
    "            sent_type[sentstr] = 'tra'\n",
    "            "
   ]
  },
  {
   "cell_type": "code",
   "execution_count": 10,
   "id": "bronze-modern",
   "metadata": {},
   "outputs": [
    {
     "name": "stdout",
     "output_type": "stream",
     "text": [
      "Number of elements for each sentiment\n",
      "Happy:  90\n",
      "Sad:  96\n",
      "Angry:  92\n",
      "Scared:  87\n",
      "Total 365\n"
     ]
    }
   ],
   "source": [
    "c0 = 0\n",
    "c1 = 0\n",
    "c2 = 0\n",
    "c3 = 0\n",
    "for value in labels_dict.values():\n",
    "    if value == '0':\n",
    "        c0 +=1\n",
    "    elif value == '1':\n",
    "        c1 += 1\n",
    "    elif value == '2':\n",
    "        c2 += 1\n",
    "    elif value == '3':\n",
    "        c3 += 1\n",
    "print('Number of elements for each sentiment')\n",
    "print('Happy: ', c0)\n",
    "print('Sad: ', c1)\n",
    "print('Angry: ', c2)\n",
    "print('Scared: ', c3)\n",
    "print('Total', len(data_psr_dict))"
   ]
  },
  {
   "cell_type": "markdown",
   "id": "incoming-paradise",
   "metadata": {},
   "source": [
    "Now we have our dataset! The only problem left is the fact that the cups used in the diagrams are too resource consumming. Luckily, it is possible to remove them by transforming the states into effects (we are just doing this with the nouns as in https://github.com/CQCL/qnlp_lorenz_etal_2021_resources). Let us see some examples"
   ]
  },
  {
   "cell_type": "markdown",
   "id": "quantitative-upper",
   "metadata": {},
   "source": [
    "- Intransitive sentence"
   ]
  },
  {
   "cell_type": "code",
   "execution_count": 11,
   "id": "current-cement",
   "metadata": {},
   "outputs": [],
   "source": [
    "from discopy import Cap, Box\n",
    "\n",
    "woman2 = Box('woman', n.l, Ty())\n",
    "words_new = (Cap(n, n.l)) >> (joyful @ Id(n) @ woman2 @ laughs)\n",
    "sentence = words_new >> grammar_dict['ADJ_N_IV']\n",
    "sentence = sentence.normal_form()"
   ]
  },
  {
   "cell_type": "code",
   "execution_count": 12,
   "id": "constant-member",
   "metadata": {},
   "outputs": [
    {
     "data": {
      "image/png": "[encoded data removed]",
      "text/plain": [
       "<Figure size 432x288 with 1 Axes>"
      ]
     },
     "metadata": {
      "needs_background": "light"
     },
     "output_type": "display_data"
    }
   ],
   "source": [
    "sentence.draw()"
   ]
  },
  {
   "cell_type": "markdown",
   "id": "endangered-accessory",
   "metadata": {},
   "source": [
    "- Transitive sentence"
   ]
  },
  {
   "cell_type": "code",
   "execution_count": 13,
   "id": "favorite-appraisal",
   "metadata": {},
   "outputs": [
    {
     "data": {
      "image/png": "[encoded data removed]",
      "text/plain": [
       "<Figure size 432x288 with 1 Axes>"
      ]
     },
     "metadata": {
      "needs_background": "light"
     },
     "output_type": "display_data"
    }
   ],
   "source": [
    "woman2 = Box('woman', n.r, Ty())\n",
    "kid2 = Box('kid', n.l, Ty())\n",
    "words_new = (Cap(n.r, n) @ Cap(n, n.l)) >> (woman2 @ Id(n) @ grieves @ Id(n) @ kid2)\n",
    "sentence = words_new >> grammar_dict['N_TV_N']\n",
    "sentence = sentence.normal_form()\n",
    "sentence.draw()"
   ]
  },
  {
   "cell_type": "code",
   "execution_count": 14,
   "id": "pediatric-correspondence",
   "metadata": {},
   "outputs": [
    {
     "data": {
      "image/png": "[encoded data removed]",
      "text/plain": [
       "<Figure size 432x288 with 1 Axes>"
      ]
     },
     "metadata": {
      "needs_background": "light"
     },
     "output_type": "display_data"
    }
   ],
   "source": [
    "data_psr['morose man grieves woman.'].draw()"
   ]
  },
  {
   "cell_type": "code",
   "execution_count": 15,
   "id": "starting-enterprise",
   "metadata": {},
   "outputs": [
    {
     "data": {
      "image/png": "[encoded data removed]",
      "text/plain": [
       "<Figure size 432x288 with 1 Axes>"
      ]
     },
     "metadata": {
      "needs_background": "light"
     },
     "output_type": "display_data"
    }
   ],
   "source": [
    "man2 = Box('man', n.l, Ty()) #I changed this to n.l to make everything fit but Im not certain I can just do that\n",
    "woman2 = Box('woman', n.l, Ty())\n",
    "words_new = (Cap(n, n.l) @ Cap(n, n.l)) >> (morose @ Id(n) @ man2 @ grieves @ Id(n) @ woman2)\n",
    "sentence = words_new >> grammar_dict['ADJ_N_TV_N']\n",
    "sentence = sentence.normal_form()\n",
    "sentence.draw()"
   ]
  },
  {
   "cell_type": "code",
   "execution_count": 16,
   "id": "correct-garbage",
   "metadata": {},
   "outputs": [
    {
     "data": {
      "image/png": "[encoded data removed]",
      "text/plain": [
       "<Figure size 432x288 with 1 Axes>"
      ]
     },
     "metadata": {
      "needs_background": "light"
     },
     "output_type": "display_data"
    }
   ],
   "source": [
    "man2 = Box('man', n.r, Ty())\n",
    "woman2 = Box('woman', n.l, Ty())\n",
    "words_new = (Cap(n.r, n) @ Cap(n, n.l)) >> (man2 @ Id(n) @ grieves @ old @ Id(n) @ woman2)\n",
    "sentence = words_new >> grammar_dict['N_TV_ADJ_N']\n",
    "sentence = sentence.normal_form()\n",
    "sentence.draw()"
   ]
  },
  {
   "cell_type": "markdown",
   "id": "determined-matthew",
   "metadata": {},
   "source": [
    "Let us apply this to our entire dataset."
   ]
  },
  {
   "cell_type": "code",
   "execution_count": 17,
   "id": "6883adda",
   "metadata": {},
   "outputs": [],
   "source": [
    "data_new_psr_dict = {}\n",
    "for sentstr in data_psr_dict.keys():\n",
    "    num_words = len(sentstr.split(' '))\n",
    "    words = data_psr_dict[sentstr].boxes[:num_words]\n",
    "    if sent_type[sentstr] == 'int':\n",
    "        noun = Box(words[1].name, n.l, Ty())\n",
    "        words_new = (Cap(n, n.l)) >> (words[0] @ Id(n) @ noun @ words[2])\n",
    "        sentence = words_new >> grammar_dict['ADJ_N_IV']\n",
    "        data_new_psr_dict[sentstr] = sentence.normal_form()\n",
    "    elif sent_type[sentstr] == 'tra':\n",
    "        if num_words == 3:\n",
    "            noun1 = Box(words[0].name, n.r, Ty())\n",
    "            noun2 = Box(words[2].name, n.l, Ty())\n",
    "            words_new = (Cap(n.r, n) @ Cap(n, n.l)) >> (noun1 @ Id(n) @ words[1] @ Id(n) @ noun2)\n",
    "            sentence = words_new >> grammar_dict['N_TV_N']\n",
    "            data_new_psr_dict[sentstr] = sentence.normal_form()\n",
    "        elif words[0] in adjectives: #adjective at beginning\n",
    "            noun1 = Box(words[1].name, n.l, Ty())\n",
    "            noun2 = Box(words[3].name, n.l, Ty())\n",
    "            words_new = (Cap(n, n.l) @ Cap(n, n.l)) >> (words[0] @ Id(n) @ noun1 @ words[2] @ Id(n) @ noun2)\n",
    "            sentence = words_new >> grammar_dict['ADJ_N_TV_N']\n",
    "            data_new_psr_dict[sentstr] = sentence.normal_form()\n",
    "        else: #adjective on second noun\n",
    "            noun1 = Box(words[0].name, n.r, Ty())\n",
    "            noun2 = Box(words[3].name, n.l, Ty())\n",
    "            words_new = (Cap(n.r, n) @ Cap(n, n.l)) >> (noun1 @ Id(n) @ words[1] @ words[2] @ Id(n) @ noun2)\n",
    "            sentence = words_new >> grammar_dict['N_TV_ADJ_N']\n",
    "            data_new_psr_dict[sentstr] = sentence.normal_form() "
   ]
  },
  {
   "cell_type": "markdown",
   "id": "considered-request",
   "metadata": {},
   "source": [
    "The final step before the implementation of the quantum circuit is to redefine the vocabulary according to the new domain and codamain for the nouns as effects."
   ]
  },
  {
   "cell_type": "code",
   "execution_count": 18,
   "id": "decent-value",
   "metadata": {},
   "outputs": [],
   "source": [
    "vocab_psr = []\n",
    "for word in vocab:\n",
    "    if word.cod == Ty('n'):\n",
    "        vocab_psr.append(Box(word.name, n.r, Ty()))   # n.l case is dealt with in definition of quantum functor\n",
    "    else:\n",
    "        vocab_psr.append(word)"
   ]
  },
  {
   "cell_type": "markdown",
   "id": "inclusive-manhattan",
   "metadata": {},
   "source": [
    "## 2. Create quantum circuit\n",
    "\n",
    "Once the dataset and its corresponding diagrams are created, the next step is to construct the variational quantum circuits associated with them. In order to do that, we will use different ansätze depending on the type of the word that we want to represent. In this case we only have two types of words, nouns and verbs. Both types will have associated 2 qubits (as we have four sentiments, we need 4 quantum states to encode the result of the classification). Moreover, we will also distinguish between states and effects when constructing the ansätze."
   ]
  },
  {
   "cell_type": "code",
   "execution_count": 19,
   "id": "crude-philippines",
   "metadata": {
    "lines_to_next_cell": 2
   },
   "outputs": [],
   "source": [
    "from discopy.quantum import Ket, IQPansatz, Bra, qubit\n",
    "from discopy.quantum.circuit import Functor, Id\n",
    "from discopy.quantum.circuit import Circuit\n",
    "from functools import reduce, partial\n",
    "from discopy.quantum.gates import Rx, Rz\n",
    "\n",
    "import numpy as np\n",
    "\n",
    "q_s = 1 # number of qubits for type s (sentence)\n",
    "q_n = 1 # number of qubits for type n (noun)\n",
    "depth = 1 # depth of the IQPansatz\n",
    "p_n = 3 # number of parameters for the single qubit iqp ansatz\n",
    "\n",
    "# Define the dimensions of the objects of the circuit functor\n",
    "ob = {s: q_s, n: q_n}                          \n",
    "ob_cqmap = {s: qubit ** q_s, n: qubit ** q_n}   \n",
    "\n",
    "# Define the ansätze for states and effects\n",
    "\n",
    "def single_qubit_iqp_ansatz(params):\n",
    "    if len(params) == 1:\n",
    "        return Rx(params[0])  \n",
    "    if len(params) == 2:\n",
    "        return Rx(params[0]) >> Rz(params[1])\n",
    "    if len(params) == 3:\n",
    "        return IQPansatz(1, params)     \n",
    "    \n",
    "def ansatz_state(state, params):\n",
    "    arity = sum(ob[Ty(factor.name)] for factor in state.cod) \n",
    "    if arity == 1:\n",
    "        return Ket(0) >> single_qubit_iqp_ansatz(params)\n",
    "    return Ket(*tuple([0 for i in range(arity)])) >> IQPansatz(arity, params)\n",
    "    \n",
    "def ansatz_effect(effect, params): \n",
    "    arity = sum(ob[Ty(factor.name)] for factor in effect.dom)\n",
    "    if arity == 1:\n",
    "        return single_qubit_iqp_ansatz(params) >> Bra(0)\n",
    "    return IQPansatz(arity, params) >> Bra(*tuple([0 for i in range(arity)]))\n",
    "       \n",
    "def ansatz(box,params):\n",
    "    dom_type = box.dom\n",
    "    cod_type = box.cod\n",
    "    if len(dom_type) == 0 and len(cod_type) != 0:\n",
    "        return ansatz_state(box, params)\n",
    "    if len(dom_type) != 0 and len(cod_type) == 0:\n",
    "        return ansatz_effect(box, params)\n",
    "\n",
    "# Construct the circuit functor\n",
    "def F(params): \n",
    "    ar = dict()\n",
    "    for i in range(len(vocab_psr)):\n",
    "        pgbox = vocab_psr[i]\n",
    "        qbox = ansatz(vocab_psr[i], params[i])\n",
    "        ar.update({pgbox: qbox})\n",
    "        if pgbox.cod == Ty():\n",
    "            ar.update({Box(pgbox.name, n.l, Ty()): qbox})\n",
    "    return Functor(ob_cqmap, ar)"
   ]
  },
  {
   "cell_type": "code",
   "execution_count": 20,
   "id": "intimate-relationship",
   "metadata": {
    "lines_to_next_cell": 2
   },
   "outputs": [],
   "source": [
    "#*****************************************************\n",
    "# Functions to deal with the parametrisation\n",
    "#*****************************************************\n",
    "\n",
    "def paramshapes(vocab_psr):\n",
    "    parshapes = []    \n",
    "    for box in vocab_psr:\n",
    "        dom_type = box.dom\n",
    "        cod_type = box.cod\n",
    "        dom_arity = sum(ob[Ty(factor.name)] for factor in box.dom)\n",
    "        cod_arity = sum(ob[Ty(factor.name)] for factor in box.cod)\n",
    "        if dom_arity == 0 or cod_arity == 0:  # states and effects\n",
    "            arity = max(dom_arity, cod_arity)\n",
    "            assert arity != 0\n",
    "            if arity == 1:\n",
    "                parshapes.append((p_n,))       \n",
    "            if arity != 1:\n",
    "                parshapes.append((depth, arity-1))\n",
    "    return parshapes\n",
    "\n",
    "def randparams(par_shapes):\n",
    "    params = np.array([]) \n",
    "    for i in range(len(par_shapes)):\n",
    "        params = np.concatenate((params, np.ravel(np.random.rand(*par_shapes[i])))) # np.ravel flattens an array\n",
    "    return params \n",
    "\n",
    "def reshape_params(unshaped_pars, par_shapes):\n",
    "    pars_reshaped = [[] for ii in range(len(par_shapes))]\n",
    "    shift = 0\n",
    "    for ss, s in enumerate(par_shapes):\n",
    "        idx0 = 0 + shift\n",
    "        if len(s) == 1:\n",
    "            idx1 = s[0] + shift\n",
    "        elif len(s) == 2:\n",
    "            idx1 = s[0] * s[1] + shift\n",
    "        pars_reshaped[ss] = np.reshape(unshaped_pars[idx0:idx1], s)\n",
    "        if len(s) == 1:\n",
    "            shift += s[0]\n",
    "        elif len(s) == 2:\n",
    "            shift += s[0] * s[1]\n",
    "    return pars_reshaped"
   ]
  },
  {
   "cell_type": "code",
   "execution_count": 21,
   "id": "medieval-transcription",
   "metadata": {
    "lines_to_next_cell": 2,
    "scrolled": true,
    "tags": []
   },
   "outputs": [
    {
     "name": "stdout",
     "output_type": "stream",
     "text": [
      "Number of parameters:     33\n"
     ]
    }
   ],
   "source": [
    "#****************************************\n",
    "# Parameters of the current model\n",
    "#****************************************\n",
    "\n",
    "par_shapes = paramshapes(vocab_psr)\n",
    "rand_unshaped_pars = randparams(par_shapes)\n",
    "rand_shaped_pars = reshape_params(rand_unshaped_pars, par_shapes)\n",
    "\n",
    "print('Number of parameters:    ', len(rand_unshaped_pars))"
   ]
  },
  {
   "cell_type": "code",
   "execution_count": 22,
   "id": "photographic-victim",
   "metadata": {
    "lines_to_next_cell": 2
   },
   "outputs": [
    {
     "name": "stdout",
     "output_type": "stream",
     "text": [
      "morose woman cries.\n",
      "morose >> Id(n) @ cries @ Id(n.l) >> Cup(n, n.r) @ Id(s @ n.l) >> Id(s) @ woman\n",
      "morose woman shouts.\n",
      "morose >> Id(n) @ shouts @ Id(n.l) >> Cup(n, n.r) @ Id(s @ n.l) >> Id(s) @ woman\n",
      "morose man cries.\n",
      "morose >> Id(n) @ cries @ Id(n.l) >> Cup(n, n.r) @ Id(s @ n.l) >> Id(s) @ man\n",
      "morose man shouts.\n",
      "morose >> Id(n) @ shouts @ Id(n.l) >> Cup(n, n.r) @ Id(s @ n.l) >> Id(s) @ man\n",
      "morose kid cries.\n",
      "morose >> Id(n) @ cries @ Id(n.l) >> Cup(n, n.r) @ Id(s @ n.l) >> Id(s) @ kid\n",
      "morose kid shouts.\n",
      "morose >> Id(n) @ shouts @ Id(n.l) >> Cup(n, n.r) @ Id(s @ n.l) >> Id(s) @ kid\n",
      "irascible woman cries.\n",
      "irascible >> Id(n) @ cries @ Id(n.l) >> Cup(n, n.r) @ Id(s @ n.l) >> Id(s) @ woman\n",
      "irascible woman shouts.\n",
      "irascible >> Id(n) @ shouts @ Id(n.l) >> Cup(n, n.r) @ Id(s @ n.l) >> Id(s) @ woman\n",
      "irascible woman snaps.\n",
      "irascible >> Id(n) @ snaps @ Id(n.l) >> Cup(n, n.r) @ Id(s @ n.l) >> Id(s) @ woman\n",
      "irascible man cries.\n",
      "irascible >> Id(n) @ cries @ Id(n.l) >> Cup(n, n.r) @ Id(s @ n.l) >> Id(s) @ man\n",
      "irascible man shouts.\n",
      "irascible >> Id(n) @ shouts @ Id(n.l) >> Cup(n, n.r) @ Id(s @ n.l) >> Id(s) @ man\n",
      "irascible man snaps.\n",
      "irascible >> Id(n) @ snaps @ Id(n.l) >> Cup(n, n.r) @ Id(s @ n.l) >> Id(s) @ man\n",
      "irascible kid cries.\n",
      "irascible >> Id(n) @ cries @ Id(n.l) >> Cup(n, n.r) @ Id(s @ n.l) >> Id(s) @ kid\n",
      "irascible kid shouts.\n",
      "irascible >> Id(n) @ shouts @ Id(n.l) >> Cup(n, n.r) @ Id(s @ n.l) >> Id(s) @ kid\n",
      "irascible kid snaps.\n",
      "irascible >> Id(n) @ snaps @ Id(n.l) >> Cup(n, n.r) @ Id(s @ n.l) >> Id(s) @ kid\n",
      "frightened woman cries.\n",
      "frightened >> Id(n) @ cries @ Id(n.l) >> Cup(n, n.r) @ Id(s @ n.l) >> Id(s) @ woman\n",
      "frightened woman shouts.\n",
      "frightened >> Id(n) @ shouts @ Id(n.l) >> Cup(n, n.r) @ Id(s @ n.l) >> Id(s) @ woman\n",
      "frightened woman snaps.\n",
      "frightened >> Id(n) @ snaps @ Id(n.l) >> Cup(n, n.r) @ Id(s @ n.l) >> Id(s) @ woman\n",
      "frightened man cries.\n",
      "frightened >> Id(n) @ cries @ Id(n.l) >> Cup(n, n.r) @ Id(s @ n.l) >> Id(s) @ man\n",
      "frightened man shouts.\n",
      "frightened >> Id(n) @ shouts @ Id(n.l) >> Cup(n, n.r) @ Id(s @ n.l) >> Id(s) @ man\n",
      "frightened man snaps.\n",
      "frightened >> Id(n) @ snaps @ Id(n.l) >> Cup(n, n.r) @ Id(s @ n.l) >> Id(s) @ man\n",
      "frightened kid cries.\n",
      "frightened >> Id(n) @ cries @ Id(n.l) >> Cup(n, n.r) @ Id(s @ n.l) >> Id(s) @ kid\n",
      "frightened kid shouts.\n",
      "frightened >> Id(n) @ shouts @ Id(n.l) >> Cup(n, n.r) @ Id(s @ n.l) >> Id(s) @ kid\n",
      "frightened kid snaps.\n",
      "frightened >> Id(n) @ snaps @ Id(n.l) >> Cup(n, n.r) @ Id(s @ n.l) >> Id(s) @ kid\n",
      "cheerful woman cries.\n",
      "cheerful >> Id(n) @ cries @ Id(n.l) >> Cup(n, n.r) @ Id(s @ n.l) >> Id(s) @ woman\n",
      "cheerful woman laughs.\n",
      "cheerful >> Id(n) @ laughs @ Id(n.l) >> Cup(n, n.r) @ Id(s @ n.l) >> Id(s) @ woman\n",
      "cheerful woman shouts.\n",
      "cheerful >> Id(n) @ shouts @ Id(n.l) >> Cup(n, n.r) @ Id(s @ n.l) >> Id(s) @ woman\n",
      "cheerful man cries.\n",
      "cheerful >> Id(n) @ cries @ Id(n.l) >> Cup(n, n.r) @ Id(s @ n.l) >> Id(s) @ man\n",
      "cheerful man shouts.\n",
      "cheerful >> Id(n) @ shouts @ Id(n.l) >> Cup(n, n.r) @ Id(s @ n.l) >> Id(s) @ man\n",
      "cheerful man laughs.\n",
      "cheerful >> Id(n) @ laughs @ Id(n.l) >> Cup(n, n.r) @ Id(s @ n.l) >> Id(s) @ man\n",
      "cheerful kid cries.\n",
      "cheerful >> Id(n) @ cries @ Id(n.l) >> Cup(n, n.r) @ Id(s @ n.l) >> Id(s) @ kid\n",
      "cheerful kid shouts.\n",
      "cheerful >> Id(n) @ shouts @ Id(n.l) >> Cup(n, n.r) @ Id(s @ n.l) >> Id(s) @ kid\n",
      "cheerful kid laughs.\n",
      "cheerful >> Id(n) @ laughs @ Id(n.l) >> Cup(n, n.r) @ Id(s @ n.l) >> Id(s) @ kid\n",
      "joyful woman cries.\n",
      "joyful >> Id(n) @ cries @ Id(n.l) >> Cup(n, n.r) @ Id(s @ n.l) >> Id(s) @ woman\n",
      "joyful woman shouts.\n",
      "joyful >> Id(n) @ shouts @ Id(n.l) >> Cup(n, n.r) @ Id(s @ n.l) >> Id(s) @ woman\n",
      "joyful woman laughs.\n",
      "joyful >> Id(n) @ laughs @ Id(n.l) >> Cup(n, n.r) @ Id(s @ n.l) >> Id(s) @ woman\n",
      "joyful man cries.\n",
      "joyful >> Id(n) @ cries @ Id(n.l) >> Cup(n, n.r) @ Id(s @ n.l) >> Id(s) @ man\n",
      "joyful man shouts.\n",
      "joyful >> Id(n) @ shouts @ Id(n.l) >> Cup(n, n.r) @ Id(s @ n.l) >> Id(s) @ man\n",
      "joyful man laughs.\n",
      "joyful >> Id(n) @ laughs @ Id(n.l) >> Cup(n, n.r) @ Id(s @ n.l) >> Id(s) @ man\n",
      "joyful kid cries.\n",
      "joyful >> Id(n) @ cries @ Id(n.l) >> Cup(n, n.r) @ Id(s @ n.l) >> Id(s) @ kid\n",
      "joyful kid shouts.\n",
      "joyful >> Id(n) @ shouts @ Id(n.l) >> Cup(n, n.r) @ Id(s @ n.l) >> Id(s) @ kid\n",
      "joyful kid laughs.\n",
      "joyful >> Id(n) @ laughs @ Id(n.l) >> Cup(n, n.r) @ Id(s @ n.l) >> Id(s) @ kid\n",
      "gloomy woman cries.\n",
      "gloomy >> Id(n) @ cries @ Id(n.l) >> Cup(n, n.r) @ Id(s @ n.l) >> Id(s) @ woman\n",
      "gloomy woman shouts.\n",
      "gloomy >> Id(n) @ shouts @ Id(n.l) >> Cup(n, n.r) @ Id(s @ n.l) >> Id(s) @ woman\n",
      "gloomy man cries.\n",
      "gloomy >> Id(n) @ cries @ Id(n.l) >> Cup(n, n.r) @ Id(s @ n.l) >> Id(s) @ man\n",
      "gloomy man shouts.\n",
      "gloomy >> Id(n) @ shouts @ Id(n.l) >> Cup(n, n.r) @ Id(s @ n.l) >> Id(s) @ man\n",
      "gloomy kid cries.\n",
      "gloomy >> Id(n) @ cries @ Id(n.l) >> Cup(n, n.r) @ Id(s @ n.l) >> Id(s) @ kid\n",
      "gloomy kid shouts.\n",
      "gloomy >> Id(n) @ shouts @ Id(n.l) >> Cup(n, n.r) @ Id(s @ n.l) >> Id(s) @ kid\n",
      "furious woman shouts.\n",
      "furious >> Id(n) @ shouts @ Id(n.l) >> Cup(n, n.r) @ Id(s @ n.l) >> Id(s) @ woman\n",
      "furious woman cries.\n",
      "furious >> Id(n) @ cries @ Id(n.l) >> Cup(n, n.r) @ Id(s @ n.l) >> Id(s) @ woman\n",
      "furious woman snaps.\n",
      "furious >> Id(n) @ snaps @ Id(n.l) >> Cup(n, n.r) @ Id(s @ n.l) >> Id(s) @ woman\n",
      "furious man cries.\n",
      "furious >> Id(n) @ cries @ Id(n.l) >> Cup(n, n.r) @ Id(s @ n.l) >> Id(s) @ man\n",
      "furious man shouts.\n",
      "furious >> Id(n) @ shouts @ Id(n.l) >> Cup(n, n.r) @ Id(s @ n.l) >> Id(s) @ man\n",
      "furious man snaps.\n",
      "furious >> Id(n) @ snaps @ Id(n.l) >> Cup(n, n.r) @ Id(s @ n.l) >> Id(s) @ man\n",
      "furious kid cries.\n",
      "furious >> Id(n) @ cries @ Id(n.l) >> Cup(n, n.r) @ Id(s @ n.l) >> Id(s) @ kid\n",
      "furious kid shouts.\n",
      "furious >> Id(n) @ shouts @ Id(n.l) >> Cup(n, n.r) @ Id(s @ n.l) >> Id(s) @ kid\n",
      "furious kid snaps.\n",
      "furious >> Id(n) @ snaps @ Id(n.l) >> Cup(n, n.r) @ Id(s @ n.l) >> Id(s) @ kid\n",
      "terrified woman cries.\n",
      "terrified >> Id(n) @ cries @ Id(n.l) >> Cup(n, n.r) @ Id(s @ n.l) >> Id(s) @ woman\n",
      "terrified woman shouts.\n",
      "terrified >> Id(n) @ shouts @ Id(n.l) >> Cup(n, n.r) @ Id(s @ n.l) >> Id(s) @ woman\n",
      "terrified woman snaps.\n",
      "terrified >> Id(n) @ snaps @ Id(n.l) >> Cup(n, n.r) @ Id(s @ n.l) >> Id(s) @ woman\n",
      "terrified man cries.\n",
      "terrified >> Id(n) @ cries @ Id(n.l) >> Cup(n, n.r) @ Id(s @ n.l) >> Id(s) @ man\n",
      "terrified man shouts.\n",
      "terrified >> Id(n) @ shouts @ Id(n.l) >> Cup(n, n.r) @ Id(s @ n.l) >> Id(s) @ man\n",
      "terrified man snaps.\n",
      "terrified >> Id(n) @ snaps @ Id(n.l) >> Cup(n, n.r) @ Id(s @ n.l) >> Id(s) @ man\n",
      "terrified kid cries.\n",
      "terrified >> Id(n) @ cries @ Id(n.l) >> Cup(n, n.r) @ Id(s @ n.l) >> Id(s) @ kid\n",
      "terrified kid shouts.\n",
      "terrified >> Id(n) @ shouts @ Id(n.l) >> Cup(n, n.r) @ Id(s @ n.l) >> Id(s) @ kid\n",
      "terrified kid snaps.\n",
      "terrified >> Id(n) @ snaps @ Id(n.l) >> Cup(n, n.r) @ Id(s @ n.l) >> Id(s) @ kid\n",
      "downcast man cries.\n",
      "downcast >> Id(n) @ cries @ Id(n.l) >> Cup(n, n.r) @ Id(s @ n.l) >> Id(s) @ man\n",
      "downcast man shouts.\n",
      "downcast >> Id(n) @ shouts @ Id(n.l) >> Cup(n, n.r) @ Id(s @ n.l) >> Id(s) @ man\n",
      "downcast woman cries.\n",
      "downcast >> Id(n) @ cries @ Id(n.l) >> Cup(n, n.r) @ Id(s @ n.l) >> Id(s) @ woman\n",
      "downcast woman shouts.\n",
      "downcast >> Id(n) @ shouts @ Id(n.l) >> Cup(n, n.r) @ Id(s @ n.l) >> Id(s) @ woman\n",
      "downcast kid cries.\n",
      "downcast >> Id(n) @ cries @ Id(n.l) >> Cup(n, n.r) @ Id(s @ n.l) >> Id(s) @ kid\n",
      "downcast kid shouts.\n",
      "downcast >> Id(n) @ shouts @ Id(n.l) >> Cup(n, n.r) @ Id(s @ n.l) >> Id(s) @ kid\n",
      "miserable man cries.\n",
      "miserable >> Id(n) @ cries @ Id(n.l) >> Cup(n, n.r) @ Id(s @ n.l) >> Id(s) @ man\n",
      "miserable man shouts.\n",
      "miserable >> Id(n) @ shouts @ Id(n.l) >> Cup(n, n.r) @ Id(s @ n.l) >> Id(s) @ man\n",
      "miserable woman cries.\n",
      "miserable >> Id(n) @ cries @ Id(n.l) >> Cup(n, n.r) @ Id(s @ n.l) >> Id(s) @ woman\n",
      "miserable woman shouts.\n",
      "miserable >> Id(n) @ shouts @ Id(n.l) >> Cup(n, n.r) @ Id(s @ n.l) >> Id(s) @ woman\n",
      "miserable kid cries.\n",
      "miserable >> Id(n) @ cries @ Id(n.l) >> Cup(n, n.r) @ Id(s @ n.l) >> Id(s) @ kid\n",
      "miserable kid shouts.\n",
      "miserable >> Id(n) @ shouts @ Id(n.l) >> Cup(n, n.r) @ Id(s @ n.l) >> Id(s) @ kid\n",
      "woman startles woman.\n",
      "startles >> woman @ Id(s @ n.l) >> Id(s) @ woman\n",
      "woman startles man.\n",
      "startles >> woman @ Id(s @ n.l) >> Id(s) @ man\n",
      "woman startles kid.\n",
      "startles >> woman @ Id(s @ n.l) >> Id(s) @ kid\n",
      "woman grieves woman.\n",
      "grieves >> woman @ Id(s @ n.l) >> Id(s) @ woman\n",
      "woman grieves man.\n",
      "grieves >> woman @ Id(s @ n.l) >> Id(s) @ man\n",
      "woman grieves kid.\n",
      "grieves >> woman @ Id(s @ n.l) >> Id(s) @ kid\n",
      "woman entertains woman.\n",
      "entertains >> woman @ Id(s @ n.l) >> Id(s) @ woman\n",
      "woman entertains man.\n",
      "entertains >> woman @ Id(s @ n.l) >> Id(s) @ man\n",
      "woman entertains kid.\n",
      "entertains >> woman @ Id(s @ n.l) >> Id(s) @ kid\n",
      "woman irritates woman.\n",
      "irritates >> woman @ Id(s @ n.l) >> Id(s) @ woman\n",
      "woman irritates man.\n",
      "irritates >> woman @ Id(s @ n.l) >> Id(s) @ man\n",
      "woman irritates kid.\n",
      "irritates >> woman @ Id(s @ n.l) >> Id(s) @ kid\n",
      "man startles woman.\n",
      "startles >> man @ Id(s @ n.l) >> Id(s) @ woman\n",
      "man startles man.\n",
      "startles >> man @ Id(s @ n.l) >> Id(s) @ man\n",
      "man startles kid.\n",
      "startles >> man @ Id(s @ n.l) >> Id(s) @ kid\n",
      "man grieves woman.\n",
      "grieves >> man @ Id(s @ n.l) >> Id(s) @ woman\n",
      "man grieves man.\n",
      "grieves >> man @ Id(s @ n.l) >> Id(s) @ man\n",
      "man grieves kid.\n",
      "grieves >> man @ Id(s @ n.l) >> Id(s) @ kid\n",
      "man entertains woman.\n",
      "entertains >> man @ Id(s @ n.l) >> Id(s) @ woman\n",
      "man entertains man.\n",
      "entertains >> man @ Id(s @ n.l) >> Id(s) @ man\n",
      "man entertains kid.\n",
      "entertains >> man @ Id(s @ n.l) >> Id(s) @ kid\n",
      "man irritates woman.\n",
      "irritates >> man @ Id(s @ n.l) >> Id(s) @ woman\n",
      "man irritates man.\n",
      "irritates >> man @ Id(s @ n.l) >> Id(s) @ man\n",
      "man irritates kid.\n",
      "irritates >> man @ Id(s @ n.l) >> Id(s) @ kid\n",
      "kid startles woman.\n",
      "startles >> kid @ Id(s @ n.l) >> Id(s) @ woman\n",
      "kid startles man.\n",
      "startles >> kid @ Id(s @ n.l) >> Id(s) @ man\n",
      "kid startles kid.\n",
      "startles >> kid @ Id(s @ n.l) >> Id(s) @ kid\n",
      "kid grieves woman.\n",
      "grieves >> kid @ Id(s @ n.l) >> Id(s) @ woman\n",
      "kid grieves man.\n",
      "grieves >> kid @ Id(s @ n.l) >> Id(s) @ man\n",
      "kid grieves kid.\n",
      "grieves >> kid @ Id(s @ n.l) >> Id(s) @ kid\n",
      "kid entertains woman.\n",
      "entertains >> kid @ Id(s @ n.l) >> Id(s) @ woman\n",
      "kid entertains man.\n",
      "entertains >> kid @ Id(s @ n.l) >> Id(s) @ man\n",
      "kid entertains kid.\n",
      "entertains >> kid @ Id(s @ n.l) >> Id(s) @ kid\n",
      "kid irritates woman.\n",
      "irritates >> kid @ Id(s @ n.l) >> Id(s) @ woman\n",
      "kid irritates man.\n",
      "irritates >> kid @ Id(s @ n.l) >> Id(s) @ man\n",
      "kid irritates kid.\n",
      "irritates >> kid @ Id(s @ n.l) >> Id(s) @ kid\n"
     ]
    }
   ],
   "source": [
    "# Print the quantum circuit for each sentence\n",
    "\n",
    "func = F(rand_shaped_pars)\n",
    "\n",
    "for sentstr in data_new_psr_dict:\n",
    "    print(sentstr)\n",
    "    print(data_new_psr_dict[sentstr])\n",
    "    #func(data_new_psr_dict[sentstr]).draw(draw_box_labels=True, figsize=(5, 5))"
   ]
  },
  {
   "cell_type": "markdown",
   "id": "cutting-aerospace",
   "metadata": {},
   "source": [
    "## 3. Create training and test dataset\n",
    "\n",
    "The next step is to divide our dataset into training and test data, so we can perform the classification using a supervised quantum machine learning technique. We need the data, which are the quantum circuits associated to each sentences, and the labels, that encode the sentiment. In this case the labels are the four possible quantum states that can be obtained from measuring a 2-qubit quantum circuit:\n",
    "\n",
    "- Happy: $ \\ 0 \\ \\rightarrow \\ |00\\rangle = [1,0,0,0] \\ \\rightarrow \\ p_{00}=1$,\n",
    "- Sad: $ \\ 1 \\ \\rightarrow \\ |01\\rangle = [0,1,0,0] \\ \\rightarrow \\ p_{01}=1$,\n",
    "- Angry: $ \\ 2 \\ \\rightarrow \\ |10\\rangle = [0,0,1,0] \\ \\rightarrow \\ p_{10}=1$,\n",
    "- Scared: $ \\ 3 \\ \\rightarrow \\ |11\\rangle = [0,0,0,1] \\ \\rightarrow \\ p_{11}=1$."
   ]
  },
  {
   "cell_type": "code",
   "execution_count": 23,
   "id": "professional-sussex",
   "metadata": {},
   "outputs": [],
   "source": [
    "from sklearn.model_selection import train_test_split\n",
    "\n",
    "psr_diagrams = []\n",
    "psr_diagrams_dict = {}\n",
    "psr_labels = []\n",
    "sentences = []\n",
    "\n",
    "for sentstr in data_new_psr_dict.keys():\n",
    "    sentences.append(sentstr)\n",
    "    diagram = data_new_psr_dict[sentstr]\n",
    "    psr_diagrams.append(diagram)\n",
    "    psr_diagrams_dict[sentstr] = diagram\n",
    "    label = int(labels_dict[sentstr])\n",
    "    psr_labels.append(label)\n",
    "\n",
    "train_data_psr, test_data_psr, orig_train_labels, orig_test_labels = \\\n",
    "    train_test_split(psr_diagrams, psr_labels, test_size=0.25, random_state=42)\n",
    "train_sent, test_sent, train_labels_sent, test_labels_sent = \\\n",
    "    train_test_split(sentences, psr_labels, test_size=0.25, random_state=42)"
   ]
  },
  {
   "cell_type": "code",
   "execution_count": 24,
   "id": "lightweight-finder",
   "metadata": {},
   "outputs": [],
   "source": [
    "def num_to_vec(x):\n",
    "    if x:\n",
    "        return [0,1] #True\n",
    "    else:\n",
    "        return [1,0]\n",
    "\n",
    "data_sets_labels = {}\n",
    "for i, cla in enumerate(['happy', 'sad', 'angry', 'scared']):\n",
    "    data_sets_labels[cla] = {}\n",
    "    \n",
    "    tr_labels = [num_to_vec(i == t) for t in orig_train_labels]\n",
    "    data_sets_labels[cla]['train'] = tr_labels\n",
    "    \n",
    "    te_labels = [num_to_vec(i == t) for t in orig_test_labels]\n",
    "    data_sets_labels[cla]['test'] = te_labels"
   ]
  },
  {
   "cell_type": "markdown",
   "id": "usual-coordination",
   "metadata": {},
   "source": [
    "## 4. Qiskit Implementation"
   ]
  },
  {
   "cell_type": "code",
   "execution_count": 25,
   "id": "british-specification",
   "metadata": {},
   "outputs": [],
   "source": [
    "from qiskit import BasicAer, execute, ClassicalRegister\n",
    "from pytket.extensions.qiskit import tk_to_qiskit\n",
    "from qiskit.quantum_info import Statevector\n",
    "\n",
    "\n",
    "\n",
    "backend = BasicAer.get_backend('qasm_simulator')\n",
    "max_shots = 8192\n",
    "\n",
    "n_iterations = 500"
   ]
  },
  {
   "cell_type": "code",
   "execution_count": 26,
   "id": "saving-reggae",
   "metadata": {},
   "outputs": [
    {
     "data": {
      "image/png": "[encoded data removed]",
      "text/plain": [
       "<Figure size 432x288 with 1 Axes>"
      ]
     },
     "metadata": {
      "needs_background": "light"
     },
     "output_type": "display_data"
    }
   ],
   "source": [
    "func(data_new_psr_dict['morose woman cries.']).draw()"
   ]
  },
  {
   "cell_type": "code",
   "execution_count": 27,
   "id": "undefined-commissioner",
   "metadata": {},
   "outputs": [
    {
     "data": {
      "image/png": "[encoded data removed]",
      "text/plain": [
       "<Figure size 432x288 with 1 Axes>"
      ]
     },
     "metadata": {
      "needs_background": "light"
     },
     "output_type": "display_data"
    }
   ],
   "source": [
    "func(data_new_psr_dict['terrified man shouts.']).draw()"
   ]
  },
  {
   "cell_type": "code",
   "execution_count": 28,
   "id": "controlling-aircraft",
   "metadata": {},
   "outputs": [
    {
     "data": {
      "text/plain": [
       "'tra_l'"
      ]
     },
     "execution_count": 28,
     "metadata": {},
     "output_type": "execute_result"
    }
   ],
   "source": [
    "sent_type['joyful kid entertains woman.']"
   ]
  },
  {
   "cell_type": "code",
   "execution_count": 29,
   "id": "democratic-journalism",
   "metadata": {},
   "outputs": [],
   "source": [
    "def get_qiskit_results(circ, sent, transpile=False, retries=10):\n",
    "    assert not transpile, \"transpile not implemented yet\"\n",
    "    \n",
    "        \n",
    "    s_type = sent_type[sent]\n",
    "    \n",
    "    if s_type == 'int':\n",
    "        n_qubits = 4\n",
    "        post = 2\n",
    "    elif s_type == 'tra':\n",
    "        n_qubits = 3\n",
    "        post = 1\n",
    "    elif s_type == 'tra_l':\n",
    "        n_qubits = 5\n",
    "        post = 2\n",
    "    else:\n",
    "        assert s_type == 'tra_r'\n",
    "        n_qubits = 5\n",
    "        post = 1\n",
    "    \n",
    "        \n",
    "    qc = tk_to_qiskit(circ.to_tk())\n",
    "    \n",
    "\n",
    "    \n",
    "    qc.remove_final_measurements()\n",
    "    \n",
    "    state_dict = Statevector(qc).to_dict()\n",
    "    \n",
    "    selections = ['0' * post + val + '0' * (n_qubits - post - 1) for val in ['0', '1']]\n",
    "    \n",
    "    #print(selections, state_dict, sent, s_type)\n",
    "    \n",
    "    return [np.abs(state_dict[sel])**2 for sel in selections]\n",
    "    \n",
    "    \n",
    "\n",
    "def parse_results(results, eff='0'):\n",
    "    ks = [k for k in results.keys() if k.split()[1] == eff]\n",
    "    post_selected_results = {k.split()[0]:v for (k,v) in results.items() if k in ks}\n",
    "    \n",
    "    if '0' not in post_selected_results:\n",
    "        post_selected_results['0'] = 0\n",
    "    if '1' not in post_selected_results:\n",
    "        post_selected_results['1'] = 0\n",
    "        \n",
    "    total = post_selected_results['0'] + post_selected_results['1']\n",
    "    \n",
    "    assert total > 0, 'total was 0 after postselection - try running with more shots'\n",
    "    \n",
    "    \n",
    "    return [post_selected_results['0']/total,  post_selected_results['1']/total]\n",
    "    "
   ]
  },
  {
   "cell_type": "code",
   "execution_count": 30,
   "id": "twenty-fruit",
   "metadata": {},
   "outputs": [
    {
     "name": "stdout",
     "output_type": "stream",
     "text": [
      "\n",
      "\n",
      "calibrating happy\n",
      "training\n",
      "took 2869.752683162689\n",
      "\n",
      "\n",
      "calibrating sad\n",
      "training\n",
      "took 2733.3361887931824\n",
      "\n",
      "\n",
      "calibrating angry\n",
      "training\n",
      "took 2842.050894021988\n",
      "\n",
      "\n",
      "calibrating scared\n",
      "training\n",
      "took 2793.037092924118\n"
     ]
    }
   ],
   "source": [
    "from qiskit.algorithms.optimizers import SPSA\n",
    "import time\n",
    "\n",
    "global_costs = []\n",
    "\n",
    "def old_cost(unshaped_params):\n",
    "    probs = get_probs(unshaped_params)\n",
    "    cross_entropies = np.array([np.sum(train_labels[s] * np.log2(pred_labels_distrs[s])) for s in range(len(train_labels))])\n",
    "    return -1 / len(train_data_psr) * np.sum(cross_entropies) \n",
    "\n",
    "\n",
    "def cost_ce(unshaped_params):\n",
    "    \n",
    "    func = F(reshape_params(unshaped_params, par_shapes))\n",
    "    \n",
    "    circs = [func(diag) for diag in train_data_psr]\n",
    "    \n",
    "    results = np.array([get_qiskit_results(circs[i], train_sent[i]) for i in range(len(train_sent))])\n",
    "\n",
    "    \n",
    "    results_tweaked = [np.abs(np.array(res) - 1e-9) for res in results] #from before\n",
    "    pred_labels_distrs = [res.flatten() / np.sum(res) for res in results_tweaked]\n",
    "    \n",
    "    cross_entropies = np.array([np.sum(train_labels[s] * np.log2(pred_labels_distrs[s])) for s in range(len(train_labels))])\n",
    "    c = -1 / len(train_data_psr) * np.sum(cross_entropies)\n",
    "    \n",
    "    global_costs.append(c)\n",
    "    \n",
    "    return c\n",
    "\n",
    "def cost_te(unshaped_params):\n",
    "    func = F(reshape_params(unshaped_params, par_shapes))\n",
    "    \n",
    "    circs = [func(diag) for diag in train_data_psr]\n",
    "    \n",
    "    results = np.array([get_qiskit_results(circs[i], train_sent[i]) for i in range(len(train_sent))])\n",
    "\n",
    "    \n",
    "    results_tweaked = [np.abs(np.array(res) - 1e-9) for res in results]\n",
    "    pred_labels_distrs = [res.flatten() / np.sum(res) for res in results_tweaked]\n",
    "    \n",
    "    error = 0\n",
    "    for i, r in enumerate(pred_labels_distrs):\n",
    "        error += int(np.argmax(r) != np.argmax(train_labels[i]))\n",
    "        \n",
    "\n",
    "    return error/len(pred_labels_distrs)\n",
    "    \n",
    "\n",
    "\n",
    "rand_unshaped_pars = randparams(par_shapes)\n",
    "num_vars = len(rand_unshaped_pars)\n",
    "\n",
    "\n",
    "\n",
    "bounds = [[0.0, 1.0] for _ in range(len(rand_unshaped_pars))]\n",
    "\n",
    "ps = {}\n",
    "\n",
    "n_iterations = 1000\n",
    "\n",
    "for cla in ['happy', 'sad', 'angry', 'scared']:\n",
    "    \n",
    "    \n",
    "    rand_unshaped_pars = randparams(par_shapes)\n",
    "\n",
    "\n",
    "    train_labels = data_sets_labels[cla]['train']\n",
    "    test_labels = data_sets_labels[cla]['test']\n",
    "\n",
    "\n",
    "\n",
    "\n",
    "    a = time.time()\n",
    "    opt = SPSA(maxiter=n_iterations)\n",
    "    print(\"\\n\\ncalibrating\", cla)\n",
    "    opt.calibrate(cost_ce, initial_point=rand_unshaped_pars)\n",
    "    print(\"training\")\n",
    "    global_costs = []\n",
    "    o = opt.optimize(num_vars, cost_ce, initial_point=rand_unshaped_pars, variable_bounds=bounds)#, gradient_function=grad_func) \n",
    "    ps[cla] = [o, global_costs.copy()]\n",
    "    print(\"took\", time.time() - a)\n"
   ]
  },
  {
   "cell_type": "code",
   "execution_count": 31,
   "id": "legendary-integer",
   "metadata": {},
   "outputs": [
    {
     "data": {
      "text/plain": [
       "array([-1.15554938,  2.26378109, -0.01118651, ...,  1.60182342,\n",
       "        4.11351814,  1.22107876])"
      ]
     },
     "execution_count": 31,
     "metadata": {},
     "output_type": "execute_result"
    }
   ],
   "source": [
    "ps['happy'][0][0]"
   ]
  },
  {
   "cell_type": "code",
   "execution_count": 36,
   "id": "brilliant-sampling",
   "metadata": {},
   "outputs": [],
   "source": [
    "final_train_predictions = [(0,'') for _ in range(len(orig_train_labels))] # list of tuples of the form (probability, class)\n",
    "final_test_predictions = [(0,'') for _ in range(len(orig_test_labels))]\n",
    "\n",
    "test_predictions_dict = {}\n",
    "\n",
    "individual_train_predictions = {}\n",
    "individual_test_predictions = {}\n",
    "classes = ['happy', 'sad', 'angry', 'scared']\n",
    "for j, cla in enumerate(classes):\n",
    "    #params = final_params[cla]\n",
    "    params = ps[cla][0][0]\n",
    "    func = F(reshape_params(params, par_shapes))\n",
    "    \n",
    "    \n",
    "    train_data = train_data_psr\n",
    "    #train_data = data_sets[cla]['train']\n",
    "    \n",
    "    train_labels = data_sets_labels[cla]['train']\n",
    "    test_labels = data_sets_labels[cla]['test']\n",
    "    \n",
    "    \n",
    "    final_train_circuits = [func(diag) for diag in train_data_psr]\n",
    "    train_results = [get_qiskit_results(final_train_circuits[i], train_sent[i]) for i in range(len(train_sent))]\n",
    "\n",
    "    final_test_circuits = [func(diag) for diag in test_data_psr]\n",
    "    test_results = [get_qiskit_results(final_test_circuits[i], test_sent[i]) for i in range(len(test_sent))]\n",
    "\n",
    "    train_results_tweaked = [np.abs(np.array(res) - 1e-9) for res in train_results]\n",
    "    test_results_tweaked = [np.abs(np.array(res) - 1e-9) for res in test_results]\n",
    "    pred_train_results = [res.flatten() / np.sum(res) for res in train_results_tweaked]\n",
    "    pred_test_results = [res.flatten() / np.sum(res) for res in test_results_tweaked]\n",
    "    \n",
    "    \n",
    "    test_predictions_dict[cla] = ([np.argmax(r) for r in pred_test_results], test_labels)\n",
    "    \n",
    "    \n",
    "    \n",
    "    #Since each tuple (p, j) in these lists represents a probability that sentence i is in class j, this update keeps \n",
    "    #track of the most likely prediction so far\n",
    "    final_train_predictions = [max(final_train_predictions[i], (pred_train_results[i][1], j)) for i in range(len(pred_train_results))]\n",
    "    final_test_predictions = [max(final_test_predictions[i], (pred_test_results[i][1], j)) for i in range(len(pred_test_results))]\n",
    "    \n",
    "    individual_train_predictions[cla] = [np.argmax(pred) for pred in pred_train_results]\n",
    "    individual_test_predictions[cla] = [np.argmax(pred) for pred in pred_test_results]"
   ]
  },
  {
   "cell_type": "code",
   "execution_count": 37,
   "id": "pediatric-apache",
   "metadata": {},
   "outputs": [
    {
     "name": "stdout",
     "output_type": "stream",
     "text": [
      "\n",
      "\n",
      "for happy : train accuracy = 0.8352941176470589\n",
      "for happy : test accuracy = 0.8620689655172413\n",
      "\n",
      "\n",
      "for sad : train accuracy = 0.6941176470588235\n",
      "for sad : test accuracy = 0.6206896551724138\n",
      "\n",
      "\n",
      "for angry : train accuracy = 0.788235294117647\n",
      "for angry : test accuracy = 0.7931034482758621\n",
      "\n",
      "\n",
      "for scared : train accuracy = 0.9647058823529412\n",
      "for scared : test accuracy = 1.0\n"
     ]
    }
   ],
   "source": [
    "#individual accuracy\n",
    "\n",
    "for cla in classes:\n",
    "    train_pred = individual_train_predictions[cla]\n",
    "    train_actual = data_sets_labels[cla]['train']\n",
    "    \n",
    "    acc = [train_pred[i] == np.argmax(train_actual[i]) for i in range(len(train_pred))]\n",
    "    print(\"\\n\\nfor\", cla, \": train accuracy =\", sum(acc)/len(acc))\n",
    "    \n",
    "\n",
    "    test_pred = individual_test_predictions[cla]\n",
    "    test_actual = data_sets_labels[cla]['test']\n",
    "    \n",
    "    acc = [test_pred[i] == np.argmax(test_actual[i]) for i in range(len(test_pred))]\n",
    "    print(\"for\", cla, \": test accuracy =\", sum(acc)/len(acc))\n",
    "    \n",
    "    "
   ]
  },
  {
   "cell_type": "code",
   "execution_count": 38,
   "id": "subsequent-cowboy",
   "metadata": {},
   "outputs": [
    {
     "name": "stdout",
     "output_type": "stream",
     "text": [
      "\n",
      "\n",
      " for happy \n",
      " [[23  0]\n",
      " [ 4  2]]\n",
      "\n",
      "\n",
      " for sad \n",
      " [[12  5]\n",
      " [ 6  6]]\n",
      "\n",
      "\n",
      " for angry \n",
      " [[19  4]\n",
      " [ 2  4]]\n",
      "\n",
      "\n",
      " for scared \n",
      " [[24  0]\n",
      " [ 0  5]]\n"
     ]
    },
    {
     "data": {
      "text/plain": [
       "array([[ 2,  4,  0,  0],\n",
       "       [ 0, 10,  2,  0],\n",
       "       [ 0,  1,  5,  0],\n",
       "       [ 0,  0,  0,  5]])"
      ]
     },
     "execution_count": 38,
     "metadata": {},
     "output_type": "execute_result"
    }
   ],
   "source": [
    "from sklearn.metrics import confusion_matrix\n",
    "for cla in classes:\n",
    "    \n",
    "    print(\"\\n\\n for\", cla, \"\\n\", confusion_matrix([np.argmax(t) for t in test_predictions_dict[cla][1]], test_predictions_dict[cla][0])) #true, pred\n",
    "    \n",
    "confusion_matrix(orig_test_labels, [r[1] for r in final_test_predictions])"
   ]
  },
  {
   "cell_type": "code",
   "execution_count": 39,
   "id": "streaming-invasion",
   "metadata": {},
   "outputs": [
    {
     "name": "stdout",
     "output_type": "stream",
     "text": [
      "Correct overall predictions (train): 0.7647058823529411\n",
      "Correct overall predictions (test): 0.7586206896551724\n"
     ]
    }
   ],
   "source": [
    "correct = 0\n",
    "for i, res in enumerate(final_train_predictions):\n",
    "    pred_result = res[1]\n",
    "    train_result = orig_train_labels[i]\n",
    "    #print(train_sent[i])\n",
    "    #print(res.flatten())\n",
    "    #print(pred_result,train_result)\n",
    "    if train_result == pred_result:\n",
    "        correct += 1\n",
    "    #print(f'Result: {train_array, train_result}, Predicted result: {res, pred_result}')\n",
    "print('Correct overall predictions (train):',correct/len(train_results_tweaked))\n",
    "\n",
    "correct = 0\n",
    "for i, res in enumerate(final_test_predictions):\n",
    "    pred_result = res[1]\n",
    "    test_result = orig_test_labels[i]\n",
    "    if test_result == pred_result:\n",
    "        correct += 1\n",
    "print('Correct overall predictions (test):',correct/len(test_results_tweaked))"
   ]
  },
  {
   "cell_type": "code",
   "execution_count": 40,
   "id": "rocky-sacramento",
   "metadata": {},
   "outputs": [],
   "source": [
    "pickle.dump(ps, open(\"sentiment_analysis_qiskit_1vall.p\", \"wb\"))"
   ]
  },
  {
   "cell_type": "markdown",
   "id": "interstate-concord",
   "metadata": {},
   "source": [
    "#### Plotting results"
   ]
  },
  {
   "cell_type": "code",
   "execution_count": 70,
   "id": "incredible-canyon",
   "metadata": {},
   "outputs": [
    {
     "data": {
      "image/png": "[encoded data removed]",
      "text/plain": [
       "<Figure size 1080x720 with 4 Axes>"
      ]
     },
     "metadata": {
      "needs_background": "light"
     },
     "output_type": "display_data"
    }
   ],
   "source": [
    "fig, axs = plt.subplots(2,2, figsize=(15,10))\n",
    "import matplotlib.pyplot as plt\n",
    "\n",
    "colours = ['blue', 'red', 'orange', 'green']\n",
    "\n",
    "for i in range(4):\n",
    "    axs[i//2, i%2].plot(ps[classes[i]][1][51:], color=colours[i]) #excluding the first 51 values since they are used for calibraiton\n",
    "    axs[i//2, i%2].set_title(classes[i])\n",
    "\n",
    "    axs[i//2, i%2].set_xlabel('iterations')\n",
    "    axs[i//2, i%2].set_ylabel('cost')\n",
    "    axs[i//2, i%2].set_ylim(0,2.5)\n"
   ]
  },
  {
   "cell_type": "code",
   "execution_count": null,
   "id": "muslim-russian",
   "metadata": {},
   "outputs": [],
   "source": []
  }
 ],
 "metadata": {
  "kernelspec": {
   "display_name": "Python 3",
   "language": "python",
   "name": "python3"
  },
  "language_info": {
   "codemirror_mode": {
    "name": "ipython",
    "version": 3
   },
   "file_extension": ".py",
   "mimetype": "text/x-python",
   "name": "python",
   "nbconvert_exporter": "python",
   "pygments_lexer": "ipython3",
   "version": "3.8.5"
  },
  "toc": {
   "base_numbering": 1,
   "nav_menu": {},
   "number_sections": true,
   "sideBar": true,
   "skip_h1_title": false,
   "title_cell": "Table of Contents",
   "title_sidebar": "Contents",
   "toc_cell": false,
   "toc_position": {},
   "toc_section_display": true,
   "toc_window_display": false
  },
  "varInspector": {
   "cols": {
    "lenName": 16,
    "lenType": 16,
    "lenVar": 40
   },
   "kernels_config": {
    "python": {
     "delete_cmd_postfix": "",
     "delete_cmd_prefix": "del ",
     "library": "var_list.py",
     "varRefreshCmd": "print(var_dic_list())"
    },
    "r": {
     "delete_cmd_postfix": ") ",
     "delete_cmd_prefix": "rm(",
     "library": "var_list.r",
     "varRefreshCmd": "cat(var_dic_list()) "
    }
   },
   "types_to_exclude": [
    "module",
    "function",
    "builtin_function_or_method",
    "instance",
    "_Feature"
   ],
   "window_display": false
  }
 },
 "nbformat": 4,
 "nbformat_minor": 5
}
