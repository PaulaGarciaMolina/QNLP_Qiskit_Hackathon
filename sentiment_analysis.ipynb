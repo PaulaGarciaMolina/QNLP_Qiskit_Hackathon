{
 "cells": [
  {
   "cell_type": "markdown",
   "id": "2f6c4c43-6dda-4e5c-b712-1664e3bd5a8b",
   "metadata": {},
   "source": [
    "# Sentiment analysis\n",
    "\n",
    "Sentiment analysis is a NLP technique to determine the sentiment of a sentence. In this implementation, we will focuse on determining the sentiment of the subject of the subject or object or the sentence.\n",
    "\n",
    "Here I propose some possible sentences for our dataset, indicating where the meaning is encoded.\n",
    "\n",
    "- Sensitive man cries. (sensitive)\n",
    "- Irascible woman shouts. (irascible)\n",
    "- Frightened woman shouts. (frightened)\n",
    "- Kid laughs. (laughs)\n",
    "- Kid is cheerful. (cheerful)\n",
    "- Man is gloomy. (gloomy)\n",
    "- Young woman is furious. (furious)\n",
    "- Old man is terrified. (terrified)\n",
    "- Young man snaps. (snaps)\n",
    "- Kid startles old man. (startles)\n",
    "- Young woman grieves man. (grieves)\n",
    "...\n",
    "\n",
    "\n",
    "| Nouns | Verbs | Adjectives |\n",
    "| --- | --- | --- |\n",
    "| Man | is | sensitive |\n",
    "| Woman | laughs | irascible |\n",
    "| Kid | cries | frightened |\n",
    "|  | shouts | cheerful |\n",
    "|  | snaps | gloomy |\n",
    "|  | grieves | furius |\n",
    "|  | startles | terrified |\n",
    "|  |  | old |\n",
    "|  |  | young |\n",
    "\n",
    "The proposed vocabulary has 19 words and three different kind of sentences:\n",
    "- (Adj +) Subject + Verb\n",
    "- (Adj +) Subject + Verb + (Adj +) Object\n",
    "- (Adj +) Subject + Verb + Adj"
   ]
  },
  {
   "cell_type": "markdown",
   "id": "54c5f1d7-79fe-445d-871a-50e094dbd3a1",
   "metadata": {},
   "source": [
    "## 1. Create dataset\n",
    "\n",
    "The first step is to create a dataset using the presented vocabulary. We have to store the words in DisCoPy's Word objects, encoding their meaning (name) and their grammar (codomain). Then, we introduce the grammar of the allowed sentences and create all the possible grammatical sentences. The next step is to assign a sentiment to each sentence. However, there are sentences that although they are grammatically correct, their meaning makes no sense, so we would have to remove them. "
   ]
  },
  {
   "cell_type": "markdown",
   "id": "7ed95e93-72af-4640-bf86-8eec487d21ac",
   "metadata": {},
   "source": [
    "### 1.1. Define the vocabulary\n",
    "\n",
    "The first step to create a dataset is to define the words, their meaning and the word type. We have four three types of words: nouns, adjectives, verbs. We also distinguish three different types of verbs: transitive, intransitive and attributive. In the case of the attributive verbs ('is' in our vocabulary) we are going to treat the sentence as a noun, as discussed in https://arxiv.org/pdf/1904.03478.pdf. This makes sense as the attributive verbs are a special type of verbs that are used to attribute a quality to the subject of the sentence. For example, the sentence 'woman is gloomy' has the same meaning as 'gloomy woman', so we can consider it as a noun. As we are aware of this, we will directly create this adj + noun constructs to account for the attributive sentences, so we will not create a Word accounting for the verb 'is'."
   ]
  },
  {
   "cell_type": "code",
   "execution_count": 1,
   "id": "45028fd5-3495-4323-92cc-e61c995458a8",
   "metadata": {},
   "outputs": [],
   "source": [
    "import numpy as np\n",
    "import pickle"
   ]
  },
  {
   "cell_type": "code",
   "execution_count": 2,
   "id": "8da3236f-58cb-4ab1-a510-eb8777eeeeba",
   "metadata": {},
   "outputs": [],
   "source": [
    "from discopy import Ty, Word # Import the classes for the type of word and for the word\n",
    "\n",
    "s, n = Ty('s'), Ty('n') # Define the types s and n\n",
    "nphr, adj, tv, iv, vphr = Ty('NP'), Ty('ADJ'), Ty('TV'), Ty('IV'), Ty('VP')\n",
    "\n",
    "# Define the words (notice that we include both meaning and grammar)\n",
    "\n",
    "# nouns\n",
    "man, woman, kid = Word('man', n), Word('woman', n), Word('kid', n)\n",
    "# adjectives\n",
    "sensitive, irascible = Word('sensitive', n @ n.l), Word('irascible', n @ n.l)\n",
    "frightened, cheerful = Word('frightened', n @ n.l), Word('cheerful', n @ n.l)\n",
    "gloomy, furious = Word('gloomy', n @ n.l), Word('furious', n @ n.l)\n",
    "terrified, old = Word('terrified', n @ n.l), Word('old', n @ n.l)\n",
    "young = Word('young', n @ n.l)\n",
    "# Intransitive verbs\n",
    "cries, shouts = Word('cries', n.r @ s), Word('shouts', n.r @ s)\n",
    "laughs, snaps = Word('laughs', n.r @ s), Word('snaps', n.r @ s)\n",
    "# Transitive verbs\n",
    "grieves, startles = Word('grieves', n.r @ s @ n.l), Word('startles', n.r @ s @ n.l)\n",
    "# The verb \"is\" is considered as a spyder that connects the subject and the attribute of\n",
    "# the sentence, so instead of subj + is + attribute we construct a structure \n",
    "# adj (attribute) + subj which is in fact a noun.\n",
    "nouns = [man, woman, kid]\n",
    "adjectives = [sensitive, irascible, frightened, cheerful, gloomy, furious, terrified, \\\n",
    "             old, young]\n",
    "int_verbs = [cries, shouts, laughs, snaps]\n",
    "t_verbs = [grieves, startles]\n",
    "\n",
    "vocab = nouns + int_verbs + t_verbs"
   ]
  },
  {
   "cell_type": "markdown",
   "id": "ebd89cf0-b350-4873-8796-f5f810e97918",
   "metadata": {},
   "source": [
    "### 1.2. Define the grammar\n",
    "\n",
    "In this dataset we are going to consider the following structures to construct the sentences:\n",
    "\n",
    "- noun + att. verb + adj -> adj + noun\n",
    "- adj + noun + int. verb\n",
    "- noun + t. verb + noun\n",
    "\n",
    "Why these structures? It depends on the carrier of the meaning. For the transitive verbs chosen, is he verb itself the ones that carries the meaning of the sentence. However, for the first and second structures, we rely on the adjectives to do that. We could include more types of sentences but we prefer to focus on three different types. Let us see an example of each type of sentence with its DisCoCat diagram.\n",
    "\n",
    "- Attributive sentence"
   ]
  },
  {
   "cell_type": "code",
   "execution_count": 3,
   "id": "9201630a-4d04-498f-9a6c-3fe5f0b6b64c",
   "metadata": {},
   "outputs": [
    {
     "data": {
      "image/png": "[encoded data removed]",
      "text/plain": [
       "<Figure size 432x288 with 1 Axes>"
      ]
     },
     "metadata": {
      "needs_background": "light"
     },
     "output_type": "display_data"
    }
   ],
   "source": [
    "from discopy import Cup, Id, pregroup\n",
    "\n",
    "grammar = Id(n) @ Cup(n.l, n)\n",
    "sentence = gloomy @ woman >> grammar\n",
    "pregroup.draw(sentence)"
   ]
  },
  {
   "cell_type": "markdown",
   "id": "de844197-681a-41f3-ae34-9653dc54e9ac",
   "metadata": {},
   "source": [
    "- Intransitive sentence"
   ]
  },
  {
   "cell_type": "code",
   "execution_count": 4,
   "id": "4221236d-1291-4209-969c-64e61ed4a5a0",
   "metadata": {},
   "outputs": [
    {
     "data": {
      "image/png": "[encoded data removed]",
      "text/plain": [
       "<Figure size 432x288 with 1 Axes>"
      ]
     },
     "metadata": {
      "needs_background": "light"
     },
     "output_type": "display_data"
    }
   ],
   "source": [
    "grammar =  Id(n) @ Cup(n.l, n) @ Id(n.r @ s) >> Cup(n, n.r) @ Id(s) >> Id(s)\n",
    "sentence = old @ woman @ laughs >> grammar\n",
    "pregroup.draw(sentence)"
   ]
  },
  {
   "cell_type": "markdown",
   "id": "234bcd80-b39a-409f-9dfd-ab372a188fba",
   "metadata": {},
   "source": [
    "- Transitive sentence"
   ]
  },
  {
   "cell_type": "code",
   "execution_count": 5,
   "id": "3a7af9b2-707a-413f-8108-347c8ac5bf47",
   "metadata": {},
   "outputs": [
    {
     "data": {
      "image/png": "[encoded data removed]",
      "text/plain": [
       "<Figure size 432x288 with 1 Axes>"
      ]
     },
     "metadata": {
      "needs_background": "light"
     },
     "output_type": "display_data"
    }
   ],
   "source": [
    "grammar =  Cup(n, n.r) @ Id(s) @ Cup(n.l, n)\n",
    "sentence = woman @ grieves @ kid >> grammar\n",
    "pregroup.draw(sentence)"
   ]
  },
  {
   "cell_type": "markdown",
   "id": "dbc88026-01d4-45f2-9580-95012247e397",
   "metadata": {},
   "source": [
    "Now we have seen how the grammatical structure of each type of sentence is, so we are ready to obtain all the grammatical sentences that we can construct with them with the vocabulary that we are using. "
   ]
  },
  {
   "cell_type": "code",
   "execution_count": 6,
   "id": "88c223e3-f12a-4da2-a2b2-b1a4ab3a6dcc",
   "metadata": {},
   "outputs": [],
   "source": [
    "from discopy import Diagram\n",
    "from discopy.grammar import draw\n",
    "\n",
    "# Store the grammatical structures in a dictionary \n",
    "\n",
    "grammar_dict = {\n",
    "    'ADJ_N' : Id(n) @ Cup(n.l, n),\n",
    "    'ADJ_N_IV' : Id(n) @ Cup(n.l, n) @ Id(n.r @ s) >> Cup(n, n.r) @ Id(s) >> Id(s),\n",
    "    'N_TV_N': Cup(n, n.r) @ Id(s) @ Cup(n.l, n)}\n",
    "                                                                          \n",
    "\n",
    "# Create parsing (grammatical analysis) dictionary where the grammatical sentences\n",
    "# are the keys and the associated values are the diagrams (words + grammar)\n",
    "\n",
    "data_psr = {}\n",
    "\n",
    "# Attributive sentences\n",
    "parsing_att = {\"{} {}.\".format(adj, noun): adj @ noun >> grammar_dict['ADJ_N']\n",
    "            for adj in adjectives for noun in nouns}\n",
    "sentences_att = list(parsing_att.keys())\n",
    "for sentence in sentences_att:\n",
    "    diagram = parsing_att[sentence]\n",
    "    data_psr[sentence] = parsing_att[sentence]\n",
    "    \n",
    "# Intransitive sentences\n",
    "parsing_int = {\"{} {} {}.\".format(adj, noun, int_verb): adj @ noun @ int_verb >> grammar_dict['ADJ_N_IV']\n",
    "            for adj in adjectives for noun in nouns for int_verb in int_verbs}\n",
    "sentences_int = list(parsing_int.keys())\n",
    "for sentence in sentences_int:\n",
    "    diagram = parsing_int[sentence]\n",
    "    data_psr[sentence] = parsing_int[sentence]\n",
    "\n",
    "# Transitive sentences\n",
    "parsing_t = {\"{} {} {}.\".format(subj, t_verb, obj):  subj @ t_verb @ obj >> grammar_dict['N_TV_N']\n",
    "            for subj in nouns for t_verb in t_verbs for obj in nouns}\n",
    "sentences_t = list(parsing_t.keys())\n",
    "for sentence in sentences_t:\n",
    "    diagram = parsing_t[sentence]\n",
    "    data_psr[sentence] = parsing_t[sentence]"
   ]
  },
  {
   "cell_type": "markdown",
   "id": "c15d7f0a-f71f-41f0-bc05-f5170ebc5e2b",
   "metadata": {},
   "source": [
    "Now, we have the dataset with the sentences and their corresponding meaning and grammar. The next step is to design the corresponding quantum circuits to determine the sentiment for each sentence. We are aiming to distinguish between four different emotions: happy (0), sad (1), angry (2), scared (3). However, some sentences of the dataset cannot be clearly classified according to this criteria (for example, 'Man is old'). Therefore, the next step is to manually modify the dataset so all the sentences can be classified according to this criteria. In order to do that we will create a .txt file and assign the corresponding class to the viable sentences."
   ]
  },
  {
   "cell_type": "code",
   "execution_count": 7,
   "id": "851f29a4-3b5a-483a-a857-dc938c666277",
   "metadata": {},
   "outputs": [],
   "source": [
    "from discopy import Diagram\n",
    "from discopy.grammar import draw\n",
    "\n",
    "# Store the grammatical structures in a dictionary \n",
    "\n",
    "grammar_dict = {\n",
    "    'ADJ_N' : Id(n) @ Cup(n.l, n),\n",
    "    'ADJ_N_IV' : Id(n) @ Cup(n.l, n) @ Id(n.r @ s) >> Cup(n, n.r) @ Id(s) >> Id(s),\n",
    "    'N_TV_N': Cup(n, n.r) @ Id(s) @ Cup(n.l, n)}\n",
    "                                                                          \n",
    "\n",
    "# Create parsing (grammatical analysis) dictionary where the grammatical sentences\n",
    "# are the keys and the associated values are the diagrams (words + grammar)\n",
    "data_file = open('.data.txt', 'w')\n",
    "\n",
    "# Attributive sentences\n",
    "parsing_att = {\"{} {}.\".format(adj, noun): adj @ noun >> grammar_dict['ADJ_N']\n",
    "            for adj in adjectives for noun in nouns}\n",
    "sentences_att = list(parsing_att.keys())\n",
    "for sentence in sentences_att:\n",
    "    with open('./data.txt', 'a') as f:\n",
    "        f.write(sentence + '_att \\n')\n",
    "    \n",
    "# Intransitive sentences\n",
    "parsing_int = {\"{} {} {}.\".format(adj, noun, int_verb): adj @ noun @ int_verb >> grammar_dict['ADJ_N_IV']\n",
    "            for adj in adjectives for noun in nouns for int_verb in int_verbs}\n",
    "sentences_int = list(parsing_int.keys())\n",
    "for sentence in sentences_int:\n",
    "    with open('./data.txt', 'a') as f:\n",
    "        f.write(sentence + '_int \\n')\n",
    "\n",
    "# Transitive sentences\n",
    "parsing_tra = {\"{} {} {}.\".format(subj, t_verb, obj):  subj @ t_verb @ obj >> grammar_dict['N_TV_N']\n",
    "            for subj in nouns for t_verb in t_verbs for obj in nouns}\n",
    "sentences_t = list(parsing_t.keys())\n",
    "for sentence in sentences_t:\n",
    "    with open('./data.txt', 'a') as f:\n",
    "        f.write(sentence + '_tra \\n')\n",
    "        \n",
    "data_file.close()"
   ]
  },
  {
   "cell_type": "markdown",
   "id": "736cae5c-8e4e-4f94-b6c4-3b8dda00cdf9",
   "metadata": {},
   "source": [
    "### 1.3. Processed the data"
   ]
  },
  {
   "cell_type": "code",
   "execution_count": 8,
   "id": "2db0bef0-79e0-4550-adc1-67b9c7d29ca9",
   "metadata": {},
   "outputs": [],
   "source": [
    "with open('processed_data.txt') as f:\n",
    "    data = f.readlines()"
   ]
  },
  {
   "cell_type": "code",
   "execution_count": 9,
   "id": "3232bef8-9462-419e-8bb6-057818964355",
   "metadata": {},
   "outputs": [],
   "source": [
    "labels_dict = {}\n",
    "data_psr_dict = {}\n",
    "sent_type = {}\n",
    "for sentence in data:\n",
    "    sentstr = sentence[:-7]\n",
    "    if sentence[-6:-3] == 'att':\n",
    "        diagram = parsing_att[sentstr]\n",
    "        data_psr_dict[sentstr] = diagram\n",
    "        labels_dict[sentstr] = sentence[-2]\n",
    "        sent_type[sentstr] = 'att'\n",
    "    elif sentence[-6:-3] == 'int':\n",
    "        diagram = parsing_int[sentstr]\n",
    "        data_psr_dict[sentstr] = diagram\n",
    "        labels_dict[sentstr] = sentence[-2]\n",
    "        sent_type[sentstr] = 'int'\n",
    "    elif sentence[-6:-3] == 'tra':\n",
    "        diagram = parsing_tra[sentstr]\n",
    "        data_psr_dict[sentstr] = diagram\n",
    "        labels_dict[sentstr] = sentence[-2]\n",
    "        sent_type[sentstr] = 'tra'"
   ]
  },
  {
   "cell_type": "code",
   "execution_count": 10,
   "id": "fbb2b5e2-b7a8-423d-9c06-83e677461359",
   "metadata": {},
   "outputs": [
    {
     "name": "stdout",
     "output_type": "stream",
     "text": [
      "Number of elements for each sentiment\n",
      "Happy:  14\n",
      "Sad:  24\n",
      "Angry:  21\n",
      "Scared:  27\n",
      "Total 86\n"
     ]
    }
   ],
   "source": [
    "c0 = 0\n",
    "c1 = 0\n",
    "c2 = 0\n",
    "c3 = 0\n",
    "for value in labels_dict.values():\n",
    "    if value == '0':\n",
    "        c0 +=1\n",
    "    elif value == '1':\n",
    "        c1 += 1\n",
    "    elif value == '2':\n",
    "        c2 += 1\n",
    "    elif value == '3':\n",
    "        c3 += 1\n",
    "print('Number of elements for each sentiment')\n",
    "print('Happy: ', c0)\n",
    "print('Sad: ', c1)\n",
    "print('Angry: ', c2)\n",
    "print('Scared: ', c3)\n",
    "print('Total', len(data_psr_dict))"
   ]
  },
  {
   "cell_type": "markdown",
   "id": "fc2013b7-1412-43cb-8906-bcc53040e20e",
   "metadata": {},
   "source": [
    "Now we have our dataset! The only problem left is the fact that the cups used in the diagrams are too resource consumming. Luckily, it is possible to remove them by transforming the states into effects (we are just doing this with the nouns as in https://github.com/CQCL/qnlp_lorenz_etal_2021_resources). Let us see some examples"
   ]
  },
  {
   "cell_type": "markdown",
   "id": "06897c80-99f9-4107-a1f1-f8685d6695db",
   "metadata": {},
   "source": [
    "- Attributive sentence"
   ]
  },
  {
   "cell_type": "code",
   "execution_count": 11,
   "id": "7debc726-e634-499c-bc02-48fc9189b5ac",
   "metadata": {},
   "outputs": [
    {
     "data": {
      "image/png": "[encoded data removed]",
      "text/plain": [
       "<Figure size 432x288 with 1 Axes>"
      ]
     },
     "metadata": {
      "needs_background": "light"
     },
     "output_type": "display_data"
    }
   ],
   "source": [
    "from discopy import Cap, Box\n",
    "woman2 = Box('woman', n.l, Ty())\n",
    "words_new = (Cap(n, n.l)) >> (gloomy) @ Id(n) @ woman2\n",
    "sentence = words_new >> grammar_dict['ADJ_N']\n",
    "sentence = sentence.normal_form()\n",
    "sentence.draw()"
   ]
  },
  {
   "cell_type": "markdown",
   "id": "bcd64d93-31a5-4489-ae4e-a5f5ec20aac3",
   "metadata": {},
   "source": [
    "- Intransitive sentence"
   ]
  },
  {
   "cell_type": "code",
   "execution_count": 12,
   "id": "09fb5377-e724-4dab-87a4-eba1d6099802",
   "metadata": {},
   "outputs": [],
   "source": [
    "woman2 = Box('woman', n.l, Ty())\n",
    "words_new = (Cap(n, n.l)) >> (old @ Id(n) @ woman2 @ laughs)\n",
    "sentence = words_new >> grammar_dict['ADJ_N_IV']\n",
    "sentence = sentence.normal_form()"
   ]
  },
  {
   "cell_type": "code",
   "execution_count": 13,
   "id": "1409dc89-ddd6-4ed4-ad44-378261cd1360",
   "metadata": {},
   "outputs": [
    {
     "data": {
      "image/png": "[encoded data removed]",
      "text/plain": [
       "<Figure size 432x288 with 1 Axes>"
      ]
     },
     "metadata": {
      "needs_background": "light"
     },
     "output_type": "display_data"
    }
   ],
   "source": [
    "sentence.draw()"
   ]
  },
  {
   "cell_type": "markdown",
   "id": "49ea3a52-ff45-4eeb-a293-1b0526600610",
   "metadata": {},
   "source": [
    "- Transitive sentence"
   ]
  },
  {
   "cell_type": "code",
   "execution_count": 14,
   "id": "90fd3ce7-7daf-4286-979e-2637c4c20f92",
   "metadata": {},
   "outputs": [
    {
     "data": {
      "image/png": "[encoded data removed]",
      "text/plain": [
       "<Figure size 432x288 with 1 Axes>"
      ]
     },
     "metadata": {
      "needs_background": "light"
     },
     "output_type": "display_data"
    }
   ],
   "source": [
    "woman2 = Box('woman', n.r, Ty())\n",
    "kid2 = Box('kid', n.l, Ty())\n",
    "words_new = (Cap(n.r, n) @ Cap(n, n.l)) >> (woman2 @ Id(n) @ grieves @ Id(n) @ kid2)\n",
    "sentence = words_new >> grammar_dict['N_TV_N']\n",
    "sentence = sentence.normal_form()\n",
    "sentence.draw()"
   ]
  },
  {
   "cell_type": "markdown",
   "id": "3a255406-a567-45e0-8ca8-ffb38f718f2e",
   "metadata": {},
   "source": [
    "Let us apply this to our entire dataset."
   ]
  },
  {
   "cell_type": "code",
   "execution_count": 15,
   "id": "7b4d324d-802b-49b0-8997-7ccb8f3d9f3c",
   "metadata": {},
   "outputs": [],
   "source": [
    "data_new_psr_dict = {}\n",
    "for sentstr in data_psr_dict.keys():\n",
    "    num_words = len(sentstr.split(' '))\n",
    "    words = data_psr_dict[sentstr].boxes[:num_words]\n",
    "    if sent_type[sentstr] == 'att':\n",
    "        noun = Box(words[1].name, n.l, Ty())\n",
    "        words_new = (Cap(n, n.l)) >> (words[0]) @ Id(n) @ noun\n",
    "        sentence = words_new >> grammar_dict['ADJ_N']\n",
    "        data_new_psr_dict[sentstr] = sentence.normal_form()\n",
    "    elif sent_type[sentstr] == 'int':\n",
    "        noun = Box(words[1].name, n.l, Ty())\n",
    "        words_new = (Cap(n, n.l)) >> (words[0] @ Id(n) @ noun @ words[2])\n",
    "        sentence = words_new >> grammar_dict['ADJ_N_IV']\n",
    "        data_new_psr_dict[sentstr] = sentence.normal_form()\n",
    "    elif sent_type[sentstr] == 'tra':\n",
    "        noun1 = Box(words[0].name, n.r, Ty())\n",
    "        noun2 = Box(words[2].name, n.l, Ty())\n",
    "        words_new = (Cap(n.r, n) @ Cap(n, n.l)) >> (noun1 @ Id(n) @ words[1] @ Id(n) @ noun2)\n",
    "        sentence = words_new >> grammar_dict['N_TV_N']\n",
    "        data_new_psr_dict[sentstr] = sentence.normal_form()"
   ]
  },
  {
   "cell_type": "markdown",
   "id": "deb208ba-7e14-40d6-a6b7-c501b4e7f636",
   "metadata": {},
   "source": [
    "The final step before the implementation of the quantum circuit is to redefine the vocabulary according to the new domain and codamain for the nouns as effects."
   ]
  },
  {
   "cell_type": "code",
   "execution_count": 16,
   "id": "c199d3d0-d3a7-4fd9-8feb-76736afe10f4",
   "metadata": {},
   "outputs": [],
   "source": [
    "vocab_psr = []\n",
    "for word in vocab:\n",
    "    if word.cod == Ty('n'):\n",
    "        vocab_psr.append(Box(word.name, n.r, Ty()))   # n.l case is dealt with in definition of quantum functor\n",
    "    else:\n",
    "        vocab_psr.append(word)"
   ]
  }
 ],
 "metadata": {
  "kernelspec": {
   "display_name": "Python 3",
   "language": "python",
   "name": "python3"
  },
  "language_info": {
   "codemirror_mode": {
    "name": "ipython",
    "version": 3
   },
   "file_extension": ".py",
   "mimetype": "text/x-python",
   "name": "python",
   "nbconvert_exporter": "python",
   "pygments_lexer": "ipython3",
   "version": "3.9.4"
  }
 },
 "nbformat": 4,
 "nbformat_minor": 5
}
